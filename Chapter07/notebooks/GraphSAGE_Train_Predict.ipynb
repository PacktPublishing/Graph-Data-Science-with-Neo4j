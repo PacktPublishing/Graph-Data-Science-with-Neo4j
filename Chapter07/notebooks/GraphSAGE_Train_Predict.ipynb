{
 "cells": [
  {
   "cell_type": "markdown",
   "id": "44b87f2b",
   "metadata": {},
   "source": [
    "# GraphSAGE and the GDS model catalog"
   ]
  },
  {
   "cell_type": "code",
   "execution_count": 1,
   "id": "1384ee92",
   "metadata": {},
   "outputs": [],
   "source": [
    "# update PYTHONPATH to be able to load utils module\n",
    "import sys\n",
    "import os\n",
    "sys.path.append(os.path.join(os.curdir, \"..\"))\n",
    "# sys.path"
   ]
  },
  {
   "cell_type": "code",
   "execution_count": 2,
   "id": "c3db3dd5",
   "metadata": {},
   "outputs": [],
   "source": [
    "from graphdatascience import GraphDataScience\n",
    "gds = GraphDataScience(\"bolt://localhost:7687\", auth=(\"neo4j\", \"admin123\"))"
   ]
  },
  {
   "cell_type": "code",
   "execution_count": 3,
   "id": "870637d3",
   "metadata": {},
   "outputs": [
    {
     "data": {
      "text/plain": [
       "Graph({'graphName': 'pGraphAll', 'nodeCount': 657, 'relationshipCount': 28694, 'database': 'neo4j', 'configuration': {}, 'schema': {'graphProperties': {}, 'relationships': {'RELATED_TO': {}}, 'nodes': {'Train': {'x0': 'Float (DefaultValue(NaN), PERSISTENT)'}}}, 'memoryUsage': '347 KiB'})"
      ]
     },
     "execution_count": 3,
     "metadata": {},
     "output_type": "execute_result"
    }
   ],
   "source": [
    "from utils import create_projected_graph\n",
    "projected_graph_object = create_projected_graph(\n",
    "    gds,\n",
    "    graph_name=\"pGraphAll\",\n",
    "    node_spec=\"Train\",\n",
    "    relationship_spec={\n",
    "        \"RELATED_TO\": {\"orientation\": \"UNDIRECTED\"}\n",
    "    },\n",
    "    nodeProperties=[\"x0\"],\n",
    ")\n",
    "projected_graph_object"
   ]
  },
  {
   "cell_type": "code",
   "execution_count": 4,
   "id": "2873c00e",
   "metadata": {},
   "outputs": [
    {
     "data": {
      "text/plain": [
       "['Train']"
      ]
     },
     "execution_count": 4,
     "metadata": {},
     "output_type": "execute_result"
    }
   ],
   "source": [
    "projected_graph_object.node_labels()"
   ]
  },
  {
   "cell_type": "code",
   "execution_count": 5,
   "id": "10b93858",
   "metadata": {},
   "outputs": [
    {
     "data": {
      "text/plain": [
       "657"
      ]
     },
     "execution_count": 5,
     "metadata": {},
     "output_type": "execute_result"
    }
   ],
   "source": [
    "projected_graph_object.node_count()"
   ]
  },
  {
   "cell_type": "code",
   "execution_count": 6,
   "id": "360794bb",
   "metadata": {},
   "outputs": [
    {
     "data": {
      "text/plain": [
       "Train    [x0]\n",
       "dtype: object"
      ]
     },
     "execution_count": 6,
     "metadata": {},
     "output_type": "execute_result"
    }
   ],
   "source": [
    "projected_graph_object.node_properties()"
   ]
  },
  {
   "cell_type": "code",
   "execution_count": 7,
   "id": "09bce4e7",
   "metadata": {},
   "outputs": [
    {
     "data": {
      "text/plain": [
       "0"
      ]
     },
     "execution_count": 7,
     "metadata": {},
     "output_type": "execute_result"
    }
   ],
   "source": [
    "r = gds.graph.nodeProperties.stream(projected_graph_object, [\"x0\"])\n",
    "r.propertyValue.isnull().sum()"
   ]
  },
  {
   "cell_type": "code",
   "execution_count": 8,
   "id": "d2fa528b",
   "metadata": {},
   "outputs": [],
   "source": [
    "model_name = \"myGS\"\n",
    "try:\n",
    "    m = gds.model.get(model_name)\n",
    "    gds.beta.model.drop(m)\n",
    "except ValueError:\n",
    "    pass"
   ]
  },
  {
   "cell_type": "code",
   "execution_count": 9,
   "id": "32465e7b",
   "metadata": {
    "scrolled": false
   },
   "outputs": [
    {
     "data": {
      "text/plain": [
       "modelInfo        {'modelName': 'myGS', 'modelType': 'graphSage'...\n",
       "configuration    {'maxIterations': 10, 'negativeSampleWeight': ...\n",
       "trainMillis                                                     46\n",
       "Name: 0, dtype: object"
      ]
     },
     "execution_count": 9,
     "metadata": {},
     "output_type": "execute_result"
    }
   ],
   "source": [
    "model_object, res = gds.beta.graphSage.train(\n",
    "    projected_graph_object,\n",
    "    modelName=model_name,\n",
    "    featureProperties=[\"x0\"],\n",
    "    # nodeLabels=[\"Train\"],\n",
    "    # relationshipTypes=[\"RELATED_TO_TRAIN\"],\n",
    "    learningRate=0.0001\n",
    ")\n",
    "res"
   ]
  },
  {
   "cell_type": "code",
   "execution_count": 10,
   "id": "f98a926b",
   "metadata": {},
   "outputs": [
    {
     "data": {
      "text/html": [
       "<div>\n",
       "<style scoped>\n",
       "    .dataframe tbody tr th:only-of-type {\n",
       "        vertical-align: middle;\n",
       "    }\n",
       "\n",
       "    .dataframe tbody tr th {\n",
       "        vertical-align: top;\n",
       "    }\n",
       "\n",
       "    .dataframe thead th {\n",
       "        text-align: right;\n",
       "    }\n",
       "</style>\n",
       "<table border=\"1\" class=\"dataframe\">\n",
       "  <thead>\n",
       "    <tr style=\"text-align: right;\">\n",
       "      <th></th>\n",
       "      <th>modelInfo</th>\n",
       "      <th>trainConfig</th>\n",
       "      <th>graphSchema</th>\n",
       "      <th>loaded</th>\n",
       "      <th>stored</th>\n",
       "      <th>creationTime</th>\n",
       "      <th>shared</th>\n",
       "    </tr>\n",
       "  </thead>\n",
       "  <tbody>\n",
       "    <tr>\n",
       "      <th>0</th>\n",
       "      <td>{'modelName': 'myGS', 'modelType': 'graphSage'...</td>\n",
       "      <td>{'maxIterations': 10, 'negativeSampleWeight': ...</td>\n",
       "      <td>{'graphProperties': {}, 'relationships': {'REL...</td>\n",
       "      <td>True</td>\n",
       "      <td>False</td>\n",
       "      <td>2023-01-04T21:05:20.544807241+01:00</td>\n",
       "      <td>False</td>\n",
       "    </tr>\n",
       "  </tbody>\n",
       "</table>\n",
       "</div>"
      ],
      "text/plain": [
       "                                           modelInfo  \\\n",
       "0  {'modelName': 'myGS', 'modelType': 'graphSage'...   \n",
       "\n",
       "                                         trainConfig  \\\n",
       "0  {'maxIterations': 10, 'negativeSampleWeight': ...   \n",
       "\n",
       "                                         graphSchema  loaded  stored  \\\n",
       "0  {'graphProperties': {}, 'relationships': {'REL...    True   False   \n",
       "\n",
       "                          creationTime  shared  \n",
       "0  2023-01-04T21:05:20.544807241+01:00   False  "
      ]
     },
     "execution_count": 10,
     "metadata": {},
     "output_type": "execute_result"
    }
   ],
   "source": [
    "gds.beta.model.list()"
   ]
  },
  {
   "cell_type": "code",
   "execution_count": 11,
   "id": "b967360d",
   "metadata": {},
   "outputs": [
    {
     "data": {
      "text/plain": [
       "{'modelName': 'myGS',\n",
       " 'modelType': 'graphSage',\n",
       " 'metrics': {'ranIterationsPerEpoch': [2],\n",
       "  'iterationLossesPerEpoch': [[26.578488557733984, 26.578488141015168]],\n",
       "  'didConverge': True,\n",
       "  'ranEpochs': 1,\n",
       "  'epochLosses': [26.578488141015168]}}"
      ]
     },
     "execution_count": 11,
     "metadata": {},
     "output_type": "execute_result"
    }
   ],
   "source": [
    "res[\"modelInfo\"]"
   ]
  },
  {
   "cell_type": "code",
   "execution_count": 12,
   "id": "3795aeb4",
   "metadata": {},
   "outputs": [
    {
     "data": {
      "text/plain": [
       "{'maxIterations': 10,\n",
       " 'negativeSampleWeight': 20,\n",
       " 'searchDepth': 5,\n",
       " 'aggregator': 'MEAN',\n",
       " 'activationFunction': 'SIGMOID',\n",
       " 'penaltyL2': 0.0,\n",
       " 'learningRate': 0.0001,\n",
       " 'concurrency': 4,\n",
       " 'jobId': '859e0db6-0562-4892-bfef-373be9448c40',\n",
       " 'modelName': 'myGS',\n",
       " 'embeddingDimension': 64,\n",
       " 'nodeLabels': ['*'],\n",
       " 'sudo': False,\n",
       " 'featureProperties': ['x0'],\n",
       " 'sampleSizes': [25, 10],\n",
       " 'relationshipTypes': ['*'],\n",
       " 'batchSize': 100,\n",
       " 'epochs': 1,\n",
       " 'tolerance': 0.0001}"
      ]
     },
     "execution_count": 12,
     "metadata": {},
     "output_type": "execute_result"
    }
   ],
   "source": [
    "res[\"configuration\"]"
   ]
  },
  {
   "cell_type": "code",
   "execution_count": 13,
   "id": "cd08dd02",
   "metadata": {},
   "outputs": [
    {
     "data": {
      "text/plain": [
       "Graph({'graphName': 'pgraphTest', 'nodeCount': 143, 'relationshipCount': 1148, 'database': 'neo4j', 'configuration': {}, 'schema': {'graphProperties': {}, 'relationships': {'RELATED_TO': {}}, 'nodes': {'Test': {'x0': 'Float (DefaultValue(NaN), PERSISTENT)'}}}, 'memoryUsage': '337 KiB'})"
      ]
     },
     "execution_count": 13,
     "metadata": {},
     "output_type": "execute_result"
    }
   ],
   "source": [
    "graph_object = create_projected_graph(\n",
    "    gds,\n",
    "    \"pgraphTest\",\n",
    "    node_spec=\"Test\",\n",
    "    relationship_spec={\n",
    "        \"RELATED_TO\": {\"orientation\": \"UNDIRECTED\"}\n",
    "    },\n",
    "    nodeProperties=[\"x0\"]\n",
    ")\n",
    "graph_object"
   ]
  },
  {
   "cell_type": "code",
   "execution_count": 14,
   "id": "74274c07",
   "metadata": {},
   "outputs": [
    {
     "data": {
      "text/html": [
       "<div>\n",
       "<style scoped>\n",
       "    .dataframe tbody tr th:only-of-type {\n",
       "        vertical-align: middle;\n",
       "    }\n",
       "\n",
       "    .dataframe tbody tr th {\n",
       "        vertical-align: top;\n",
       "    }\n",
       "\n",
       "    .dataframe thead th {\n",
       "        text-align: right;\n",
       "    }\n",
       "</style>\n",
       "<table border=\"1\" class=\"dataframe\">\n",
       "  <thead>\n",
       "    <tr style=\"text-align: right;\">\n",
       "      <th></th>\n",
       "      <th>nodeId</th>\n",
       "      <th>embedding</th>\n",
       "    </tr>\n",
       "  </thead>\n",
       "  <tbody>\n",
       "    <tr>\n",
       "      <th>0</th>\n",
       "      <td>0</td>\n",
       "      <td>[0.12822204244043253, 0.14201885703254316, 0.1...</td>\n",
       "    </tr>\n",
       "    <tr>\n",
       "      <th>1</th>\n",
       "      <td>1</td>\n",
       "      <td>[0.12822966528605215, 0.14197938554132972, 0.1...</td>\n",
       "    </tr>\n",
       "    <tr>\n",
       "      <th>2</th>\n",
       "      <td>4</td>\n",
       "      <td>[0.12818660338318555, 0.14220192182019373, 0.1...</td>\n",
       "    </tr>\n",
       "    <tr>\n",
       "      <th>3</th>\n",
       "      <td>6</td>\n",
       "      <td>[0.12827174843249659, 0.14176119902706652, 0.1...</td>\n",
       "    </tr>\n",
       "    <tr>\n",
       "      <th>4</th>\n",
       "      <td>11</td>\n",
       "      <td>[0.1283371496022736, 0.14142064097600568, 0.14...</td>\n",
       "    </tr>\n",
       "  </tbody>\n",
       "</table>\n",
       "</div>"
      ],
      "text/plain": [
       "   nodeId                                          embedding\n",
       "0       0  [0.12822204244043253, 0.14201885703254316, 0.1...\n",
       "1       1  [0.12822966528605215, 0.14197938554132972, 0.1...\n",
       "2       4  [0.12818660338318555, 0.14220192182019373, 0.1...\n",
       "3       6  [0.12827174843249659, 0.14176119902706652, 0.1...\n",
       "4      11  [0.1283371496022736, 0.14142064097600568, 0.14..."
      ]
     },
     "execution_count": 14,
     "metadata": {},
     "output_type": "execute_result"
    }
   ],
   "source": [
    "embeddings = gds.beta.graphSage.stream(\n",
    "    graph_object,\n",
    "    modelName=model_name,\n",
    ")\n",
    "embeddings.head()"
   ]
  },
  {
   "cell_type": "code",
   "execution_count": 15,
   "id": "c12d837f",
   "metadata": {
    "scrolled": true
   },
   "outputs": [
    {
     "data": {
      "text/plain": [
       "[0.12822204244043253,\n",
       " 0.14201885703254316,\n",
       " 0.14337842580713483,\n",
       " 0.10906009836638815,\n",
       " 0.11329364502908318,\n",
       " 0.09775632106885747,\n",
       " 0.1358488616673177,\n",
       " 0.14166659481229685,\n",
       " 0.10273297060169308,\n",
       " 0.12046625581163048,\n",
       " 0.11136253475926539,\n",
       " 0.11215539171667141,\n",
       " 0.1374422012228958,\n",
       " 0.13201772169432527,\n",
       " 0.14472751600143516,\n",
       " 0.11861066676266395,\n",
       " 0.12206160435195654,\n",
       " 0.1650379071212499,\n",
       " 0.13096667516510924,\n",
       " 0.09250742508903725,\n",
       " 0.10666508855894363,\n",
       " 0.1415336648663157,\n",
       " 0.10894266689338013,\n",
       " 0.11317287233183546,\n",
       " 0.1261122546802996,\n",
       " 0.12183432749609334,\n",
       " 0.11375221876827496,\n",
       " 0.10364208754779175,\n",
       " 0.11375195913094087,\n",
       " 0.1528732130841031,\n",
       " 0.12512127359261058,\n",
       " 0.12266410571365242,\n",
       " 0.10405246008789001,\n",
       " 0.13438465693732068,\n",
       " 0.11459772956569617,\n",
       " 0.11531091947213526,\n",
       " 0.1358971218288696,\n",
       " 0.14749963285394108,\n",
       " 0.14553271505099458,\n",
       " 0.13367663366531965,\n",
       " 0.10787394515056332,\n",
       " 0.11556337567707373,\n",
       " 0.12026832462762913,\n",
       " 0.12062729597897467,\n",
       " 0.10255079547558363,\n",
       " 0.14163528337820536,\n",
       " 0.13465086751906225,\n",
       " 0.1357610290561446,\n",
       " 0.11611857052648217,\n",
       " 0.144539225718083,\n",
       " 0.08932659393827723,\n",
       " 0.13352836983596458,\n",
       " 0.11466328608558864,\n",
       " 0.11306305212903638,\n",
       " 0.138136960552894,\n",
       " 0.138991542488066,\n",
       " 0.14120955053018264,\n",
       " 0.1106043115528556,\n",
       " 0.12353710788732104,\n",
       " 0.12317627747703634,\n",
       " 0.11925830192752265,\n",
       " 0.13317964742071578,\n",
       " 0.12674912410421554,\n",
       " 0.11129454731891887]"
      ]
     },
     "execution_count": 15,
     "metadata": {},
     "output_type": "execute_result"
    }
   ],
   "source": [
    "embeddings.loc[0][\"embedding\"]"
   ]
  },
  {
   "cell_type": "code",
   "execution_count": null,
   "id": "35f8925f",
   "metadata": {},
   "outputs": [],
   "source": []
  }
 ],
 "metadata": {
  "kernelspec": {
   "display_name": "Python 3 (ipykernel)",
   "language": "python",
   "name": "python3"
  },
  "language_info": {
   "codemirror_mode": {
    "name": "ipython",
    "version": 3
   },
   "file_extension": ".py",
   "mimetype": "text/x-python",
   "name": "python",
   "nbconvert_exporter": "python",
   "pygments_lexer": "ipython3",
   "version": "3.10.6"
  }
 },
 "nbformat": 4,
 "nbformat_minor": 5
}
