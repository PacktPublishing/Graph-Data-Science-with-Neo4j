{
 "cells": [
  {
   "cell_type": "markdown",
   "id": "ae5dbda7",
   "metadata": {},
   "source": [
    "# PageRank algorithm"
   ]
  },
  {
   "cell_type": "code",
   "execution_count": 1,
   "id": "f41743db",
   "metadata": {},
   "outputs": [],
   "source": [
    "import warnings\n",
    "import networkx as nx"
   ]
  },
  {
   "cell_type": "code",
   "execution_count": 2,
   "id": "29f3f5d5",
   "metadata": {},
   "outputs": [
    {
     "data": {
      "image/png": "[encoded data removed]",
      "text/plain": [
       "<Figure size 432x288 with 1 Axes>"
      ]
     },
     "metadata": {},
     "output_type": "display_data"
    }
   ],
   "source": [
    "G = nx.DiGraph()\n",
    "G.add_node(\"A\")\n",
    "G.add_node(\"B\")\n",
    "G.add_node(\"C\")\n",
    "G.add_node(\"D\")\n",
    "\n",
    "G.add_edge(\"A\", \"B\", weight=1)\n",
    "G.add_edge(\"A\", \"D\", weight=1)\n",
    "G.add_edge(\"B\", \"A\", weight=1)\n",
    "G.add_edge(\"C\", \"B\", weight=1)\n",
    "G.add_edge(\"D\", \"B\", weight=1)\n",
    "\n",
    "nx.draw_networkx(G)"
   ]
  },
  {
   "cell_type": "code",
   "execution_count": 6,
   "id": "aee8aee1",
   "metadata": {},
   "outputs": [
    {
     "data": {
      "text/plain": [
       "{'A': 1.500217529208212,\n",
       " 'B': 1.570034235426248,\n",
       " 'C': 0.15000000000000002,\n",
       " 'D': 0.7797482353655394}"
      ]
     },
     "execution_count": 6,
     "metadata": {},
     "output_type": "execute_result"
    }
   ],
   "source": [
    "def page_rank(G, dp=0.85, max_iterations=20, tolerance=0.01):\n",
    "    # initialization\n",
    "    pr_values = {\n",
    "        node: 1.0\n",
    "        for node in G.nodes\n",
    "    }\n",
    "    \n",
    "    # degree and number of nodes\n",
    "    out_degree = G.out_degree()\n",
    "    number_of_nodes = G.number_of_nodes()\n",
    "    \n",
    "    iteration_number = 0\n",
    "    while True:\n",
    "        \n",
    "        # copy PR values from previous iteration\n",
    "        old_pr_values = dict(pr_values)\n",
    "        # PR values for this iteration, initialized to 1-dp\n",
    "        pr_values = {\n",
    "            node: 1 - dp\n",
    "            for node in G.nodes\n",
    "        }\n",
    "        \n",
    "        # iterate over all nodes\n",
    "        for node in G.nodes:\n",
    "            # send message to neighbors\n",
    "            for neighbor in G.neighbors(node):\n",
    "                pr_values[neighbor] += dp * old_pr_values[node] / out_degree[node]\n",
    "        \n",
    "        # check stop criteria\n",
    "        convergence = sum(abs(pr_values[n] - old_pr_values[n]) for n in G.nodes) / number_of_nodes\n",
    "        if convergence < tolerance:\n",
    "            break\n",
    "        iteration_number += 1\n",
    "        if iteration_number > max_iterations:\n",
    "            warnings.warn(\"Max number of iterations reached\")\n",
    "            break\n",
    "    # print(iteration_number)\n",
    "    return pr_values\n",
    "\n",
    "\n",
    "page_rank(G, max_iterations=10)"
   ]
  },
  {
   "cell_type": "code",
   "execution_count": null,
   "id": "741f3010",
   "metadata": {},
   "outputs": [],
   "source": []
  }
 ],
 "metadata": {
  "kernelspec": {
   "display_name": "Python 3 (ipykernel)",
   "language": "python",
   "name": "python3"
  },
  "language_info": {
   "codemirror_mode": {
    "name": "ipython",
    "version": 3
   },
   "file_extension": ".py",
   "mimetype": "text/x-python",
   "name": "python",
   "nbconvert_exporter": "python",
   "pygments_lexer": "ipython3",
   "version": "3.10.6"
  }
 },
 "nbformat": 4,
 "nbformat_minor": 5
}
