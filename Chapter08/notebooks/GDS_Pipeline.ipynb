{
 "cells": [
  {
   "cell_type": "markdown",
   "id": "d5120da0",
   "metadata": {},
   "source": [
    "# Training a GDS Pipeline and Making Predictions\n",
    "\n",
    "Building, configuring and training a node classification pipeline in the GDS."
   ]
  },
  {
   "cell_type": "code",
   "execution_count": null,
   "id": "a9ddd475",
   "metadata": {},
   "outputs": [],
   "source": [
    "import sys\n",
    "import os\n",
    "sys.path.append(os.path.join(os.curdir, \"..\"))\n",
    "# sys.path\n",
    "from utils import create_projected_graph"
   ]
  },
  {
   "cell_type": "code",
   "execution_count": null,
   "id": "806de530",
   "metadata": {},
   "outputs": [],
   "source": [
    "from graphdatascience import GraphDataScience\n",
    "gds = GraphDataScience(\"bolt://localhost:7687\", auth=(\"neo4j\", \"admin\"))"
   ]
  },
  {
   "cell_type": "markdown",
   "id": "cf16969d",
   "metadata": {},
   "source": [
    "## Training Pipeline"
   ]
  },
  {
   "cell_type": "code",
   "execution_count": null,
   "id": "3edcc52f",
   "metadata": {},
   "outputs": [],
   "source": [
    "projected_graph_object = create_projected_graph(\n",
    "    gds,\n",
    "    graph_name=\"graph-clf\",\n",
    "    node_spec={\n",
    "        \"Train\": {\n",
    "            \"label\": \"MainTrainDownSampled\",\n",
    "            \"properties\": {\n",
    "                \"nbMovies\": {\"defaultValue\": 0},\n",
    "                \"louvain\": {},\n",
    "                \"isUSCitizen\": {},\n",
    "            }\n",
    "        },\n",
    "        \"Test\": {\n",
    "            \"label\": \"MainTest\",\n",
    "            \"properties\": {\n",
    "                \"nbMovies\": {\"defaultValue\": 0},\n",
    "                \"louvain\": {},\n",
    "                \"isUSCitizen\": {}\n",
    "            }            \n",
    "        }\n",
    "    },\n",
    "    relationship_spec={\"KNOWS\": {\"orientation\": \"UNDIRECTED\", \"aggregation\": \"SINGLE\"}},\n",
    ")\n",
    "projected_graph_object"
   ]
  },
  {
   "cell_type": "code",
   "execution_count": null,
   "id": "cbbbe785",
   "metadata": {},
   "outputs": [],
   "source": [
    "try:\n",
    "    pipe = gds.pipeline.get(\"pipe-clf\")\n",
    "    gds.beta.pipeline.drop(pipe)\n",
    "except ValueError:\n",
    "    pass"
   ]
  },
  {
   "cell_type": "code",
   "execution_count": null,
   "id": "e2036365",
   "metadata": {},
   "outputs": [],
   "source": [
    "pipe, pipe_info = gds.beta.pipeline.nodeClassification.create(\"pipe-clf\")\n",
    "pipe_info"
   ]
  },
  {
   "cell_type": "code",
   "execution_count": null,
   "id": "937bab15",
   "metadata": {},
   "outputs": [],
   "source": [
    "pipe.selectFeatures([\"nbMovies\", \"louvain\"])"
   ]
  },
  {
   "cell_type": "code",
   "execution_count": null,
   "id": "d0671736",
   "metadata": {},
   "outputs": [],
   "source": [
    "pipe"
   ]
  },
  {
   "cell_type": "code",
   "execution_count": null,
   "id": "0582bd27",
   "metadata": {},
   "outputs": [],
   "source": [
    "pipe.addRandomForest(minSplitSize=30, minLeafSize=10, maxDepth=50)"
   ]
  },
  {
   "cell_type": "code",
   "execution_count": null,
   "id": "018de4cc",
   "metadata": {},
   "outputs": [],
   "source": [
    "pipe.configureSplit(testFraction=0.33, validationFolds=2)"
   ]
  },
  {
   "cell_type": "code",
   "execution_count": null,
   "id": "1b884488",
   "metadata": {},
   "outputs": [],
   "source": [
    "#  drop model if already exists\n",
    "try:\n",
    "    model = gds.model.get(\"model-clf-rf\")\n",
    "    gds.beta.model.drop(model)\n",
    "except ValueError:\n",
    "    pass"
   ]
  },
  {
   "cell_type": "code",
   "execution_count": null,
   "id": "3e8d4cb9",
   "metadata": {
    "scrolled": false
   },
   "outputs": [],
   "source": [
    "model, model_info = pipe.train(\n",
    "    projected_graph_object,\n",
    "    modelName=\"model-clf-rf\",\n",
    "    targetNodeLabels=['Train'],\n",
    "    targetProperty=\"isUSCitizen\",\n",
    "    metrics=[\"PRECISION(class=1)\", \"ACCURACY\"],\n",
    "    # metrics=[\"ACCURACY\"],\n",
    "    randomSeed=11,\n",
    ")\n",
    "model_info"
   ]
  },
  {
   "cell_type": "code",
   "execution_count": null,
   "id": "9024e32b",
   "metadata": {},
   "outputs": [],
   "source": [
    "model_info[\"modelSelectionStats\"]"
   ]
  },
  {
   "cell_type": "markdown",
   "id": "25772e95",
   "metadata": {},
   "source": [
    "## Making predictions"
   ]
  },
  {
   "cell_type": "code",
   "execution_count": null,
   "id": "8b34affb",
   "metadata": {
    "scrolled": false
   },
   "outputs": [],
   "source": [
    "predictions = model.predict_stream(\n",
    "    projected_graph_object, \n",
    "    targetNodeLabels=[\"Test\"], \n",
    "    includePredictedProbabilities=True\n",
    ")\n",
    "predictions.head()"
   ]
  },
  {
   "cell_type": "code",
   "execution_count": null,
   "id": "17a2874c",
   "metadata": {},
   "outputs": [],
   "source": [
    "len(predictions)"
   ]
  },
  {
   "cell_type": "code",
   "execution_count": null,
   "id": "5c5f80db",
   "metadata": {},
   "outputs": [],
   "source": [
    "# inspect projected graph to find out true class\n",
    "df_test = gds.graph.nodeProperty.stream(\n",
    "    projected_graph_object, \n",
    "    \"isUSCitizen\",\n",
    ")\n",
    "df_test = df_test.set_index(\"nodeId\")\n",
    "df_test.head(10)"
   ]
  },
  {
   "cell_type": "raw",
   "id": "26b98719",
   "metadata": {},
   "source": [
    "# # inspect projected graph to find out true class\n",
    "# df_test = gds.graph.nodeProperties.stream(\n",
    "#     projected_graph_object, \n",
    "#     [\"isUSCitizen\"],\n",
    "# )\n",
    "# df_test = df_test.pivot(index=\"nodeId\", columns=\"nodeProperty\", values=\"propertyValue\")\n",
    "# df_test.head(5)"
   ]
  },
  {
   "cell_type": "code",
   "execution_count": null,
   "id": "6ff7bdcb",
   "metadata": {},
   "outputs": [],
   "source": [
    "test_nodes = [\"MainTest\" in n.labels for n in gds.util.asNodes(list(df_test.index))]\n",
    "df_test = df_test[test_nodes]"
   ]
  },
  {
   "cell_type": "code",
   "execution_count": null,
   "id": "8201e6d5",
   "metadata": {},
   "outputs": [],
   "source": [
    "predictions = predictions.set_index(\"nodeId\")\n",
    "predictions.head(5)"
   ]
  },
  {
   "cell_type": "code",
   "execution_count": null,
   "id": "f4db1933",
   "metadata": {},
   "outputs": [],
   "source": [
    "df_test[\"prediction\"] = predictions.predictedClass\n",
    "# we drop the rows in df_test without prediction, actually corresponding to nodes with label MainTrain\n",
    "# that were excluded from the predictions\n",
    "df_test = df_test.dropna(subset=[\"prediction\"])\n",
    "df_test.head()"
   ]
  },
  {
   "cell_type": "code",
   "execution_count": null,
   "id": "7e4bddb0",
   "metadata": {},
   "outputs": [],
   "source": []
  },
  {
   "cell_type": "code",
   "execution_count": null,
   "id": "43cba489",
   "metadata": {},
   "outputs": [],
   "source": [
    "from sklearn.metrics import confusion_matrix"
   ]
  },
  {
   "cell_type": "code",
   "execution_count": null,
   "id": "ae18a8f9",
   "metadata": {},
   "outputs": [],
   "source": [
    "mat = confusion_matrix(df_test.propertyValue, df_test.prediction)"
   ]
  },
  {
   "cell_type": "code",
   "execution_count": null,
   "id": "91566258",
   "metadata": {},
   "outputs": [],
   "source": [
    "mat"
   ]
  },
  {
   "cell_type": "code",
   "execution_count": null,
   "id": "6a19aa75",
   "metadata": {},
   "outputs": [],
   "source": []
  },
  {
   "cell_type": "raw",
   "id": "da73809d",
   "metadata": {},
   "source": [
    "import seaborn as sns\n",
    "import matplotlib.pyplot as plt\n",
    "\n",
    "ax = sns.heatmap(mat, annot=True, cmap=\"Reds\")\n",
    "ax.set_title(\"Confusion Matrix\");\n",
    "ax.set_xlabel(\"Predicted Values\")\n",
    "ax.set_ylabel(\"Actual Values\");\n",
    "ax.xaxis.set_ticklabels([\"False\", \"True\"])\n",
    "ax.yaxis.set_ticklabels([\"False\", \"True\"]);"
   ]
  },
  {
   "cell_type": "code",
   "execution_count": null,
   "id": "2f52c46b",
   "metadata": {},
   "outputs": [],
   "source": []
  },
  {
   "cell_type": "code",
   "execution_count": null,
   "id": "2f259ee2",
   "metadata": {},
   "outputs": [],
   "source": []
  },
  {
   "cell_type": "code",
   "execution_count": null,
   "id": "4b4a940b",
   "metadata": {},
   "outputs": [],
   "source": []
  },
  {
   "cell_type": "code",
   "execution_count": null,
   "id": "4633f19f",
   "metadata": {},
   "outputs": [],
   "source": [
    "# gds.beta.pipeline.drop(pipe)"
   ]
  },
  {
   "cell_type": "raw",
   "id": "b0b6499f",
   "metadata": {},
   "source": [
    "array([[783, 575],\n",
    "       [241, 446]])"
   ]
  },
  {
   "cell_type": "code",
   "execution_count": null,
   "id": "a58f5138",
   "metadata": {},
   "outputs": [],
   "source": []
  },
  {
   "cell_type": "code",
   "execution_count": null,
   "id": "5bef08a8",
   "metadata": {},
   "outputs": [],
   "source": []
  }
 ],
 "metadata": {
  "kernelspec": {
   "display_name": "Python 3 (ipykernel)",
   "language": "python",
   "name": "python3"
  },
  "language_info": {
   "codemirror_mode": {
    "name": "ipython",
    "version": 3
   },
   "file_extension": ".py",
   "mimetype": "text/x-python",
   "name": "python",
   "nbconvert_exporter": "python",
   "pygments_lexer": "ipython3",
   "version": "3.10.6"
  }
 },
 "nbformat": 4,
 "nbformat_minor": 5
}
