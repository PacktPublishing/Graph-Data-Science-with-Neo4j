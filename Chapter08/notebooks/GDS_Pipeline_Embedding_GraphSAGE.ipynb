{
 "cells": [
  {
   "cell_type": "markdown",
   "id": "2335e2a4",
   "metadata": {},
   "source": [
    "# Training a GDS Pipeline and Making Predictions using node embedding algorithms"
   ]
  },
  {
   "cell_type": "code",
   "execution_count": 1,
   "id": "a9ddd475",
   "metadata": {},
   "outputs": [],
   "source": [
    "import sys\n",
    "import os\n",
    "sys.path.append(os.path.join(os.curdir, \"..\"))\n",
    "# sys.path\n",
    "\n",
    "from utils import create_projected_graph"
   ]
  },
  {
   "cell_type": "code",
   "execution_count": 2,
   "id": "e8997d05",
   "metadata": {},
   "outputs": [],
   "source": [
    "from graphdatascience import GraphDataScience\n",
    "gds = GraphDataScience(\"bolt://localhost:7687\", auth=(\"neo4j\", \"admin\"))"
   ]
  },
  {
   "cell_type": "markdown",
   "id": "9ed6c9e4",
   "metadata": {},
   "source": [
    "## Training Embedding"
   ]
  },
  {
   "cell_type": "code",
   "execution_count": 3,
   "id": "9f5fdd52",
   "metadata": {},
   "outputs": [],
   "source": [
    "projected_graph_object = create_projected_graph(\n",
    "    gds,\n",
    "    graph_name=\"graph-clf-emb-gs\",\n",
    "    node_spec={\n",
    "        \"Person\": {\n",
    "            \"label\": \"MainTrain\",\n",
    "            \"properties\": {\n",
    "                \"nbMovies\": {\"defaultValue\": 0},\n",
    "            }\n",
    "        }\n",
    "    }, \n",
    "    relationship_spec={\"KNOWS\": {\"orientation\": \"UNDIRECTED\", \"aggregation\": \"SINGLE\"}},\n",
    ")"
   ]
  },
  {
   "cell_type": "code",
   "execution_count": 4,
   "id": "5e2b64a2",
   "metadata": {},
   "outputs": [],
   "source": [
    "try:\n",
    "    model = gds.model.get(\"model-gs-clf-emb\")\n",
    "    gds.beta.model.drop(model)\n",
    "except ValueError:\n",
    "    pass"
   ]
  },
  {
   "cell_type": "code",
   "execution_count": 5,
   "id": "b7e79494",
   "metadata": {},
   "outputs": [
    {
     "data": {
      "text/plain": [
       "GraphSageModel({'modelInfo': {0: {'modelName': 'model-gs-clf-emb', 'modelType': 'graphSage', 'metrics': {'ranIterationsPerEpoch': [10], 'iterationLossesPerEpoch': [[26.577317408162536, 26.57703766469665, 26.576728840484463, 26.57607278617486, 26.575803606768364, 26.575693675103572, 26.575299107590205, 26.57480522101637, 26.573829529093054, 26.57258457550475]], 'didConverge': False, 'ranEpochs': 1, 'epochLosses': [26.57258457550475]}}}, 'trainConfig': {0: {'maxIterations': 10, 'negativeSampleWeight': 20, 'searchDepth': 5, 'aggregator': 'MEAN', 'activationFunction': 'SIGMOID', 'penaltyL2': 0.0, 'learningRate': 0.001, 'concurrency': 4, 'jobId': '6031a7ff-8efa-49c2-b065-04472959b031', 'modelName': 'model-gs-clf-emb', 'embeddingDimension': 64, 'nodeLabels': ['*'], 'sudo': False, 'featureProperties': ['nbMovies'], 'sampleSizes': [25, 10], 'relationshipTypes': ['*'], 'batchSize': 100, 'epochs': 1, 'tolerance': 0.0001}}, 'graphSchema': {0: {'graphProperties': {}, 'relationships': {'KNOWS': {}}, 'nodes': {'Person': {'nbMovies': 'Integer (DefaultValue(0), PERSISTENT)'}}}}, 'loaded': {0: True}, 'stored': {0: False}, 'creationTime': {0: neo4j.time.DateTime(2023, 1, 10, 15, 57, 43, 102636153, tzinfo=<DstTzInfo 'Europe/Paris' CET+1:00:00 STD>)}, 'shared': {0: False}})"
      ]
     },
     "execution_count": 5,
     "metadata": {},
     "output_type": "execute_result"
    }
   ],
   "source": [
    "gs_model, _ = gds.beta.graphSage.train(\n",
    "    projected_graph_object,\n",
    "    modelName=\"model-gs-clf-emb\",\n",
    "    featureProperties=[\"nbMovies\"],\n",
    "    learningRate=0.001\n",
    ")\n",
    "gs_model"
   ]
  },
  {
   "cell_type": "markdown",
   "id": "2cd420ed",
   "metadata": {},
   "source": [
    "## Training Pipeline"
   ]
  },
  {
   "cell_type": "code",
   "execution_count": 6,
   "id": "852ca35a",
   "metadata": {},
   "outputs": [],
   "source": [
    "projected_graph_object = create_projected_graph(\n",
    "    gds,\n",
    "    graph_name=\"graph-clf-emb\",\n",
    "    node_spec={\n",
    "        \"Person\": {\n",
    "            \"label\": \"MainTrainDownSampled\",\n",
    "            \"properties\": {\n",
    "                \"nbMovies\": {\"defaultValue\": 0},\n",
    "                \"isUSCitizen\": {},\n",
    "            }\n",
    "        },\n",
    "    }, \n",
    "    relationship_spec={\"KNOWS\": {\"orientation\": \"UNDIRECTED\", \"aggregation\": \"SINGLE\"}},\n",
    ")"
   ]
  },
  {
   "cell_type": "code",
   "execution_count": 7,
   "id": "1f1c70ac",
   "metadata": {},
   "outputs": [],
   "source": [
    "try:\n",
    "    pipe = gds.pipeline.get(\"pipe-clf-emb\")\n",
    "    gds.beta.pipeline.drop(pipe)\n",
    "except ValueError:\n",
    "    pass"
   ]
  },
  {
   "cell_type": "code",
   "execution_count": 8,
   "id": "e2036365",
   "metadata": {},
   "outputs": [
    {
     "data": {
      "text/plain": [
       "(NCTrainingPipeline({'pipelineInfo': {0: {'featurePipeline': {'nodePropertySteps': [], 'featureProperties': []}, 'splitConfig': {'testFraction': 0.3, 'validationFolds': 3}, 'trainingParameterSpace': {'MultilayerPerceptron': [], 'RandomForest': [], 'LogisticRegression': []}, 'autoTuningConfig': {'maxTrials': 10}}}, 'pipelineName': {0: 'pipe-clf-emb'}, 'pipelineType': {0: 'Node classification training pipeline'}, 'creationTime': {0: neo4j.time.DateTime(2023, 1, 10, 15, 57, 43, 179417352, tzinfo=<DstTzInfo 'Europe/Paris' CET+1:00:00 STD>)}}),\n",
       " name                                                      pipe-clf-emb\n",
       " nodePropertySteps                                                   []\n",
       " featureProperties                                                   []\n",
       " splitConfig                {'testFraction': 0.3, 'validationFolds': 3}\n",
       " autoTuningConfig                                     {'maxTrials': 10}\n",
       " parameterSpace       {'MultilayerPerceptron': [], 'RandomForest': [...\n",
       " Name: 0, dtype: object)"
      ]
     },
     "execution_count": 8,
     "metadata": {},
     "output_type": "execute_result"
    }
   ],
   "source": [
    "pipe, pipe_info = gds.beta.pipeline.nodeClassification.create(\"pipe-clf-emb\")\n",
    "pipe, pipe_info"
   ]
  },
  {
   "cell_type": "code",
   "execution_count": 9,
   "id": "937bab15",
   "metadata": {},
   "outputs": [
    {
     "data": {
      "text/plain": [
       "NCTrainingPipeline({'pipelineInfo': {0: {'featurePipeline': {'nodePropertySteps': [{'name': 'gds.beta.graphSage.mutate', 'config': {'modelName': 'model-gs-clf-emb', 'contextRelationshipTypes': [], 'contextNodeLabels': [], 'mutateProperty': 'embedding'}}], 'featureProperties': [{'feature': 'embedding'}]}, 'splitConfig': {'testFraction': 0.3, 'validationFolds': 3}, 'trainingParameterSpace': {'MultilayerPerceptron': [], 'RandomForest': [], 'LogisticRegression': []}, 'autoTuningConfig': {'maxTrials': 10}}}, 'pipelineName': {0: 'pipe-clf-emb'}, 'pipelineType': {0: 'Node classification training pipeline'}, 'creationTime': {0: neo4j.time.DateTime(2023, 1, 10, 15, 57, 43, 179417352, tzinfo=<DstTzInfo 'Europe/Paris' CET+1:00:00 STD>)}})"
      ]
     },
     "execution_count": 9,
     "metadata": {},
     "output_type": "execute_result"
    }
   ],
   "source": [
    "pipe.addNodeProperty(\"beta.graphSage\", modelName=\"model-gs-clf-emb\", mutateProperty=\"embedding\")\n",
    "pipe.selectFeatures([\"embedding\"])\n",
    "pipe"
   ]
  },
  {
   "cell_type": "code",
   "execution_count": 10,
   "id": "0582bd27",
   "metadata": {},
   "outputs": [
    {
     "data": {
      "text/plain": [
       "name                                                      pipe-clf-emb\n",
       "nodePropertySteps    [{'name': 'gds.beta.graphSage.mutate', 'config...\n",
       "featureProperties                                          [embedding]\n",
       "splitConfig                {'testFraction': 0.3, 'validationFolds': 3}\n",
       "autoTuningConfig                                     {'maxTrials': 10}\n",
       "parameterSpace       {'MultilayerPerceptron': [], 'RandomForest': [...\n",
       "Name: 0, dtype: object"
      ]
     },
     "execution_count": 10,
     "metadata": {},
     "output_type": "execute_result"
    }
   ],
   "source": [
    "pipe.addRandomForest(minSplitSize=30, minLeafSize=10)"
   ]
  },
  {
   "cell_type": "code",
   "execution_count": 11,
   "id": "1b884488",
   "metadata": {},
   "outputs": [],
   "source": [
    "#  drop model if already exists\n",
    "try:\n",
    "    model = gds.model.get(\"clf-rf-emb\")\n",
    "    gds.beta.model.drop(model)\n",
    "except ValueError:\n",
    "    pass"
   ]
  },
  {
   "cell_type": "code",
   "execution_count": 12,
   "id": "3e8d4cb9",
   "metadata": {
    "scrolled": false
   },
   "outputs": [
    {
     "data": {
      "application/vnd.jupyter.widget-view+json": {
       "model_id": "fe8769cdd06c4fb2b9efde8756ad2582",
       "version_major": 2,
       "version_minor": 0
      },
      "text/plain": [
       "Node Classification Train Pipeline:   0%|          | 0/100 [00:00<?, ?%/s]"
      ]
     },
     "metadata": {},
     "output_type": "display_data"
    },
    {
     "data": {
      "text/plain": [
       "modelSelectionStats    {'modelCandidates': [{'metrics': {'F1_WEIGHTED...\n",
       "trainMillis                                                        17363\n",
       "modelInfo              {'pipeline': {'nodePropertySteps': [{'name': '...\n",
       "configuration          {'pipeline': 'pipe-clf-emb', 'jobId': 'd8b96ba...\n",
       "Name: 0, dtype: object"
      ]
     },
     "execution_count": 12,
     "metadata": {},
     "output_type": "execute_result"
    }
   ],
   "source": [
    "model, model_info = pipe.train(\n",
    "    projected_graph_object,\n",
    "    modelName=\"clf-rf-emb\",\n",
    "    targetProperty=\"isUSCitizen\",\n",
    "    metrics=[\"PRECISION(class=1)\", \"F1_WEIGHTED\", \"ACCURACY\"],\n",
    ")\n",
    "model_info"
   ]
  },
  {
   "cell_type": "code",
   "execution_count": 13,
   "id": "9024e32b",
   "metadata": {},
   "outputs": [
    {
     "data": {
      "text/plain": [
       "{'modelCandidates': [{'metrics': {'F1_WEIGHTED': {'validation': {'avg': 0.6897930969957505,\n",
       "      'min': 0.6813331269931655,\n",
       "      'max': 0.6979569542828127},\n",
       "     'train': {'avg': 0.7920459528438485,\n",
       "      'min': 0.7886443915657149,\n",
       "      'max': 0.7949976143418733}},\n",
       "    'PRECISION_class_1': {'validation': {'avg': 0.6850865069170586,\n",
       "      'min': 0.6760651629030322,\n",
       "      'max': 0.6926461345022461},\n",
       "     'train': {'avg': 0.7837251418890424,\n",
       "      'min': 0.7796134663317345,\n",
       "      'max': 0.7901828681399096}},\n",
       "    'ACCURACY': {'validation': {'avg': 0.6900972666666666,\n",
       "      'min': 0.68169762,\n",
       "      'max': 0.69827587},\n",
       "     'train': {'avg': 0.79221928, 'min': 0.78879311, 'max': 0.79509284}}},\n",
       "   'parameters': {'maxDepth': 2147483647,\n",
       "    'minLeafSize': 10,\n",
       "    'criterion': 'GINI',\n",
       "    'minSplitSize': 30,\n",
       "    'numberOfDecisionTrees': 100,\n",
       "    'methodName': 'RandomForest',\n",
       "    'numberOfSamplesRatio': 1.0}}],\n",
       " 'bestParameters': {'maxDepth': 2147483647,\n",
       "  'minLeafSize': 10,\n",
       "  'criterion': 'GINI',\n",
       "  'minSplitSize': 30,\n",
       "  'numberOfDecisionTrees': 100,\n",
       "  'methodName': 'RandomForest',\n",
       "  'numberOfSamplesRatio': 1.0},\n",
       " 'bestTrial': 1}"
      ]
     },
     "execution_count": 13,
     "metadata": {},
     "output_type": "execute_result"
    }
   ],
   "source": [
    "model_info[\"modelSelectionStats\"]"
   ]
  },
  {
   "cell_type": "markdown",
   "id": "ff82f209",
   "metadata": {},
   "source": [
    "## Making predictions"
   ]
  },
  {
   "cell_type": "code",
   "execution_count": 14,
   "id": "197fa0da",
   "metadata": {},
   "outputs": [],
   "source": [
    "projected_graph_object = create_projected_graph(\n",
    "    gds,\n",
    "    graph_name=\"graph-clf-emb-test\",\n",
    "    node_spec={\n",
    "        \"Person\": {\n",
    "            \"label\": \"MainTest\",\n",
    "            \"properties\": {\n",
    "                \"nbMovies\": {\"defaultValue\": 0},\n",
    "                \"isUSCitizen\": {},\n",
    "            }\n",
    "        },\n",
    "    }, \n",
    "    relationship_spec={\"KNOWS\": {\"orientation\": \"UNDIRECTED\", \"aggregation\": \"SINGLE\"}},\n",
    ")"
   ]
  },
  {
   "cell_type": "code",
   "execution_count": 16,
   "id": "8b34affb",
   "metadata": {
    "scrolled": false
   },
   "outputs": [
    {
     "data": {
      "text/html": [
       "<div>\n",
       "<style scoped>\n",
       "    .dataframe tbody tr th:only-of-type {\n",
       "        vertical-align: middle;\n",
       "    }\n",
       "\n",
       "    .dataframe tbody tr th {\n",
       "        vertical-align: top;\n",
       "    }\n",
       "\n",
       "    .dataframe thead th {\n",
       "        text-align: right;\n",
       "    }\n",
       "</style>\n",
       "<table border=\"1\" class=\"dataframe\">\n",
       "  <thead>\n",
       "    <tr style=\"text-align: right;\">\n",
       "      <th></th>\n",
       "      <th>nodeId</th>\n",
       "      <th>predictedClass</th>\n",
       "      <th>predictedProbabilities</th>\n",
       "    </tr>\n",
       "  </thead>\n",
       "  <tbody>\n",
       "    <tr>\n",
       "      <th>0</th>\n",
       "      <td>9074</td>\n",
       "      <td>0</td>\n",
       "      <td>[0.72, 0.28]</td>\n",
       "    </tr>\n",
       "    <tr>\n",
       "      <th>1</th>\n",
       "      <td>9076</td>\n",
       "      <td>0</td>\n",
       "      <td>[0.95, 0.05]</td>\n",
       "    </tr>\n",
       "    <tr>\n",
       "      <th>2</th>\n",
       "      <td>9089</td>\n",
       "      <td>0</td>\n",
       "      <td>[0.72, 0.28]</td>\n",
       "    </tr>\n",
       "    <tr>\n",
       "      <th>3</th>\n",
       "      <td>9126</td>\n",
       "      <td>0</td>\n",
       "      <td>[0.93, 0.07]</td>\n",
       "    </tr>\n",
       "    <tr>\n",
       "      <th>4</th>\n",
       "      <td>9137</td>\n",
       "      <td>0</td>\n",
       "      <td>[0.87, 0.13]</td>\n",
       "    </tr>\n",
       "  </tbody>\n",
       "</table>\n",
       "</div>"
      ],
      "text/plain": [
       "   nodeId  predictedClass predictedProbabilities\n",
       "0    9074               0           [0.72, 0.28]\n",
       "1    9076               0           [0.95, 0.05]\n",
       "2    9089               0           [0.72, 0.28]\n",
       "3    9126               0           [0.93, 0.07]\n",
       "4    9137               0           [0.87, 0.13]"
      ]
     },
     "execution_count": 16,
     "metadata": {},
     "output_type": "execute_result"
    }
   ],
   "source": [
    "predictions = model.predict_stream(\n",
    "    projected_graph_object,\n",
    "    includePredictedProbabilities=True\n",
    ")\n",
    "predictions.head()"
   ]
  },
  {
   "cell_type": "code",
   "execution_count": null,
   "id": "df0d4f56",
   "metadata": {},
   "outputs": [],
   "source": []
  }
 ],
 "metadata": {
  "kernelspec": {
   "display_name": "Python 3 (ipykernel)",
   "language": "python",
   "name": "python3"
  },
  "language_info": {
   "codemirror_mode": {
    "name": "ipython",
    "version": 3
   },
   "file_extension": ".py",
   "mimetype": "text/x-python",
   "name": "python",
   "nbconvert_exporter": "python",
   "pygments_lexer": "ipython3",
   "version": "3.10.6"
  }
 },
 "nbformat": 4,
 "nbformat_minor": 5
}
