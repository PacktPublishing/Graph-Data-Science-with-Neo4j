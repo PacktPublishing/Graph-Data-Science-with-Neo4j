{
 "cells": [
  {
   "cell_type": "markdown",
   "id": "288f3aa9",
   "metadata": {},
   "source": [
    "# Netflix Dataset Analysis\n",
    "\n",
    "This notebook explores the netflix dataset in order to understand its content and structure."
   ]
  },
  {
   "cell_type": "code",
   "execution_count": 1,
   "id": "753707bd",
   "metadata": {},
   "outputs": [],
   "source": [
    "# run once\n",
    "# !pip install matplotlib pandas seaborn"
   ]
  },
  {
   "cell_type": "code",
   "execution_count": 2,
   "id": "a9955152",
   "metadata": {},
   "outputs": [],
   "source": [
    "import os\n",
    "import matplotlib.pyplot as plt\n",
    "import seaborn as sns\n",
    "import pandas as pd"
   ]
  },
  {
   "cell_type": "markdown",
   "id": "034bb041",
   "metadata": {},
   "source": [
    "## Reading data"
   ]
  },
  {
   "cell_type": "code",
   "execution_count": 3,
   "id": "9097f94b",
   "metadata": {},
   "outputs": [],
   "source": [
    "DATA_DIR = \"../data\"  # path relative to this notebook's location\n",
    "DATASET_FILE = \"netflix.zip\""
   ]
  },
  {
   "cell_type": "code",
   "execution_count": 4,
   "id": "ddcd9e8c",
   "metadata": {},
   "outputs": [
    {
     "data": {
      "text/html": [
       "<div>\n",
       "<style scoped>\n",
       "    .dataframe tbody tr th:only-of-type {\n",
       "        vertical-align: middle;\n",
       "    }\n",
       "\n",
       "    .dataframe tbody tr th {\n",
       "        vertical-align: top;\n",
       "    }\n",
       "\n",
       "    .dataframe thead th {\n",
       "        text-align: right;\n",
       "    }\n",
       "</style>\n",
       "<table border=\"1\" class=\"dataframe\">\n",
       "  <thead>\n",
       "    <tr style=\"text-align: right;\">\n",
       "      <th></th>\n",
       "      <th>show_id</th>\n",
       "      <th>type</th>\n",
       "      <th>title</th>\n",
       "      <th>director</th>\n",
       "      <th>cast</th>\n",
       "      <th>country</th>\n",
       "      <th>date_added</th>\n",
       "      <th>release_year</th>\n",
       "      <th>rating</th>\n",
       "      <th>duration</th>\n",
       "      <th>listed_in</th>\n",
       "      <th>description</th>\n",
       "    </tr>\n",
       "  </thead>\n",
       "  <tbody>\n",
       "    <tr>\n",
       "      <th>0</th>\n",
       "      <td>s1</td>\n",
       "      <td>Movie</td>\n",
       "      <td>Dick Johnson Is Dead</td>\n",
       "      <td>Kirsten Johnson</td>\n",
       "      <td>NaN</td>\n",
       "      <td>United States</td>\n",
       "      <td>September 25, 2021</td>\n",
       "      <td>2020</td>\n",
       "      <td>PG-13</td>\n",
       "      <td>90 min</td>\n",
       "      <td>Documentaries</td>\n",
       "      <td>As her father nears the end of his life, filmm...</td>\n",
       "    </tr>\n",
       "    <tr>\n",
       "      <th>1</th>\n",
       "      <td>s2</td>\n",
       "      <td>TV Show</td>\n",
       "      <td>Blood &amp; Water</td>\n",
       "      <td>NaN</td>\n",
       "      <td>Ama Qamata, Khosi Ngema, Gail Mabalane, Thaban...</td>\n",
       "      <td>South Africa</td>\n",
       "      <td>September 24, 2021</td>\n",
       "      <td>2021</td>\n",
       "      <td>TV-MA</td>\n",
       "      <td>2 Seasons</td>\n",
       "      <td>International TV Shows, TV Dramas, TV Mysteries</td>\n",
       "      <td>After crossing paths at a party, a Cape Town t...</td>\n",
       "    </tr>\n",
       "  </tbody>\n",
       "</table>\n",
       "</div>"
      ],
      "text/plain": [
       "  show_id     type                 title         director  \\\n",
       "0      s1    Movie  Dick Johnson Is Dead  Kirsten Johnson   \n",
       "1      s2  TV Show         Blood & Water              NaN   \n",
       "\n",
       "                                                cast        country  \\\n",
       "0                                                NaN  United States   \n",
       "1  Ama Qamata, Khosi Ngema, Gail Mabalane, Thaban...   South Africa   \n",
       "\n",
       "           date_added  release_year rating   duration  \\\n",
       "0  September 25, 2021          2020  PG-13     90 min   \n",
       "1  September 24, 2021          2021  TV-MA  2 Seasons   \n",
       "\n",
       "                                         listed_in  \\\n",
       "0                                    Documentaries   \n",
       "1  International TV Shows, TV Dramas, TV Mysteries   \n",
       "\n",
       "                                         description  \n",
       "0  As her father nears the end of his life, filmm...  \n",
       "1  After crossing paths at a party, a Cape Town t...  "
      ]
     },
     "execution_count": 4,
     "metadata": {},
     "output_type": "execute_result"
    }
   ],
   "source": [
    "data = pd.read_csv(os.path.join(DATA_DIR, DATASET_FILE))\n",
    "data.head(2)"
   ]
  },
  {
   "cell_type": "markdown",
   "id": "75bb155f",
   "metadata": {},
   "source": [
    "## Column description"
   ]
  },
  {
   "cell_type": "code",
   "execution_count": 5,
   "id": "ffdf7326",
   "metadata": {},
   "outputs": [
    {
     "name": "stdout",
     "output_type": "stream",
     "text": [
      "<class 'pandas.core.frame.DataFrame'>\n",
      "RangeIndex: 8807 entries, 0 to 8806\n",
      "Data columns (total 12 columns):\n",
      " #   Column        Non-Null Count  Dtype \n",
      "---  ------        --------------  ----- \n",
      " 0   show_id       8807 non-null   object\n",
      " 1   type          8807 non-null   object\n",
      " 2   title         8807 non-null   object\n",
      " 3   director      6173 non-null   object\n",
      " 4   cast          7982 non-null   object\n",
      " 5   country       7976 non-null   object\n",
      " 6   date_added    8797 non-null   object\n",
      " 7   release_year  8807 non-null   int64 \n",
      " 8   rating        8803 non-null   object\n",
      " 9   duration      8804 non-null   object\n",
      " 10  listed_in     8807 non-null   object\n",
      " 11  description   8807 non-null   object\n",
      "dtypes: int64(1), object(11)\n",
      "memory usage: 825.8+ KB\n"
     ]
    }
   ],
   "source": [
    "data.info()"
   ]
  },
  {
   "cell_type": "code",
   "execution_count": 6,
   "id": "0ba439fd",
   "metadata": {},
   "outputs": [
    {
     "data": {
      "text/plain": [
       "Movie      6131\n",
       "TV Show    2676\n",
       "Name: type, dtype: int64"
      ]
     },
     "execution_count": 6,
     "metadata": {},
     "output_type": "execute_result"
    }
   ],
   "source": [
    "data.type.value_counts()"
   ]
  },
  {
   "cell_type": "code",
   "execution_count": 7,
   "id": "0efd3469",
   "metadata": {},
   "outputs": [
    {
     "data": {
      "text/plain": [
       "0                                                   NaN\n",
       "1     Ama Qamata, Khosi Ngema, Gail Mabalane, Thaban...\n",
       "2     Sami Bouajila, Tracy Gotoas, Samuel Jouy, Nabi...\n",
       "3                                                   NaN\n",
       "4     Mayur More, Jitendra Kumar, Ranjan Raj, Alam K...\n",
       "5     Kate Siegel, Zach Gilford, Hamish Linklater, H...\n",
       "6     Vanessa Hudgens, Kimiko Glenn, James Marsden, ...\n",
       "7     Kofi Ghanaba, Oyafunmike Ogunlano, Alexandra D...\n",
       "8     Mel Giedroyc, Sue Perkins, Mary Berry, Paul Ho...\n",
       "9     Melissa McCarthy, Chris O'Dowd, Kevin Kline, T...\n",
       "10                                                  NaN\n",
       "11    Sukollawat Kanarot, Sushar Manaying, Pavarit M...\n",
       "12    Luna Wedler, Jannis Niewöhner, Milan Peschel, ...\n",
       "13    Klara Castanho, Lucca Picon, Júlia Gomes, Marc...\n",
       "14                                                  NaN\n",
       "15    Logan Browning, Brandon P. Bell, DeRon Horton,...\n",
       "16                                                  NaN\n",
       "17    Luis Ernesto Franco, Camila Sodi, Sergio Goyri...\n",
       "18    Freida Pinto, Logan Marshall-Green, Robert Joh...\n",
       "19    Blanca Suárez, Iván Marcos, Óscar Casas, Adriá...\n",
       "20                                                  NaN\n",
       "21    Engin Altan Düzyatan, Serdar Gökhan, Hülya Dar...\n",
       "22    Kamal Hassan, Meena, Gemini Ganesan, Heera Raj...\n",
       "23    Maisie Benson, Paul Killam, Kerry Gudjohnsen, ...\n",
       "24    Prashanth, Aishwarya Rai Bachchan, Sri Lakshmi...\n",
       "25                                     Brooke Satchwell\n",
       "26    Arvind Swamy, Kajol, Prabhu Deva, Nassar, S.P....\n",
       "27    Adam Sandler, Kevin James, Chris Rock, David S...\n",
       "28    Keri Russell, Josh Hamilton, J.K. Simmons, Dak...\n",
       "29    Liam Hemsworth, Gary Oldman, Amber Heard, Harr...\n",
       "Name: cast, dtype: object"
      ]
     },
     "execution_count": 7,
     "metadata": {},
     "output_type": "execute_result"
    }
   ],
   "source": [
    "data.cast.head(30)"
   ]
  },
  {
   "cell_type": "code",
   "execution_count": 8,
   "id": "b0c82d99",
   "metadata": {},
   "outputs": [
    {
     "data": {
      "text/plain": [
       "0                  Kirsten Johnson\n",
       "1                              NaN\n",
       "2                  Julien Leclercq\n",
       "3                              NaN\n",
       "4                              NaN\n",
       "5                    Mike Flanagan\n",
       "6    Robert Cullen, José Luis Ucha\n",
       "7                     Haile Gerima\n",
       "8                  Andy Devonshire\n",
       "9                   Theodore Melfi\n",
       "Name: director, dtype: object"
      ]
     },
     "execution_count": 8,
     "metadata": {},
     "output_type": "execute_result"
    }
   ],
   "source": [
    "data.director.head(10)"
   ]
  },
  {
   "cell_type": "code",
   "execution_count": 9,
   "id": "d9b43155",
   "metadata": {},
   "outputs": [
    {
     "data": {
      "text/plain": [
       "0                                        United States\n",
       "1                                         South Africa\n",
       "2                                                  NaN\n",
       "3                                                  NaN\n",
       "4                                                India\n",
       "5                                                  NaN\n",
       "6                                                  NaN\n",
       "7    United States, Ghana, Burkina Faso, United Kin...\n",
       "8                                       United Kingdom\n",
       "9                                        United States\n",
       "Name: country, dtype: object"
      ]
     },
     "execution_count": 9,
     "metadata": {},
     "output_type": "execute_result"
    }
   ],
   "source": [
    "data.country.head(10)"
   ]
  },
  {
   "cell_type": "code",
   "execution_count": 10,
   "id": "d5d4f3dd",
   "metadata": {},
   "outputs": [
    {
     "data": {
      "text/plain": [
       "0    September 25, 2021\n",
       "1    September 24, 2021\n",
       "2    September 24, 2021\n",
       "3    September 24, 2021\n",
       "4    September 24, 2021\n",
       "5    September 24, 2021\n",
       "6    September 24, 2021\n",
       "7    September 24, 2021\n",
       "8    September 24, 2021\n",
       "9    September 24, 2021\n",
       "Name: date_added, dtype: object"
      ]
     },
     "execution_count": 10,
     "metadata": {},
     "output_type": "execute_result"
    }
   ],
   "source": [
    "data.date_added.head(10)"
   ]
  },
  {
   "cell_type": "code",
   "execution_count": 11,
   "id": "15ad467e",
   "metadata": {},
   "outputs": [
    {
     "data": {
      "text/plain": [
       "0    2020\n",
       "1    2021\n",
       "2    2021\n",
       "3    2021\n",
       "4    2021\n",
       "5    2021\n",
       "6    2021\n",
       "7    1993\n",
       "8    2021\n",
       "9    2021\n",
       "Name: release_year, dtype: int64"
      ]
     },
     "execution_count": 11,
     "metadata": {},
     "output_type": "execute_result"
    }
   ],
   "source": [
    "data.release_year.head(10)"
   ]
  },
  {
   "cell_type": "code",
   "execution_count": 12,
   "id": "5d16c193",
   "metadata": {},
   "outputs": [
    {
     "data": {
      "text/plain": [
       "0       90 min\n",
       "1    2 Seasons\n",
       "2     1 Season\n",
       "3     1 Season\n",
       "4    2 Seasons\n",
       "5     1 Season\n",
       "6       91 min\n",
       "7      125 min\n",
       "8    9 Seasons\n",
       "9      104 min\n",
       "Name: duration, dtype: object"
      ]
     },
     "execution_count": 12,
     "metadata": {},
     "output_type": "execute_result"
    }
   ],
   "source": [
    "data.duration.head(10)"
   ]
  },
  {
   "cell_type": "code",
   "execution_count": 13,
   "id": "4941b92b",
   "metadata": {},
   "outputs": [
    {
     "data": {
      "text/plain": [
       "0                                        Documentaries\n",
       "1      International TV Shows, TV Dramas, TV Mysteries\n",
       "2    Crime TV Shows, International TV Shows, TV Act...\n",
       "3                               Docuseries, Reality TV\n",
       "4    International TV Shows, Romantic TV Shows, TV ...\n",
       "5                   TV Dramas, TV Horror, TV Mysteries\n",
       "6                             Children & Family Movies\n",
       "7     Dramas, Independent Movies, International Movies\n",
       "8                         British TV Shows, Reality TV\n",
       "9                                     Comedies, Dramas\n",
       "Name: listed_in, dtype: object"
      ]
     },
     "execution_count": 13,
     "metadata": {},
     "output_type": "execute_result"
    }
   ],
   "source": [
    "data.listed_in.head(10)"
   ]
  },
  {
   "cell_type": "code",
   "execution_count": null,
   "id": "5d334474",
   "metadata": {},
   "outputs": [],
   "source": []
  }
 ],
 "metadata": {
  "kernelspec": {
   "display_name": "Python 3 (ipykernel)",
   "language": "python",
   "name": "python3"
  },
  "language_info": {
   "codemirror_mode": {
    "name": "ipython",
    "version": 3
   },
   "file_extension": ".py",
   "mimetype": "text/x-python",
   "name": "python",
   "nbconvert_exporter": "python",
   "pygments_lexer": "ipython3",
   "version": "3.10.6"
  }
 },
 "nbformat": 4,
 "nbformat_minor": 5
}
