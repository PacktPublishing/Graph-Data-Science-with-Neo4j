{
 "cells": [
  {
   "cell_type": "markdown",
   "id": "3dafd126",
   "metadata": {},
   "source": [
    "# Data generation"
   ]
  },
  {
   "cell_type": "code",
   "execution_count": null,
   "id": "b7d87704",
   "metadata": {},
   "outputs": [],
   "source": [
    "# !pip install osmnx\n",
    "# !pip install lxml"
   ]
  },
  {
   "cell_type": "code",
   "execution_count": null,
   "id": "4888625e",
   "metadata": {},
   "outputs": [],
   "source": [
    "import osmnx as ox\n",
    "import networkx as nx"
   ]
  },
  {
   "cell_type": "code",
   "execution_count": null,
   "id": "777d2cf2",
   "metadata": {},
   "outputs": [],
   "source": [
    "LOCATION_KEY = \"center_point\"\n",
    "DIST_KEY = \"dist\"\n",
    "\n",
    "# paris_config = {\n",
    "#     LOCATION_KEY: (48.86073049277094, 2.3437123339337846),\n",
    "#     DIST_KEY: 5000    \n",
    "# }\n",
    "\n",
    "rome_config = {\n",
    "    LOCATION_KEY: (41.89022652803327, 12.492513493265989),\n",
    "    DIST_KEY: 1500\n",
    "}\n",
    "\n",
    "G = ox.graph_from_point(**rome_config, dist_type=\"bbox\", network_type=\"drive\")"
   ]
  },
  {
   "cell_type": "code",
   "execution_count": null,
   "id": "200a4e64",
   "metadata": {},
   "outputs": [],
   "source": [
    "G.number_of_nodes()"
   ]
  },
  {
   "cell_type": "code",
   "execution_count": null,
   "id": "7bde0176",
   "metadata": {},
   "outputs": [],
   "source": [
    "pos = {\n",
    "    k: (data[\"x\"], data[\"y\"])\n",
    "    for k, data in G.nodes(data=True)\n",
    "}"
   ]
  },
  {
   "cell_type": "code",
   "execution_count": null,
   "id": "b62f8cb0",
   "metadata": {},
   "outputs": [],
   "source": [
    "nx.draw(G, pos=pos, node_size=1)"
   ]
  },
  {
   "cell_type": "code",
   "execution_count": null,
   "id": "73f7f7be",
   "metadata": {},
   "outputs": [],
   "source": [
    "for _, node_data in G.nodes(data=True):\n",
    "    if \"street_count\" in node_data:\n",
    "        del node_data[\"street_count\"]\n",
    "    if \"x\" in node_data:\n",
    "        node_data[\"longitude\"] = node_data[\"x\"]\n",
    "        del node_data[\"x\"]\n",
    "    if \"y\" in node_data:\n",
    "        node_data[\"latitude\"] = node_data[\"y\"]\n",
    "        del node_data[\"y\"]"
   ]
  },
  {
   "cell_type": "code",
   "execution_count": null,
   "id": "558a0424",
   "metadata": {},
   "outputs": [],
   "source": [
    "prop_to_delete = [\"highway\", \"reversed\", \"geometry\", \"lanes\", \"osmid\", \"name\", \"maxspeed\"]\n",
    "for _, _, edge_data in G.edges(data=True):\n",
    "    for p in prop_to_delete:\n",
    "        if p in edge_data:\n",
    "            del edge_data[p]"
   ]
  },
  {
   "cell_type": "code",
   "execution_count": null,
   "id": "22e721b2",
   "metadata": {
    "scrolled": false
   },
   "outputs": [],
   "source": [
    "nx.write_graphml(G, \"../data/osm_street_network_rome.graphml\")"
   ]
  },
  {
   "cell_type": "code",
   "execution_count": null,
   "id": "450be457",
   "metadata": {},
   "outputs": [],
   "source": []
  }
 ],
 "metadata": {
  "kernelspec": {
   "display_name": "Python 3 (ipykernel)",
   "language": "python",
   "name": "python3"
  },
  "language_info": {
   "codemirror_mode": {
    "name": "ipython",
    "version": 3
   },
   "file_extension": ".py",
   "mimetype": "text/x-python",
   "name": "python",
   "nbconvert_exporter": "python",
   "pygments_lexer": "ipython3",
   "version": "3.10.6"
  }
 },
 "nbformat": 4,
 "nbformat_minor": 5
}
