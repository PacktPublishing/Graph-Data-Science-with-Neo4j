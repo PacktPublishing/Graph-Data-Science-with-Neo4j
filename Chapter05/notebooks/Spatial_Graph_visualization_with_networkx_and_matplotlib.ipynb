{
 "cells": [
  {
   "cell_type": "markdown",
   "id": "916573c3",
   "metadata": {},
   "source": [
    "# Spatial Graph Visualization with `networkx` and `matplotlib`"
   ]
  },
  {
   "cell_type": "code",
   "execution_count": null,
   "id": "305c9bc7",
   "metadata": {},
   "outputs": [],
   "source": [
    "# install requirements\n",
    "# !pip install networkx==3.0 matplotlib==3.6.3"
   ]
  },
  {
   "cell_type": "code",
   "execution_count": null,
   "id": "b46d999f",
   "metadata": {},
   "outputs": [],
   "source": [
    "import networkx as nx\n",
    "nx.__version__"
   ]
  },
  {
   "cell_type": "markdown",
   "id": "cda7c997",
   "metadata": {},
   "source": [
    "## Manually creating a graph"
   ]
  },
  {
   "cell_type": "code",
   "execution_count": null,
   "id": "2598d939",
   "metadata": {},
   "outputs": [],
   "source": [
    "G = nx.Graph()"
   ]
  },
  {
   "cell_type": "code",
   "execution_count": null,
   "id": "31a94f78",
   "metadata": {},
   "outputs": [],
   "source": [
    "G.add_node(\"A\", size=1)\n",
    "G.add_node(\"B\", size=1)\n",
    "G.add_node(\"C\", size=1)\n",
    "G.add_node(\"D\", size=1)\n",
    "G.add_node(\"E\", size=1)\n",
    "\n",
    "G.add_edge(\"A\", \"B\", weight=1)\n",
    "G.add_edge(\"A\", \"D\", weight=1)"
   ]
  },
  {
   "cell_type": "markdown",
   "id": "87878837",
   "metadata": {},
   "source": [
    "## Reading graph data from file\n",
    "\n",
    "The `networkx` package also provides functionalities to read and write graphs from and to files, using different formats. In preceding chapters, we have used the `edgelist` format for instance, which can be handled using the following functions:\n",
    "\n",
    "- `G = nx.read_edgelist(\"path/to/file.edgelist\")`\n",
    "- `nx.write_edgelist(G, \"path/to/file.edgelist\")`\n",
    "\n",
    "Same functions exist for dealing with `GraphML` file format:\n",
    "\n",
    "- `G = nx.read_graphml(\"path/to/file.edgelist\")`\n",
    "- `nx.write_graphml(G, \"path/to/file.edgelist\")`\n",
    "\n",
    "Let's import some data. It is an extracted portion of Open Street Map data around the Colosseum in Rome."
   ]
  },
  {
   "cell_type": "code",
   "execution_count": null,
   "id": "acab741b",
   "metadata": {},
   "outputs": [],
   "source": [
    "G = nx.read_graphml(\"../data/osm_street_network_rome.graphml\")\n",
    "G.number_of_nodes(), G.number_of_edges()"
   ]
  },
  {
   "cell_type": "code",
   "execution_count": null,
   "id": "f908d99b",
   "metadata": {},
   "outputs": [],
   "source": [
    "# explore node data\n",
    "list(G.nodes(data=True))[:10]"
   ]
  },
  {
   "cell_type": "code",
   "execution_count": null,
   "id": "9a9be4ca",
   "metadata": {},
   "outputs": [],
   "source": [
    "# define node position:\n",
    "pos = {\n",
    "    node_id: (node_data[\"longitude\"], node_data[\"latitude\"])\n",
    "    for node_id, node_data in G.nodes(data=True)\n",
    "}"
   ]
  },
  {
   "cell_type": "code",
   "execution_count": null,
   "id": "a188ed06",
   "metadata": {},
   "outputs": [],
   "source": [
    "nx.draw(G, pos=pos, node_size=10)"
   ]
  },
  {
   "cell_type": "code",
   "execution_count": null,
   "id": "03fc7573",
   "metadata": {},
   "outputs": [],
   "source": []
  }
 ],
 "metadata": {
  "kernelspec": {
   "display_name": "Python 3 (ipykernel)",
   "language": "python",
   "name": "python3"
  },
  "language_info": {
   "codemirror_mode": {
    "name": "ipython",
    "version": 3
   },
   "file_extension": ".py",
   "mimetype": "text/x-python",
   "name": "python",
   "nbconvert_exporter": "python",
   "pygments_lexer": "ipython3",
   "version": "3.10.6"
  }
 },
 "nbformat": 4,
 "nbformat_minor": 5
}
