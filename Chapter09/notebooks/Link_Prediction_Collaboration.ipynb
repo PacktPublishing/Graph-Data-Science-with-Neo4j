{
 "cells": [
  {
   "cell_type": "markdown",
   "id": "3f22a9c4",
   "metadata": {},
   "source": [
    "# Link Prediction for future collaborations"
   ]
  },
  {
   "cell_type": "code",
   "execution_count": 1,
   "id": "710b9e68",
   "metadata": {},
   "outputs": [],
   "source": [
    "import sys\n",
    "import os\n",
    "sys.path.append(os.path.join(os.curdir, \"../..\"))\n",
    "# sys.path\n",
    "import pandas as pd\n",
    "from utils import create_projected_graph"
   ]
  },
  {
   "cell_type": "code",
   "execution_count": 2,
   "id": "5336d78b",
   "metadata": {
    "scrolled": false
   },
   "outputs": [],
   "source": [
    "from graphdatascience import GraphDataScience\n",
    "gds = GraphDataScience(\"bolt://localhost:7687\", auth=(\"neo4j\", \"admin\"), database=\"neo4j\")"
   ]
  },
  {
   "cell_type": "markdown",
   "id": "b96721ce",
   "metadata": {},
   "source": [
    "## Configuring and training the pipeline"
   ]
  },
  {
   "cell_type": "code",
   "execution_count": 3,
   "id": "1143084b",
   "metadata": {
    "scrolled": false
   },
   "outputs": [
    {
     "data": {
      "text/plain": [
       "Graph({'graphName': 'graph-lp-collab', 'nodeCount': 36878, 'relationshipCount': 588862, 'database': 'neo4j', 'configuration': {'relationshipProjection': {'KNOWS': {'orientation': 'UNDIRECTED', 'aggregation': 'DEFAULT', 'type': 'KNOWS_TRAIN', 'properties': {'weight': {'defaultValue': 1.0, 'property': 'weight', 'aggregation': 'DEFAULT'}}}}, 'jobId': 'b58fc93a-cfb8-4d7f-ab17-484fa9efb119', 'nodeProjection': {'Person': {'label': 'MainComponent', 'properties': {'louvain': {'defaultValue': 1, 'property': 'louvain'}}}}, 'relationshipProperties': {}, 'creationTime': neo4j.time.DateTime(2023, 1, 12, 17, 4, 26, 367889085, tzinfo=<DstTzInfo 'Europe/Paris' CET+1:00:00 STD>), 'validateRelationships': False, 'readConcurrency': 4, 'sudo': False, 'nodeProperties': {}}, 'schema': {'graphProperties': {}, 'relationships': {'KNOWS': {'weight': 'Float (DefaultValue(1.0), PERSISTENT, Aggregation.DEFAULT)'}}, 'nodes': {'Person': {'louvain': 'Integer (DefaultValue(1), PERSISTENT)'}}}, 'memoryUsage': '44 MiB'})"
      ]
     },
     "execution_count": 3,
     "metadata": {},
     "output_type": "execute_result"
    }
   ],
   "source": [
    "projected_graph_object = create_projected_graph(\n",
    "    gds,\n",
    "    graph_name=\"graph-lp-collab\",\n",
    "    node_spec={\n",
    "        \"Person\": {\n",
    "            \"label\": \"MainComponent\",\n",
    "            \"properties\": {\n",
    "                \"louvain\": {\"defaultValue\": 1},\n",
    "            }\n",
    "        },\n",
    "    }, \n",
    "    relationship_spec={\n",
    "        \"KNOWS\": {\n",
    "            \"type\": \"KNOWS_TRAIN\", \n",
    "            \"orientation\": \"UNDIRECTED\",\n",
    "            \"properties\": {\"weight\": {\"defaultValue\": 1.0}}\n",
    "        }\n",
    "    },\n",
    ")\n",
    "projected_graph_object"
   ]
  },
  {
   "cell_type": "code",
   "execution_count": 4,
   "id": "534a1ff2",
   "metadata": {},
   "outputs": [
    {
     "data": {
      "text/plain": [
       "nodeCount                                                            36878\n",
       "nodePropertiesWritten                                                36878\n",
       "lossPerIteration                                      [100484612.35727863]\n",
       "mutateMillis                                                            -1\n",
       "postProcessingMillis                                                     0\n",
       "preProcessingMillis                                                      0\n",
       "computeMillis                                                        52265\n",
       "configuration            {'negativeSamplingExponent': 0.75, 'initialLea...\n",
       "Name: 0, dtype: object"
      ]
     },
     "execution_count": 4,
     "metadata": {},
     "output_type": "execute_result"
    }
   ],
   "source": [
    "gds.beta.node2vec.mutate(\n",
    "    projected_graph_object,\n",
    "    mutateProperty=\"embedding\",\n",
    "    embeddingDimension=32,\n",
    ")"
   ]
  },
  {
   "cell_type": "code",
   "execution_count": 5,
   "id": "acbfe0c3",
   "metadata": {},
   "outputs": [],
   "source": [
    "try:\n",
    "    pipe = gds.pipeline.get(\"pipe-lp-collab\")\n",
    "    gds.beta.pipeline.drop(pipe)\n",
    "except ValueError:\n",
    "    pass"
   ]
  },
  {
   "cell_type": "code",
   "execution_count": 6,
   "id": "3a18081c",
   "metadata": {},
   "outputs": [
    {
     "data": {
      "text/plain": [
       "name                                                    pipe-lp-collab\n",
       "nodePropertySteps                                                   []\n",
       "featureSteps                                                        []\n",
       "splitConfig          {'negativeSamplingRatio': 1.0, 'testFraction':...\n",
       "autoTuningConfig                                     {'maxTrials': 10}\n",
       "parameterSpace       {'MultilayerPerceptron': [], 'RandomForest': [...\n",
       "Name: 0, dtype: object"
      ]
     },
     "execution_count": 6,
     "metadata": {},
     "output_type": "execute_result"
    }
   ],
   "source": [
    "pipe, pipe_info = gds.beta.pipeline.linkPrediction.create(\"pipe-lp-collab\")\n",
    "pipe_info"
   ]
  },
  {
   "cell_type": "code",
   "execution_count": 7,
   "id": "6aea7131",
   "metadata": {},
   "outputs": [
    {
     "data": {
      "text/plain": [
       "name                                                    pipe-lp-collab\n",
       "nodePropertySteps                                                   []\n",
       "featureSteps         [{'name': 'COSINE', 'config': {'nodeProperties...\n",
       "splitConfig          {'negativeSamplingRatio': 1.0, 'testFraction':...\n",
       "autoTuningConfig                                     {'maxTrials': 10}\n",
       "parameterSpace       {'MultilayerPerceptron': [], 'RandomForest': [...\n",
       "Name: 0, dtype: object"
      ]
     },
     "execution_count": 7,
     "metadata": {},
     "output_type": "execute_result"
    }
   ],
   "source": [
    "# pipe.addFeature(\"hadamard\", nodeProperties=[\"embedding\"])\n",
    "pipe.addFeature(\"cosine\", nodeProperties=[\"embedding\"])\n",
    "pipe.addFeature(\"same_category\", nodeProperties=[\"louvain\"])"
   ]
  },
  {
   "cell_type": "code",
   "execution_count": 8,
   "id": "577fe612",
   "metadata": {},
   "outputs": [
    {
     "data": {
      "text/plain": [
       "name                                                    pipe-lp-collab\n",
       "nodePropertySteps                                                   []\n",
       "featureSteps         [{'name': 'COSINE', 'config': {'nodeProperties...\n",
       "splitConfig          {'negativeSamplingRatio': 1.0, 'testFraction':...\n",
       "autoTuningConfig                                     {'maxTrials': 10}\n",
       "parameterSpace       {'MultilayerPerceptron': [], 'RandomForest': [...\n",
       "Name: 0, dtype: object"
      ]
     },
     "execution_count": 8,
     "metadata": {},
     "output_type": "execute_result"
    }
   ],
   "source": [
    "# pipe.addLogisticRegression(tolerance=0.0001, maxEpochs=400, learningRate=0.01)\n",
    "pipe.addLogisticRegression()"
   ]
  },
  {
   "cell_type": "code",
   "execution_count": 9,
   "id": "69920830",
   "metadata": {},
   "outputs": [],
   "source": [
    "try:\n",
    "    model = gds.model.get(\"model-lp-collab\")\n",
    "    gds.beta.model.drop(model)\n",
    "except (ValueError, NameError):\n",
    "    pass"
   ]
  },
  {
   "cell_type": "code",
   "execution_count": 10,
   "id": "85a9ab09",
   "metadata": {},
   "outputs": [
    {
     "data": {
      "text/plain": [
       "requiredMemory                                    [17 MiB ... 229 MiB]\n",
       "treeView             Memory Estimation: [17 MiB ... 229 MiB]\\n|-- a...\n",
       "mapView              {'components': [{'components': [{'components':...\n",
       "bytesMin                                                      17901360\n",
       "bytesMax                                                     240267304\n",
       "nodeCount                                                        36878\n",
       "relationshipCount                                               588862\n",
       "heapPercentageMin                                                  0.1\n",
       "heapPercentageMax                                                  0.1\n",
       "Name: 0, dtype: object"
      ]
     },
     "execution_count": 10,
     "metadata": {},
     "output_type": "execute_result"
    }
   ],
   "source": [
    "pipe.train_estimate(\n",
    "    projected_graph_object,\n",
    "    targetRelationshipType=\"KNOWS\",\n",
    "    modelName=\"model-lp-collab\",\n",
    "    randomSeed=42\n",
    ")"
   ]
  },
  {
   "cell_type": "code",
   "execution_count": 11,
   "id": "2c6a6b51",
   "metadata": {
    "scrolled": false
   },
   "outputs": [],
   "source": [
    "model, train_result = pipe.train(\n",
    "    projected_graph_object,\n",
    "    targetRelationshipType=\"KNOWS\",\n",
    "    modelName=\"model-lp-collab\",\n",
    "    randomSeed=42\n",
    ")"
   ]
  },
  {
   "cell_type": "code",
   "execution_count": 12,
   "id": "59aa1c49",
   "metadata": {},
   "outputs": [
    {
     "data": {
      "text/plain": [
       "{'modelCandidates': [{'metrics': {'AUCPR': {'validation': {'min': 0.9897480638648336,\n",
       "      'avg': 0.9901698196424231,\n",
       "      'max': 0.9909638230168275},\n",
       "     'train': {'min': 0.9897688881615645,\n",
       "      'avg': 0.9901689736188725,\n",
       "      'max': 0.9903785385705357}}},\n",
       "   'parameters': {'maxEpochs': 100,\n",
       "    'minEpochs': 1,\n",
       "    'penalty': 0.0,\n",
       "    'patience': 1,\n",
       "    'methodName': 'LogisticRegression',\n",
       "    'batchSize': 100,\n",
       "    'tolerance': 0.001,\n",
       "    'learningRate': 0.001}}],\n",
       " 'bestParameters': {'maxEpochs': 100,\n",
       "  'minEpochs': 1,\n",
       "  'penalty': 0.0,\n",
       "  'patience': 1,\n",
       "  'methodName': 'LogisticRegression',\n",
       "  'batchSize': 100,\n",
       "  'tolerance': 0.001,\n",
       "  'learningRate': 0.001},\n",
       " 'bestTrial': 1}"
      ]
     },
     "execution_count": 12,
     "metadata": {},
     "output_type": "execute_result"
    }
   ],
   "source": [
    "train_result[\"modelSelectionStats\"]"
   ]
  },
  {
   "cell_type": "markdown",
   "id": "aeebe702",
   "metadata": {},
   "source": [
    "## Making predictions"
   ]
  },
  {
   "cell_type": "code",
   "execution_count": 13,
   "id": "368b7ccb",
   "metadata": {},
   "outputs": [
    {
     "data": {
      "application/vnd.jupyter.widget-view+json": {
       "model_id": "690ddf01d38d4dbf9fba8e6b3a36d691",
       "version_major": 2,
       "version_minor": 0
      },
      "text/plain": [
       "Link Prediction Predict Pipeline:   0%|          | 0/100 [00:00<?, ?%/s]"
      ]
     },
     "metadata": {},
     "output_type": "display_data"
    },
    {
     "data": {
      "text/html": [
       "<div>\n",
       "<style scoped>\n",
       "    .dataframe tbody tr th:only-of-type {\n",
       "        vertical-align: middle;\n",
       "    }\n",
       "\n",
       "    .dataframe tbody tr th {\n",
       "        vertical-align: top;\n",
       "    }\n",
       "\n",
       "    .dataframe thead th {\n",
       "        text-align: right;\n",
       "    }\n",
       "</style>\n",
       "<table border=\"1\" class=\"dataframe\">\n",
       "  <thead>\n",
       "    <tr style=\"text-align: right;\">\n",
       "      <th></th>\n",
       "      <th>node1</th>\n",
       "      <th>node2</th>\n",
       "      <th>probability</th>\n",
       "    </tr>\n",
       "  </thead>\n",
       "  <tbody>\n",
       "    <tr>\n",
       "      <th>0</th>\n",
       "      <td>9047</td>\n",
       "      <td>21979</td>\n",
       "      <td>0.500482</td>\n",
       "    </tr>\n",
       "    <tr>\n",
       "      <th>1</th>\n",
       "      <td>9047</td>\n",
       "      <td>43523</td>\n",
       "      <td>0.500397</td>\n",
       "    </tr>\n",
       "    <tr>\n",
       "      <th>2</th>\n",
       "      <td>9047</td>\n",
       "      <td>43525</td>\n",
       "      <td>0.500395</td>\n",
       "    </tr>\n",
       "    <tr>\n",
       "      <th>3</th>\n",
       "      <td>9047</td>\n",
       "      <td>43573</td>\n",
       "      <td>0.500382</td>\n",
       "    </tr>\n",
       "    <tr>\n",
       "      <th>4</th>\n",
       "      <td>9047</td>\n",
       "      <td>43524</td>\n",
       "      <td>0.500381</td>\n",
       "    </tr>\n",
       "  </tbody>\n",
       "</table>\n",
       "</div>"
      ],
      "text/plain": [
       "   node1  node2  probability\n",
       "0   9047  21979     0.500482\n",
       "1   9047  43523     0.500397\n",
       "2   9047  43525     0.500395\n",
       "3   9047  43573     0.500382\n",
       "4   9047  43524     0.500381"
      ]
     },
     "execution_count": 13,
     "metadata": {},
     "output_type": "execute_result"
    }
   ],
   "source": [
    "res = model.predict_stream(\n",
    "    projected_graph_object,\n",
    "    topK=5,\n",
    "    # threshold=0.5,\n",
    "    sampleRate=0.8,\n",
    "    # randomJoins=2,\n",
    "    # maxIterations=3,\n",
    "    # concurrency=1,\n",
    "    # randomSeed=42,\n",
    ")\n",
    "res.head()"
   ]
  },
  {
   "cell_type": "code",
   "execution_count": null,
   "id": "0472c9fb",
   "metadata": {},
   "outputs": [],
   "source": []
  },
  {
   "cell_type": "code",
   "execution_count": null,
   "id": "7bbd43ee",
   "metadata": {},
   "outputs": [],
   "source": []
  },
  {
   "cell_type": "code",
   "execution_count": null,
   "id": "0f283a27",
   "metadata": {},
   "outputs": [],
   "source": []
  },
  {
   "cell_type": "raw",
   "id": "aec250eb",
   "metadata": {},
   "source": [
    "unique_node_ids = pd.concat(\n",
    "    [pd.Series(res.node1.unique()), pd.Series(res.node2.unique())], ignore_index=True\n",
    ").unique()\n",
    "len(unique_node_ids)"
   ]
  },
  {
   "cell_type": "raw",
   "id": "9ac92418",
   "metadata": {},
   "source": [
    "nodes = gds.util.asNodes(list(unique_node_ids))"
   ]
  },
  {
   "cell_type": "raw",
   "id": "2e86ff70",
   "metadata": {},
   "source": [
    "mapping = {\n",
    "    node.id: node.get(\"name\")\n",
    "    for node in nodes\n",
    "}"
   ]
  },
  {
   "cell_type": "raw",
   "id": "062650b8",
   "metadata": {},
   "source": [
    "res[\"node1Name\"] = res.node1.map(mapping)\n",
    "res[\"node2Name\"] = res.node2.map(mapping)"
   ]
  },
  {
   "cell_type": "raw",
   "id": "691d7cd3",
   "metadata": {},
   "source": [
    "true_values = gds.run_cypher(\"\"\"\n",
    "MATCH (p:MainComponent)-[:KNOWS_TEST]-(pp:MainComponent)\n",
    "RETURN p.name, collect(DISTINCT pp.name) as testCollaborators\n",
    "\"\"\")\n",
    "true_values.head()"
   ]
  },
  {
   "cell_type": "raw",
   "id": "1e5a8658",
   "metadata": {},
   "source": [
    "res = res.merge(true_values, left_on=\"node1Name\", right_on=\"p.name\", how=\"inner\")\n",
    "res.head()"
   ]
  },
  {
   "cell_type": "raw",
   "id": "8583b6c0",
   "metadata": {},
   "source": [
    "mask = res.apply(lambda row : row[\"node2Name\"] in row[\"testCollaborators\"], axis=1)\n",
    "res_masked = res[mask]\n",
    "res_grouped = res_masked.groupby(\"node1Name\").agg(\n",
    "    # node2Name=('node2Name' ,  'unique'), \n",
    "    node2Len=('node2Name', 'count'),\n",
    ")\n",
    "res_grouped.sort_values(\"node2Len\", ascending=False).head(20)"
   ]
  },
  {
   "cell_type": "code",
   "execution_count": null,
   "id": "80a03454",
   "metadata": {},
   "outputs": [],
   "source": []
  }
 ],
 "metadata": {
  "kernelspec": {
   "display_name": "Python 3 (ipykernel)",
   "language": "python",
   "name": "python3"
  },
  "language_info": {
   "codemirror_mode": {
    "name": "ipython",
    "version": 3
   },
   "file_extension": ".py",
   "mimetype": "text/x-python",
   "name": "python",
   "nbconvert_exporter": "python",
   "pygments_lexer": "ipython3",
   "version": "3.10.6"
  }
 },
 "nbformat": 4,
 "nbformat_minor": 5
}
