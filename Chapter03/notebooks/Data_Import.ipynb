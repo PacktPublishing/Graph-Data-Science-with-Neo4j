{
 "cells": [
  {
   "cell_type": "markdown",
   "id": "ce455a31",
   "metadata": {},
   "source": [
    "# Importing data into Neo4j from Python\n",
    "\n",
    "Using the Neo4j Python driver, we are importing some data from an `edgelist` file. All nodes are assigned the `NodeB` label."
   ]
  },
  {
   "cell_type": "code",
   "execution_count": 1,
   "id": "9fec10c9",
   "metadata": {},
   "outputs": [],
   "source": [
    "from collections import defaultdict\n",
    "from neo4j import GraphDatabase"
   ]
  },
  {
   "cell_type": "code",
   "execution_count": 2,
   "id": "0b97a9be",
   "metadata": {},
   "outputs": [],
   "source": [
    "def process_row(tx, row):\n",
    "    id1, id2 = row.split(\" \")\n",
    "    tx.run(\"MERGE (n1:NodeB {id: $id1}) \"\n",
    "           \"MERGE (n2:NodeB {id: $id2})\"\n",
    "           \"CREATE (n1)-[:LINK]->(n2)\",\n",
    "           id1=int(id1), id2=int(id2),\n",
    "        )"
   ]
  },
  {
   "cell_type": "code",
   "execution_count": 3,
   "id": "fa504e3e",
   "metadata": {},
   "outputs": [],
   "source": [
    "driver = GraphDatabase.driver(\"bolt://localhost:7687\", auth=(\"neo4j\", \"<PASSWORD>\"))"
   ]
  },
  {
   "cell_type": "code",
   "execution_count": 4,
   "id": "8fc50d64",
   "metadata": {},
   "outputs": [
    {
     "name": "stdout",
     "output_type": "stream",
     "text": [
      "graph_A.edgelist  graph_B.edgelist\r\n"
     ]
    }
   ],
   "source": [
    "!ls ../data"
   ]
  },
  {
   "cell_type": "code",
   "execution_count": 15,
   "id": "7b60a598",
   "metadata": {},
   "outputs": [],
   "source": [
    "with open(\"../data/graph_B.edgelist\", \"r\") as f:\n",
    "    with driver.session() as s:\n",
    "        for row in f:\n",
    "            s.write_transaction(process_row, row)"
   ]
  },
  {
   "cell_type": "code",
   "execution_count": 5,
   "id": "50002f15",
   "metadata": {},
   "outputs": [
    {
     "data": {
      "text/plain": [
       "defaultdict(int, {'NodeA': 2001, 'NodeB': 800, 'NodeC': 5})"
      ]
     },
     "execution_count": 5,
     "metadata": {},
     "output_type": "execute_result"
    }
   ],
   "source": [
    "with driver.session() as s:\n",
    "    result = s.run(\"MATCH (n) RETURN n\")\n",
    "    data = defaultdict(int)\n",
    "    for r in result:\n",
    "        for l in r[\"n\"].labels:\n",
    "            data[l] += 1\n",
    "data"
   ]
  },
  {
   "cell_type": "code",
   "execution_count": null,
   "id": "1da18bb9",
   "metadata": {},
   "outputs": [],
   "source": []
  }
 ],
 "metadata": {
  "kernelspec": {
   "display_name": "Python 3 (ipykernel)",
   "language": "python",
   "name": "python3"
  },
  "language_info": {
   "codemirror_mode": {
    "name": "ipython",
    "version": 3
   },
   "file_extension": ".py",
   "mimetype": "text/x-python",
   "name": "python",
   "nbconvert_exporter": "python",
   "pygments_lexer": "ipython3",
   "version": "3.10.4"
  }
 },
 "nbformat": 4,
 "nbformat_minor": 5
}
