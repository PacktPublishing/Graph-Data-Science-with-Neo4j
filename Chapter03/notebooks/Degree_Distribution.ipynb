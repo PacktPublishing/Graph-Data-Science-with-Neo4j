{
 "cells": [
  {
   "cell_type": "markdown",
   "id": "1812eccd",
   "metadata": {},
   "source": [
    "# Plot degree distribution\n",
    "\n",
    "In this notebook, we are fetching node's degree from Neo4j and storing data in a `pandas.DataFrame`. From there, we are drawing the degree-distribution plots."
   ]
  },
  {
   "cell_type": "code",
   "execution_count": 1,
   "id": "84d8dcec",
   "metadata": {},
   "outputs": [],
   "source": [
    "import pandas as pd\n",
    "import matplotlib.pyplot as plt\n",
    "\n",
    "from neo4j import GraphDatabase\n",
    "\n",
    "## load custom matplotlib style for nicer (IMHO) figure rendering\n",
    "# comment out if you have not downloaded the file\n",
    "plt.style.use('../../my_style.mplstyle')"
   ]
  },
  {
   "cell_type": "code",
   "execution_count": 2,
   "id": "a7617060",
   "metadata": {},
   "outputs": [],
   "source": [
    "driver = GraphDatabase.driver(\"bolt://localhost:7687\", auth=(\"neo4j\", \"admin\"))"
   ]
  },
  {
   "cell_type": "code",
   "execution_count": 3,
   "id": "aef23147",
   "metadata": {},
   "outputs": [],
   "source": [
    "def get_degrees(tx, node_label: str, rel_type: str) -> dict[int, int]:\n",
    "    query = f\"\"\"\n",
    "    MATCH (n:{node_label})-[r:{rel_type}]-() \n",
    "    RETURN elementId(n) as id, count(r) as degree\n",
    "    \"\"\"\n",
    "    result = tx.run(query)\n",
    "    res = result.data()\n",
    "    return res"
   ]
  },
  {
   "cell_type": "code",
   "execution_count": 4,
   "id": "a1906c75",
   "metadata": {},
   "outputs": [
    {
     "name": "stdout",
     "output_type": "stream",
     "text": [
      "[{'id': '4:c8a9e0a0-fea1-4f4c-975b-d47c0d38722d:9047', 'degree': 24}, {'id': '4:c8a9e0a0-fea1-4f4c-975b-d47c0d38722d:9048', 'degree': 33}, {'id': '4:c8a9e0a0-fea1-4f4c-975b-d47c0d38722d:9049', 'degree': 11}]\n"
     ]
    }
   ],
   "source": [
    "with driver.session() as s:\n",
    "    degree_data = s.read_transaction(get_degrees, \"Person\", \"KNOWS\")\n",
    "    # degree_data = s.read_transaction(get_degrees, \"Movie\", \"RELATED_TO\")\n",
    "    \n",
    "print(degree_data[:3])"
   ]
  },
  {
   "cell_type": "code",
   "execution_count": 5,
   "id": "907b1d3f",
   "metadata": {},
   "outputs": [
    {
     "data": {
      "text/html": [
       "<div>\n",
       "<style scoped>\n",
       "    .dataframe tbody tr th:only-of-type {\n",
       "        vertical-align: middle;\n",
       "    }\n",
       "\n",
       "    .dataframe tbody tr th {\n",
       "        vertical-align: top;\n",
       "    }\n",
       "\n",
       "    .dataframe thead th {\n",
       "        text-align: right;\n",
       "    }\n",
       "</style>\n",
       "<table border=\"1\" class=\"dataframe\">\n",
       "  <thead>\n",
       "    <tr style=\"text-align: right;\">\n",
       "      <th></th>\n",
       "      <th>id</th>\n",
       "      <th>degree</th>\n",
       "    </tr>\n",
       "  </thead>\n",
       "  <tbody>\n",
       "    <tr>\n",
       "      <th>0</th>\n",
       "      <td>4:c8a9e0a0-fea1-4f4c-975b-d47c0d38722d:9047</td>\n",
       "      <td>24</td>\n",
       "    </tr>\n",
       "    <tr>\n",
       "      <th>1</th>\n",
       "      <td>4:c8a9e0a0-fea1-4f4c-975b-d47c0d38722d:9048</td>\n",
       "      <td>33</td>\n",
       "    </tr>\n",
       "    <tr>\n",
       "      <th>2</th>\n",
       "      <td>4:c8a9e0a0-fea1-4f4c-975b-d47c0d38722d:9049</td>\n",
       "      <td>11</td>\n",
       "    </tr>\n",
       "    <tr>\n",
       "      <th>3</th>\n",
       "      <td>4:c8a9e0a0-fea1-4f4c-975b-d47c0d38722d:9050</td>\n",
       "      <td>11</td>\n",
       "    </tr>\n",
       "    <tr>\n",
       "      <th>4</th>\n",
       "      <td>4:c8a9e0a0-fea1-4f4c-975b-d47c0d38722d:9051</td>\n",
       "      <td>8</td>\n",
       "    </tr>\n",
       "    <tr>\n",
       "      <th>...</th>\n",
       "      <td>...</td>\n",
       "      <td>...</td>\n",
       "    </tr>\n",
       "    <tr>\n",
       "      <th>40530</th>\n",
       "      <td>4:c8a9e0a0-fea1-4f4c-975b-d47c0d38722d:49989</td>\n",
       "      <td>9</td>\n",
       "    </tr>\n",
       "    <tr>\n",
       "      <th>40531</th>\n",
       "      <td>4:c8a9e0a0-fea1-4f4c-975b-d47c0d38722d:49990</td>\n",
       "      <td>8</td>\n",
       "    </tr>\n",
       "    <tr>\n",
       "      <th>40532</th>\n",
       "      <td>4:c8a9e0a0-fea1-4f4c-975b-d47c0d38722d:49991</td>\n",
       "      <td>8</td>\n",
       "    </tr>\n",
       "    <tr>\n",
       "      <th>40533</th>\n",
       "      <td>4:c8a9e0a0-fea1-4f4c-975b-d47c0d38722d:49992</td>\n",
       "      <td>8</td>\n",
       "    </tr>\n",
       "    <tr>\n",
       "      <th>40534</th>\n",
       "      <td>4:c8a9e0a0-fea1-4f4c-975b-d47c0d38722d:49993</td>\n",
       "      <td>8</td>\n",
       "    </tr>\n",
       "  </tbody>\n",
       "</table>\n",
       "<p>40535 rows × 2 columns</p>\n",
       "</div>"
      ],
      "text/plain": [
       "                                                 id  degree\n",
       "0       4:c8a9e0a0-fea1-4f4c-975b-d47c0d38722d:9047      24\n",
       "1       4:c8a9e0a0-fea1-4f4c-975b-d47c0d38722d:9048      33\n",
       "2       4:c8a9e0a0-fea1-4f4c-975b-d47c0d38722d:9049      11\n",
       "3       4:c8a9e0a0-fea1-4f4c-975b-d47c0d38722d:9050      11\n",
       "4       4:c8a9e0a0-fea1-4f4c-975b-d47c0d38722d:9051       8\n",
       "...                                             ...     ...\n",
       "40530  4:c8a9e0a0-fea1-4f4c-975b-d47c0d38722d:49989       9\n",
       "40531  4:c8a9e0a0-fea1-4f4c-975b-d47c0d38722d:49990       8\n",
       "40532  4:c8a9e0a0-fea1-4f4c-975b-d47c0d38722d:49991       8\n",
       "40533  4:c8a9e0a0-fea1-4f4c-975b-d47c0d38722d:49992       8\n",
       "40534  4:c8a9e0a0-fea1-4f4c-975b-d47c0d38722d:49993       8\n",
       "\n",
       "[40535 rows x 2 columns]"
      ]
     },
     "execution_count": 5,
     "metadata": {},
     "output_type": "execute_result"
    }
   ],
   "source": [
    "data = pd.DataFrame(degree_data)\n",
    "data"
   ]
  },
  {
   "cell_type": "code",
   "execution_count": 6,
   "id": "c6662c5a",
   "metadata": {},
   "outputs": [],
   "source": [
    "def plot_degree_distribution(degrees: pd.Series):\n",
    "    # define figure and subplots\n",
    "    fig = plt.figure(figsize=(12, 8))\n",
    "    ax1 = fig.subplots(1, 1)\n",
    "\n",
    "    # compute and draw degree distribution\n",
    "    distribution = degrees.value_counts().sort_index()\n",
    "    distribution.plot(\n",
    "        ax=ax1, \n",
    "        marker=\"o\", color=\"k\",\n",
    "        title=\"Degree Distribution\", xlabel=\"Degree\", ylabel=\"nbOccurrences\",\n",
    "        logy=True, \n",
    "        logx=True,\n",
    "    )\n",
    "\n",
    "    fig.tight_layout()\n",
    "    return fig"
   ]
  },
  {
   "cell_type": "code",
   "execution_count": 7,
   "id": "407f3b63",
   "metadata": {},
   "outputs": [
    {
     "data": {
      "image/png": "[encoded data removed]",
      "text/plain": [
       "<Figure size 864x576 with 1 Axes>"
      ]
     },
     "metadata": {
      "needs_background": "light"
     },
     "output_type": "display_data"
    }
   ],
   "source": [
    "plot_degree_distribution(data.degree);"
   ]
  },
  {
   "cell_type": "code",
   "execution_count": null,
   "id": "960550bd",
   "metadata": {},
   "outputs": [],
   "source": []
  }
 ],
 "metadata": {
  "kernelspec": {
   "display_name": "Python 3 (ipykernel)",
   "language": "python",
   "name": "python3"
  },
  "language_info": {
   "codemirror_mode": {
    "name": "ipython",
    "version": 3
   },
   "file_extension": ".py",
   "mimetype": "text/x-python",
   "name": "python",
   "nbconvert_exporter": "python",
   "pygments_lexer": "ipython3",
   "version": "3.10.6"
  }
 },
 "nbformat": 4,
 "nbformat_minor": 5
}
