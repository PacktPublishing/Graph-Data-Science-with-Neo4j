{
 "cells": [
  {
   "cell_type": "markdown",
   "id": "cb49f575",
   "metadata": {},
   "source": [
    "# Training a `scikit-learn` model"
   ]
  },
  {
   "cell_type": "code",
   "execution_count": 89,
   "id": "9cdfd40f",
   "metadata": {},
   "outputs": [],
   "source": [
    "# !pip install scikit-learn"
   ]
  },
  {
   "cell_type": "markdown",
   "id": "1a2c474c",
   "metadata": {},
   "source": [
    "## Computing features"
   ]
  },
  {
   "cell_type": "code",
   "execution_count": 1,
   "id": "588565de",
   "metadata": {},
   "outputs": [],
   "source": [
    "import sys\n",
    "import os\n",
    "sys.path.append(os.path.join(os.curdir, \"..\"))\n",
    "# sys.path"
   ]
  },
  {
   "cell_type": "code",
   "execution_count": 2,
   "id": "1eeb478e",
   "metadata": {},
   "outputs": [],
   "source": [
    "from graphdatascience import GraphDataScience\n",
    "from sklearn.utils import resample\n",
    "from sklearn import tree\n",
    "from sklearn.model_selection import train_test_split\n",
    "\n",
    "from utils import create_projected_graph"
   ]
  },
  {
   "cell_type": "code",
   "execution_count": 3,
   "id": "cf776867",
   "metadata": {},
   "outputs": [],
   "source": [
    "gds = GraphDataScience(\"bolt://localhost:7687\", auth=(\"neo4j\", \"admin\"))"
   ]
  },
  {
   "cell_type": "code",
   "execution_count": 6,
   "id": "0b4d4f0f",
   "metadata": {},
   "outputs": [],
   "source": [
    "projected_graph_object = create_projected_graph(\n",
    "    gds,\n",
    "    graph_name=\"pgraphB\",\n",
    "    node_spec=\"NodeB\",  \n",
    "    relationship_spec={\"LINK\": {\"orientation\": \"UNDIRECTED\"}}\n",
    ")"
   ]
  },
  {
   "cell_type": "code",
   "execution_count": 7,
   "id": "0ddbd5c8",
   "metadata": {},
   "outputs": [
    {
     "data": {
      "application/vnd.jupyter.widget-view+json": {
       "model_id": "1cff0da833af43deb506c6878449808e",
       "version_major": 2,
       "version_minor": 0
      },
      "text/plain": [
       "Louvain:   0%|          | 0/100 [00:00<?, ?%/s]"
      ]
     },
     "metadata": {},
     "output_type": "display_data"
    },
    {
     "data": {
      "text/plain": [
       "writeMillis                                                            207\n",
       "nodePropertiesWritten                                                  800\n",
       "modularity                                                        0.435427\n",
       "modularities                     [0.4349884322245381, 0.43542650313630066]\n",
       "ranLevels                                                                2\n",
       "communityCount                                                           4\n",
       "communityDistribution    {'p99': 350, 'min': 100, 'max': 350, 'mean': 2...\n",
       "postProcessingMillis                                                    10\n",
       "preProcessingMillis                                                      0\n",
       "computeMillis                                                          477\n",
       "configuration            {'maxIterations': 10, 'writeConcurrency': 4, '...\n",
       "Name: 0, dtype: object"
      ]
     },
     "execution_count": 7,
     "metadata": {},
     "output_type": "execute_result"
    }
   ],
   "source": [
    "gds.louvain.write(\n",
    "    projected_graph_object,\n",
    "    writeProperty=\"louvain\"\n",
    ")"
   ]
  },
  {
   "cell_type": "code",
   "execution_count": 5,
   "id": "746b91d5",
   "metadata": {},
   "outputs": [
    {
     "data": {
      "text/plain": [
       "graphName                                                      pgraphB\n",
       "database                                                         neo4j\n",
       "memoryUsage                                                           \n",
       "sizeInBytes                                                         -1\n",
       "nodeCount                                                          800\n",
       "relationshipCount                                                41454\n",
       "configuration        {'relationshipProjection': {'LINK': {'orientat...\n",
       "density                                                       0.064853\n",
       "creationTime                       2022-08-23T14:41:55.806133000+02:00\n",
       "modificationTime                   2022-08-23T14:41:55.812809000+02:00\n",
       "schema               {'graphProperties': {}, 'relationships': {'LIN...\n",
       "Name: 0, dtype: object"
      ]
     },
     "execution_count": 5,
     "metadata": {},
     "output_type": "execute_result"
    }
   ],
   "source": [
    "gds.graph.drop(projected_graph_object)"
   ]
  },
  {
   "cell_type": "markdown",
   "id": "ae03feb0",
   "metadata": {},
   "source": [
    "## Extracting data into a dataframe"
   ]
  },
  {
   "cell_type": "code",
   "execution_count": 216,
   "id": "eb167679",
   "metadata": {},
   "outputs": [
    {
     "data": {
      "text/html": [
       "<div>\n",
       "<style scoped>\n",
       "    .dataframe tbody tr th:only-of-type {\n",
       "        vertical-align: middle;\n",
       "    }\n",
       "\n",
       "    .dataframe tbody tr th {\n",
       "        vertical-align: top;\n",
       "    }\n",
       "\n",
       "    .dataframe thead th {\n",
       "        text-align: right;\n",
       "    }\n",
       "</style>\n",
       "<table border=\"1\" class=\"dataframe\">\n",
       "  <thead>\n",
       "    <tr style=\"text-align: right;\">\n",
       "      <th></th>\n",
       "      <th>id</th>\n",
       "      <th>feature</th>\n",
       "      <th>louvain</th>\n",
       "      <th>target</th>\n",
       "    </tr>\n",
       "  </thead>\n",
       "  <tbody>\n",
       "    <tr>\n",
       "      <th>0</th>\n",
       "      <td>0</td>\n",
       "      <td>0.361725</td>\n",
       "      <td>13</td>\n",
       "      <td>0</td>\n",
       "    </tr>\n",
       "    <tr>\n",
       "      <th>1</th>\n",
       "      <td>1</td>\n",
       "      <td>0.146373</td>\n",
       "      <td>13</td>\n",
       "      <td>0</td>\n",
       "    </tr>\n",
       "    <tr>\n",
       "      <th>2</th>\n",
       "      <td>2</td>\n",
       "      <td>1.079857</td>\n",
       "      <td>13</td>\n",
       "      <td>0</td>\n",
       "    </tr>\n",
       "    <tr>\n",
       "      <th>3</th>\n",
       "      <td>3</td>\n",
       "      <td>-1.407586</td>\n",
       "      <td>13</td>\n",
       "      <td>0</td>\n",
       "    </tr>\n",
       "    <tr>\n",
       "      <th>4</th>\n",
       "      <td>4</td>\n",
       "      <td>0.830645</td>\n",
       "      <td>13</td>\n",
       "      <td>1</td>\n",
       "    </tr>\n",
       "  </tbody>\n",
       "</table>\n",
       "</div>"
      ],
      "text/plain": [
       "   id   feature  louvain  target\n",
       "0   0  0.361725       13       0\n",
       "1   1  0.146373       13       0\n",
       "2   2  1.079857       13       0\n",
       "3   3 -1.407586       13       0\n",
       "4   4  0.830645       13       1"
      ]
     },
     "execution_count": 216,
     "metadata": {},
     "output_type": "execute_result"
    }
   ],
   "source": [
    "data = gds.run_cypher(\n",
    "    \"\"\"MATCH (node:NodeB)\n",
    "    RETURN node.id as id, node.feature as feature, node.louvain as louvain, node.target as target\n",
    "    \"\"\"\n",
    ")\n",
    "data.head()"
   ]
  },
  {
   "cell_type": "code",
   "execution_count": 217,
   "id": "0d862fc0",
   "metadata": {},
   "outputs": [
    {
     "data": {
      "text/plain": [
       "0    427\n",
       "1    373\n",
       "Name: target, dtype: int64"
      ]
     },
     "execution_count": 217,
     "metadata": {},
     "output_type": "execute_result"
    }
   ],
   "source": [
    "data.target.value_counts()"
   ]
  },
  {
   "cell_type": "code",
   "execution_count": 219,
   "id": "5ce77a98",
   "metadata": {},
   "outputs": [
    {
     "data": {
      "text/plain": [
       "(373, 427)"
      ]
     },
     "execution_count": 219,
     "metadata": {},
     "output_type": "execute_result"
    }
   ],
   "source": [
    "true_data = data[data.target == 1]\n",
    "false_data = data[data.target == 0]\n",
    "len(true_data), len(false_data)"
   ]
  },
  {
   "cell_type": "code",
   "execution_count": 220,
   "id": "81941c77",
   "metadata": {},
   "outputs": [],
   "source": [
    "false_data_downsampled = resample(\n",
    "    false_data,\n",
    "    replace=True,\n",
    "    n_samples=len(true_data),\n",
    "    random_state=1234,\n",
    ")"
   ]
  },
  {
   "cell_type": "code",
   "execution_count": 223,
   "id": "aa76a6b9",
   "metadata": {},
   "outputs": [
    {
     "data": {
      "text/plain": [
       "1    373\n",
       "0    373\n",
       "Name: target, dtype: int64"
      ]
     },
     "execution_count": 223,
     "metadata": {},
     "output_type": "execute_result"
    }
   ],
   "source": [
    "data = pd.concat([true_data, false_data_downsampled], axis=0)\n",
    "data.target.value_counts()"
   ]
  },
  {
   "cell_type": "code",
   "execution_count": 249,
   "id": "4bc86127",
   "metadata": {
    "scrolled": false
   },
   "outputs": [
    {
     "data": {
      "text/plain": [
       "<AxesSubplot:ylabel='Frequency'>"
      ]
     },
     "execution_count": 249,
     "metadata": {},
     "output_type": "execute_result"
    },
    {
     "data": {
      "image/png": "[encoded data removed]",
      "text/plain": [
       "<Figure size 432x288 with 1 Axes>"
      ]
     },
     "metadata": {
      "needs_background": "light"
     },
     "output_type": "display_data"
    }
   ],
   "source": [
    "true_data.feature.plot.hist(range=(-1, 2), bins=20, color=\"white\", edgecolor=\"black\", alpha=0.5)\n",
    "false_data_downsampled.feature.plot.hist(range=(-1, 2), bins=20, color=\"grey\", alpha=0.5)\n"
   ]
  },
  {
   "cell_type": "code",
   "execution_count": 231,
   "id": "70409203",
   "metadata": {},
   "outputs": [],
   "source": [
    "def train_and_score(X_train, y_train, X_test, y_test, feature_columns):\n",
    "    X_train_bis = X_train[feature_columns]\n",
    "    X_test_bis = X_test[feature_columns]\n",
    "    clf = tree.DecisionTreeClassifier()\n",
    "    clf = clf.fit(X_train_bis, y_train)\n",
    "    return clf.score(X_test_bis, y_test)"
   ]
  },
  {
   "cell_type": "code",
   "execution_count": 250,
   "id": "0904f7da",
   "metadata": {},
   "outputs": [
    {
     "data": {
      "text/plain": [
       "(499, 247)"
      ]
     },
     "execution_count": 250,
     "metadata": {},
     "output_type": "execute_result"
    }
   ],
   "source": [
    "X = data[[\"feature\", \"louvain\"]]\n",
    "y = data.target\n",
    "X_train, X_test, y_train, y_test = train_test_split(\n",
    "    X, y, test_size=0.33,\n",
    "    stratify=data.target,\n",
    "    random_state=1234\n",
    ")\n",
    "len(X_train), len(X_test)"
   ]
  },
  {
   "cell_type": "code",
   "execution_count": 251,
   "id": "bddae68b",
   "metadata": {},
   "outputs": [
    {
     "name": "stdout",
     "output_type": "stream",
     "text": [
      "['feature']                    => 0.72\n",
      "['louvain']                    => 0.77\n",
      "['feature', 'louvain']         => 0.80\n"
     ]
    }
   ],
   "source": [
    "feature_sets = [\n",
    "   [\"feature\"],\n",
    "   [\"louvain\"],\n",
    "   [\"feature\", \"louvain\"],\n",
    "]\n",
    "\n",
    "for feature_set in feature_sets:\n",
    "    score = train_and_score(\n",
    "        X_train, y_train, X_test, y_test, \n",
    "        feature_set\n",
    "    )\n",
    "    print(f\"{str(feature_set):30} => {score:2.2f}\")"
   ]
  },
  {
   "cell_type": "code",
   "execution_count": null,
   "id": "3f751fea",
   "metadata": {},
   "outputs": [],
   "source": []
  },
  {
   "cell_type": "code",
   "execution_count": 10,
   "id": "36d9d891",
   "metadata": {},
   "outputs": [
    {
     "data": {
      "text/plain": [
       "<AxesSubplot:ylabel='Frequency'>"
      ]
     },
     "execution_count": 10,
     "metadata": {},
     "output_type": "execute_result"
    },
    {
     "data": {
      "image/png": "[encoded data removed]",
      "text/plain": [
       "<Figure size 432x288 with 1 Axes>"
      ]
     },
     "metadata": {
      "needs_background": "light"
     },
     "output_type": "display_data"
    }
   ],
   "source": [
    "data.louvain.plot.hist()"
   ]
  },
  {
   "cell_type": "code",
   "execution_count": 12,
   "id": "cefe8934",
   "metadata": {},
   "outputs": [
    {
     "data": {
      "text/plain": [
       "423    350\n",
       "210    200\n",
       "418    150\n",
       "13     100\n",
       "Name: louvain, dtype: int64"
      ]
     },
     "execution_count": 12,
     "metadata": {},
     "output_type": "execute_result"
    }
   ],
   "source": [
    "data.louvain.value_counts()"
   ]
  },
  {
   "cell_type": "code",
   "execution_count": 13,
   "id": "9d86b210",
   "metadata": {},
   "outputs": [
    {
     "data": {
      "text/plain": [
       "{13: 0, 210: 1, 418: 2, 423: 3}"
      ]
     },
     "execution_count": 13,
     "metadata": {},
     "output_type": "execute_result"
    }
   ],
   "source": [
    "target_map = {\n",
    "    u: k for k , u in enumerate(data.louvain.unique())\n",
    "}\n",
    "target_map"
   ]
  },
  {
   "cell_type": "code",
   "execution_count": 14,
   "id": "8f1be4c0",
   "metadata": {},
   "outputs": [],
   "source": [
    "data[\"target\"] = data.louvain.map(target_map)"
   ]
  },
  {
   "cell_type": "code",
   "execution_count": 15,
   "id": "9d39ca64",
   "metadata": {},
   "outputs": [
    {
     "data": {
      "text/plain": [
       "<AxesSubplot:ylabel='Frequency'>"
      ]
     },
     "execution_count": 15,
     "metadata": {},
     "output_type": "execute_result"
    },
    {
     "data": {
      "image/png": "[encoded data removed]",
      "text/plain": [
       "<Figure size 432x288 with 1 Axes>"
      ]
     },
     "metadata": {
      "needs_background": "light"
     },
     "output_type": "display_data"
    }
   ],
   "source": [
    "data.target.plot.hist()"
   ]
  },
  {
   "cell_type": "code",
   "execution_count": 17,
   "id": "3a91ccd2",
   "metadata": {},
   "outputs": [
    {
     "data": {
      "text/plain": [
       "<AxesSubplot:ylabel='Frequency'>"
      ]
     },
     "execution_count": 17,
     "metadata": {},
     "output_type": "execute_result"
    },
    {
     "data": {
      "image/png": "[encoded data removed]",
      "text/plain": [
       "<Figure size 432x288 with 1 Axes>"
      ]
     },
     "metadata": {
      "needs_background": "light"
     },
     "output_type": "display_data"
    }
   ],
   "source": [
    "data[\"target_0\"] = (data.target == 3).astype(int)\n",
    "data.target_0.plot.hist()"
   ]
  },
  {
   "cell_type": "code",
   "execution_count": 178,
   "id": "3bef90d5",
   "metadata": {},
   "outputs": [],
   "source": [
    "keep_mask = np.random.random(size=len(data)) > 0.2\n",
    "data[\"target_1\"] = (\n",
    "    data[\"target_0\"] * keep_mask\n",
    "    + (np.invert(data[\"target_0\"]) + 2) * (1 - keep_mask)\n",
    ")"
   ]
  },
  {
   "cell_type": "code",
   "execution_count": 179,
   "id": "2b990397",
   "metadata": {},
   "outputs": [
    {
     "data": {
      "text/plain": [
       "<AxesSubplot:ylabel='Frequency'>"
      ]
     },
     "execution_count": 179,
     "metadata": {},
     "output_type": "execute_result"
    },
    {
     "data": {
      "image/png": "[encoded data removed]",
      "text/plain": [
       "<Figure size 432x288 with 1 Axes>"
      ]
     },
     "metadata": {
      "needs_background": "light"
     },
     "output_type": "display_data"
    }
   ],
   "source": [
    "data.target_1.plot.hist()"
   ]
  },
  {
   "cell_type": "code",
   "execution_count": 180,
   "id": "1561e1d5",
   "metadata": {},
   "outputs": [
    {
     "data": {
      "text/plain": [
       "0    427\n",
       "1    373\n",
       "Name: target_1, dtype: int64"
      ]
     },
     "execution_count": 180,
     "metadata": {},
     "output_type": "execute_result"
    }
   ],
   "source": [
    "data.target_1.value_counts()"
   ]
  },
  {
   "cell_type": "code",
   "execution_count": 181,
   "id": "d77f082a",
   "metadata": {},
   "outputs": [
    {
     "data": {
      "text/plain": [
       "0    450\n",
       "1    350\n",
       "Name: target_0, dtype: int64"
      ]
     },
     "execution_count": 181,
     "metadata": {},
     "output_type": "execute_result"
    }
   ],
   "source": [
    "data.target_0.value_counts()"
   ]
  },
  {
   "cell_type": "code",
   "execution_count": 182,
   "id": "8e02a054",
   "metadata": {},
   "outputs": [
    {
     "data": {
      "text/plain": [
       "0.8106060606060606"
      ]
     },
     "execution_count": 182,
     "metadata": {},
     "output_type": "execute_result"
    }
   ],
   "source": [
    "from sklearn import tree\n",
    "from sklearn.model_selection import train_test_split\n",
    "\n",
    "X = data[[\"louvain\"]]\n",
    "Y = data[\"target_1\"]\n",
    "\n",
    "X_train, X_test, Y_train, Y_test = train_test_split(\n",
    "    X, Y, test_size=0.33, random_state=42)\n",
    "\n",
    "clf = tree.DecisionTreeClassifier()\n",
    "clf = clf.fit(X_train, Y_train)\n",
    "clf.score(X_test, Y_test)"
   ]
  },
  {
   "cell_type": "code",
   "execution_count": 183,
   "id": "a71a1d70",
   "metadata": {},
   "outputs": [
    {
     "data": {
      "text/plain": [
       "<AxesSubplot:ylabel='Frequency'>"
      ]
     },
     "execution_count": 183,
     "metadata": {},
     "output_type": "execute_result"
    },
    {
     "data": {
      "image/png": "[encoded data removed]",
      "text/plain": [
       "<Figure size 432x288 with 1 Axes>"
      ]
     },
     "metadata": {
      "needs_background": "light"
     },
     "output_type": "display_data"
    }
   ],
   "source": [
    "feature1 = np.random.normal(size=2000, scale=0.3, loc=0.4)\n",
    "feature2 = np.random.normal(size=2000, scale=0.7, loc=0)\n",
    "\n",
    "pd.Series(feature1).plot.hist(range=(-1, 1), bins=20, color=\"blue\", alpha=0.5)\n",
    "pd.Series(feature2).plot.hist(range=(-1, 1), bins=20, color=\"red\", alpha=0.5)"
   ]
  },
  {
   "cell_type": "code",
   "execution_count": 184,
   "id": "73c5ca1e",
   "metadata": {},
   "outputs": [],
   "source": [
    "data[\"feature\"] = None"
   ]
  },
  {
   "cell_type": "code",
   "execution_count": 185,
   "id": "9e0381cd",
   "metadata": {},
   "outputs": [],
   "source": [
    "column = \"target_1\"\n",
    "value = 1\n",
    "params = {\n",
    "    \"scale\": 0.3,\n",
    "    \"loc\":0.4\n",
    "}\n",
    "mask = data[column] == value\n",
    "data.loc[mask, \"feature\"] = np.random.normal(\n",
    "    size=sum(mask), \n",
    "    **params\n",
    ")"
   ]
  },
  {
   "cell_type": "code",
   "execution_count": 186,
   "id": "704167c0",
   "metadata": {},
   "outputs": [],
   "source": [
    "column = \"target_1\"\n",
    "value = 0\n",
    "params = {\n",
    "    \"scale\": 0.7,\n",
    "    \"loc\":0\n",
    "}\n",
    "mask = data[column] == value\n",
    "data.loc[mask, \"feature\"] = np.random.normal(\n",
    "    size=sum(mask), \n",
    "    **params\n",
    ")"
   ]
  },
  {
   "cell_type": "code",
   "execution_count": 187,
   "id": "0e2488b7",
   "metadata": {},
   "outputs": [
    {
     "data": {
      "text/html": [
       "<div>\n",
       "<style scoped>\n",
       "    .dataframe tbody tr th:only-of-type {\n",
       "        vertical-align: middle;\n",
       "    }\n",
       "\n",
       "    .dataframe tbody tr th {\n",
       "        vertical-align: top;\n",
       "    }\n",
       "\n",
       "    .dataframe thead th {\n",
       "        text-align: right;\n",
       "    }\n",
       "</style>\n",
       "<table border=\"1\" class=\"dataframe\">\n",
       "  <thead>\n",
       "    <tr style=\"text-align: right;\">\n",
       "      <th></th>\n",
       "      <th>id</th>\n",
       "      <th>louvain</th>\n",
       "      <th>target</th>\n",
       "      <th>target_0</th>\n",
       "      <th>target_1</th>\n",
       "      <th>tmp</th>\n",
       "      <th>feature</th>\n",
       "    </tr>\n",
       "  </thead>\n",
       "  <tbody>\n",
       "    <tr>\n",
       "      <th>0</th>\n",
       "      <td>0</td>\n",
       "      <td>13</td>\n",
       "      <td>0</td>\n",
       "      <td>0</td>\n",
       "      <td>0</td>\n",
       "      <td>-1</td>\n",
       "      <td>0.361725</td>\n",
       "    </tr>\n",
       "    <tr>\n",
       "      <th>1</th>\n",
       "      <td>1</td>\n",
       "      <td>13</td>\n",
       "      <td>0</td>\n",
       "      <td>0</td>\n",
       "      <td>0</td>\n",
       "      <td>-1</td>\n",
       "      <td>0.146373</td>\n",
       "    </tr>\n",
       "    <tr>\n",
       "      <th>2</th>\n",
       "      <td>2</td>\n",
       "      <td>13</td>\n",
       "      <td>0</td>\n",
       "      <td>0</td>\n",
       "      <td>0</td>\n",
       "      <td>-1</td>\n",
       "      <td>1.079857</td>\n",
       "    </tr>\n",
       "    <tr>\n",
       "      <th>3</th>\n",
       "      <td>3</td>\n",
       "      <td>13</td>\n",
       "      <td>0</td>\n",
       "      <td>0</td>\n",
       "      <td>0</td>\n",
       "      <td>-1</td>\n",
       "      <td>-1.407586</td>\n",
       "    </tr>\n",
       "    <tr>\n",
       "      <th>4</th>\n",
       "      <td>4</td>\n",
       "      <td>13</td>\n",
       "      <td>0</td>\n",
       "      <td>0</td>\n",
       "      <td>1</td>\n",
       "      <td>-1</td>\n",
       "      <td>0.830645</td>\n",
       "    </tr>\n",
       "    <tr>\n",
       "      <th>...</th>\n",
       "      <td>...</td>\n",
       "      <td>...</td>\n",
       "      <td>...</td>\n",
       "      <td>...</td>\n",
       "      <td>...</td>\n",
       "      <td>...</td>\n",
       "      <td>...</td>\n",
       "    </tr>\n",
       "    <tr>\n",
       "      <th>795</th>\n",
       "      <td>797</td>\n",
       "      <td>423</td>\n",
       "      <td>3</td>\n",
       "      <td>1</td>\n",
       "      <td>1</td>\n",
       "      <td>-2</td>\n",
       "      <td>-0.075665</td>\n",
       "    </tr>\n",
       "    <tr>\n",
       "      <th>796</th>\n",
       "      <td>787</td>\n",
       "      <td>423</td>\n",
       "      <td>3</td>\n",
       "      <td>1</td>\n",
       "      <td>1</td>\n",
       "      <td>-2</td>\n",
       "      <td>0.691105</td>\n",
       "    </tr>\n",
       "    <tr>\n",
       "      <th>797</th>\n",
       "      <td>794</td>\n",
       "      <td>423</td>\n",
       "      <td>3</td>\n",
       "      <td>1</td>\n",
       "      <td>0</td>\n",
       "      <td>-2</td>\n",
       "      <td>-1.058544</td>\n",
       "    </tr>\n",
       "    <tr>\n",
       "      <th>798</th>\n",
       "      <td>798</td>\n",
       "      <td>423</td>\n",
       "      <td>3</td>\n",
       "      <td>1</td>\n",
       "      <td>1</td>\n",
       "      <td>-2</td>\n",
       "      <td>0.160159</td>\n",
       "    </tr>\n",
       "    <tr>\n",
       "      <th>799</th>\n",
       "      <td>799</td>\n",
       "      <td>423</td>\n",
       "      <td>3</td>\n",
       "      <td>1</td>\n",
       "      <td>0</td>\n",
       "      <td>-2</td>\n",
       "      <td>0.463172</td>\n",
       "    </tr>\n",
       "  </tbody>\n",
       "</table>\n",
       "<p>800 rows × 7 columns</p>\n",
       "</div>"
      ],
      "text/plain": [
       "      id  louvain  target  target_0  target_1  tmp   feature\n",
       "0      0       13       0         0         0   -1  0.361725\n",
       "1      1       13       0         0         0   -1  0.146373\n",
       "2      2       13       0         0         0   -1  1.079857\n",
       "3      3       13       0         0         0   -1 -1.407586\n",
       "4      4       13       0         0         1   -1  0.830645\n",
       "..   ...      ...     ...       ...       ...  ...       ...\n",
       "795  797      423       3         1         1   -2 -0.075665\n",
       "796  787      423       3         1         1   -2  0.691105\n",
       "797  794      423       3         1         0   -2 -1.058544\n",
       "798  798      423       3         1         1   -2  0.160159\n",
       "799  799      423       3         1         0   -2  0.463172\n",
       "\n",
       "[800 rows x 7 columns]"
      ]
     },
     "execution_count": 187,
     "metadata": {},
     "output_type": "execute_result"
    }
   ],
   "source": [
    "data"
   ]
  },
  {
   "cell_type": "code",
   "execution_count": 190,
   "id": "55a6fbc1",
   "metadata": {},
   "outputs": [],
   "source": [
    "from sklearn.utils import resample\n",
    "df = resample(\n",
    "    data,\n",
    "    replace=True,\n",
    "    n_samples=len(data[data.target_1 == 1]),\n",
    "    random_state=1234,\n",
    ")"
   ]
  },
  {
   "cell_type": "code",
   "execution_count": 193,
   "id": "2c04cb36",
   "metadata": {},
   "outputs": [
    {
     "name": "stdout",
     "output_type": "stream",
     "text": [
      "0.7741935483870968\n"
     ]
    }
   ],
   "source": [
    "from sklearn import tree\n",
    "from sklearn.model_selection import train_test_split\n",
    "\n",
    "X = df[[\"louvain\"]]\n",
    "Y = df[\"target_1\"]\n",
    "\n",
    "X_train, X_test, Y_train, Y_test = train_test_split(\n",
    "    X, Y, test_size=0.33, random_state=42)\n",
    "\n",
    "clf = tree.DecisionTreeClassifier()\n",
    "clf = clf.fit(X_train, Y_train)\n",
    "print(clf.score(X_test, Y_test))"
   ]
  },
  {
   "cell_type": "code",
   "execution_count": 191,
   "id": "e480aae2",
   "metadata": {},
   "outputs": [
    {
     "name": "stdout",
     "output_type": "stream",
     "text": [
      "0.75\n"
     ]
    }
   ],
   "source": [
    "from sklearn import tree\n",
    "from sklearn.model_selection import train_test_split\n",
    "\n",
    "X = df[[\"feature\"]]\n",
    "Y = df[\"target_1\"]\n",
    "\n",
    "X_train, X_test, Y_train, Y_test = train_test_split(\n",
    "    X, Y, test_size=0.33, random_state=42)\n",
    "\n",
    "clf = tree.DecisionTreeClassifier()\n",
    "clf = clf.fit(X_train, Y_train)\n",
    "print(clf.score(X_test, Y_test))"
   ]
  },
  {
   "cell_type": "code",
   "execution_count": 192,
   "id": "697db6b5",
   "metadata": {},
   "outputs": [
    {
     "name": "stdout",
     "output_type": "stream",
     "text": [
      "0.8467741935483871\n"
     ]
    }
   ],
   "source": [
    "from sklearn import tree\n",
    "from sklearn.model_selection import train_test_split\n",
    "\n",
    "X = df[[\"feature\", \"louvain\"]]\n",
    "Y = df[\"target_1\"]\n",
    "\n",
    "X_train, X_test, Y_train, Y_test = train_test_split(\n",
    "    X, Y, test_size=0.33, random_state=42)\n",
    "\n",
    "clf = tree.DecisionTreeClassifier()\n",
    "clf = clf.fit(X_train, Y_train)\n",
    "print(clf.score(X_test, Y_test))"
   ]
  },
  {
   "cell_type": "code",
   "execution_count": 195,
   "id": "3fab0179",
   "metadata": {},
   "outputs": [],
   "source": [
    "data.to_csv(\"dataset.csv\", index=False)"
   ]
  },
  {
   "cell_type": "code",
   "execution_count": null,
   "id": "33d1dc8b",
   "metadata": {},
   "outputs": [],
   "source": []
  }
 ],
 "metadata": {
  "kernelspec": {
   "display_name": "Python 3 (ipykernel)",
   "language": "python",
   "name": "python3"
  },
  "language_info": {
   "codemirror_mode": {
    "name": "ipython",
    "version": 3
   },
   "file_extension": ".py",
   "mimetype": "text/x-python",
   "name": "python",
   "nbconvert_exporter": "python",
   "pygments_lexer": "ipython3",
   "version": "3.10.4"
  }
 },
 "nbformat": 4,
 "nbformat_minor": 5
}
