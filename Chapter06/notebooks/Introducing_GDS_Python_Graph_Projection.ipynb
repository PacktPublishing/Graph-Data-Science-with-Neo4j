{
 "cells": [
  {
   "cell_type": "markdown",
   "id": "be2d4196",
   "metadata": {},
   "source": [
    "# Introducing the GDS Python client: graph projection"
   ]
  },
  {
   "cell_type": "markdown",
   "id": "cd6db690",
   "metadata": {},
   "source": [
    "## Installing and configuring the `graphdatascience` package"
   ]
  },
  {
   "cell_type": "code",
   "execution_count": 1,
   "id": "050fe708",
   "metadata": {},
   "outputs": [],
   "source": [
    "# !pip install graphdatascience"
   ]
  },
  {
   "cell_type": "code",
   "execution_count": 2,
   "id": "e3ca1374",
   "metadata": {},
   "outputs": [
    {
     "data": {
      "text/plain": [
       "'1.5'"
      ]
     },
     "execution_count": 2,
     "metadata": {},
     "output_type": "execute_result"
    }
   ],
   "source": [
    "import graphdatascience\n",
    "# graphdatascience Python package version number\n",
    "graphdatascience.__version__"
   ]
  },
  {
   "cell_type": "code",
   "execution_count": 3,
   "id": "b1c3ec8d",
   "metadata": {},
   "outputs": [],
   "source": [
    "# display config (optional)\n",
    "import pandas as pd\n",
    "pd.set_option('display.max_colwidth', None)\n",
    "from IPython.display import display, HTML"
   ]
  },
  {
   "cell_type": "code",
   "execution_count": 4,
   "id": "463cb364",
   "metadata": {},
   "outputs": [],
   "source": [
    "from graphdatascience import GraphDataScience"
   ]
  },
  {
   "cell_type": "code",
   "execution_count": 5,
   "id": "104d86aa",
   "metadata": {},
   "outputs": [
    {
     "name": "stdout",
     "output_type": "stream",
     "text": [
      "<graphdatascience.graph_data_science.GraphDataScience object at 0x7f606ca0f970>\n",
      "2.2.5\n"
     ]
    }
   ],
   "source": [
    "# instantiate GDS object\n",
    "gds = GraphDataScience(\"bolt://localhost:7687\", auth=(\"neo4j\", \"admin\"))\n",
    "print(gds)\n",
    "# print the version of the GDS library installed in Neo4j\n",
    "# different from the Python package version number\n",
    "print(gds.version())"
   ]
  },
  {
   "cell_type": "code",
   "execution_count": 6,
   "id": "2d28a70e",
   "metadata": {},
   "outputs": [
    {
     "data": {
      "text/html": [
       "<div>\n",
       "<style scoped>\n",
       "    .dataframe tbody tr th:only-of-type {\n",
       "        vertical-align: middle;\n",
       "    }\n",
       "\n",
       "    .dataframe tbody tr th {\n",
       "        vertical-align: top;\n",
       "    }\n",
       "\n",
       "    .dataframe thead th {\n",
       "        text-align: right;\n",
       "    }\n",
       "</style>\n",
       "<table border=\"1\" class=\"dataframe\">\n",
       "  <thead>\n",
       "    <tr style=\"text-align: right;\">\n",
       "      <th></th>\n",
       "      <th>name</th>\n",
       "      <th>description</th>\n",
       "      <th>signature</th>\n",
       "      <th>type</th>\n",
       "    </tr>\n",
       "  </thead>\n",
       "  <tbody>\n",
       "    <tr>\n",
       "      <th>0</th>\n",
       "      <td>gds.allShortestPaths.delta.mutate</td>\n",
       "      <td>The Delta Stepping shortest path algorithm computes the shortest (weighted) path between one node and any other node in the graph. The computation is run multi-threaded</td>\n",
       "      <td>gds.allShortestPaths.delta.mutate(graphName :: STRING?, configuration = {} :: MAP?) :: (relationshipsWritten :: INTEGER?, mutateMillis :: INTEGER?, postProcessingMillis :: INTEGER?, preProcessingMillis :: INTEGER?, computeMillis :: INTEGER?, configuration :: MAP?)</td>\n",
       "      <td>procedure</td>\n",
       "    </tr>\n",
       "    <tr>\n",
       "      <th>1</th>\n",
       "      <td>gds.allShortestPaths.delta.mutate.estimate</td>\n",
       "      <td>Returns an estimation of the memory consumption for that procedure.</td>\n",
       "      <td>gds.allShortestPaths.delta.mutate.estimate(graphNameOrConfiguration :: ANY?, algoConfiguration :: MAP?) :: (requiredMemory :: STRING?, treeView :: STRING?, mapView :: MAP?, bytesMin :: INTEGER?, bytesMax :: INTEGER?, nodeCount :: INTEGER?, relationshipCount :: INTEGER?, heapPercentageMin :: FLOAT?, heapPercentageMax :: FLOAT?)</td>\n",
       "      <td>procedure</td>\n",
       "    </tr>\n",
       "    <tr>\n",
       "      <th>2</th>\n",
       "      <td>gds.allShortestPaths.delta.stats</td>\n",
       "      <td>The Delta Stepping shortest path algorithm computes the shortest (weighted) path between one node and any other node in the graph. The computation is run multi-threaded</td>\n",
       "      <td>gds.allShortestPaths.delta.stats(graphName :: STRING?, configuration = {} :: MAP?) :: (postProcessingMillis :: INTEGER?, preProcessingMillis :: INTEGER?, computeMillis :: INTEGER?, configuration :: MAP?)</td>\n",
       "      <td>procedure</td>\n",
       "    </tr>\n",
       "    <tr>\n",
       "      <th>3</th>\n",
       "      <td>gds.allShortestPaths.delta.stats.estimate</td>\n",
       "      <td>Returns an estimation of the memory consumption for that procedure.</td>\n",
       "      <td>gds.allShortestPaths.delta.stats.estimate(graphNameOrConfiguration :: ANY?, algoConfiguration :: MAP?) :: (requiredMemory :: STRING?, treeView :: STRING?, mapView :: MAP?, bytesMin :: INTEGER?, bytesMax :: INTEGER?, nodeCount :: INTEGER?, relationshipCount :: INTEGER?, heapPercentageMin :: FLOAT?, heapPercentageMax :: FLOAT?)</td>\n",
       "      <td>procedure</td>\n",
       "    </tr>\n",
       "    <tr>\n",
       "      <th>4</th>\n",
       "      <td>gds.allShortestPaths.delta.stream</td>\n",
       "      <td>The Delta Stepping shortest path algorithm computes the shortest (weighted) path between one node and any other node in the graph. The computation is run multi-threaded</td>\n",
       "      <td>gds.allShortestPaths.delta.stream(graphName :: STRING?, configuration = {} :: MAP?) :: (index :: INTEGER?, sourceNode :: INTEGER?, targetNode :: INTEGER?, totalCost :: FLOAT?, nodeIds :: LIST? OF INTEGER?, costs :: LIST? OF FLOAT?, path :: PATH?)</td>\n",
       "      <td>procedure</td>\n",
       "    </tr>\n",
       "    <tr>\n",
       "      <th>...</th>\n",
       "      <td>...</td>\n",
       "      <td>...</td>\n",
       "      <td>...</td>\n",
       "      <td>...</td>\n",
       "    </tr>\n",
       "    <tr>\n",
       "      <th>364</th>\n",
       "      <td>gds.util.infinity</td>\n",
       "      <td>RETURN gds.util.infinity() - Return infinity as a Cypher value.</td>\n",
       "      <td>gds.util.infinity() :: (FLOAT?)</td>\n",
       "      <td>function</td>\n",
       "    </tr>\n",
       "    <tr>\n",
       "      <th>365</th>\n",
       "      <td>gds.util.isFinite</td>\n",
       "      <td>RETURN gds.util.isFinite(value) - Return true iff the given argument is a finite value (not ±Infinity, NaN, or null).</td>\n",
       "      <td>gds.util.isFinite(value :: NUMBER?) :: (BOOLEAN?)</td>\n",
       "      <td>function</td>\n",
       "    </tr>\n",
       "    <tr>\n",
       "      <th>366</th>\n",
       "      <td>gds.util.isInfinite</td>\n",
       "      <td>RETURN gds.util.isInfinite(value) - Return true iff the given argument is not a finite value (not ±Infinity, NaN, or null).</td>\n",
       "      <td>gds.util.isInfinite(value :: NUMBER?) :: (BOOLEAN?)</td>\n",
       "      <td>function</td>\n",
       "    </tr>\n",
       "    <tr>\n",
       "      <th>367</th>\n",
       "      <td>gds.util.nodeProperty</td>\n",
       "      <td>Returns a node property value from a named in-memory graph.</td>\n",
       "      <td>gds.util.nodeProperty(graphName :: STRING?, nodeId :: NUMBER?, propertyKey :: STRING?, nodeLabel = * :: STRING?) :: (ANY?)</td>\n",
       "      <td>function</td>\n",
       "    </tr>\n",
       "    <tr>\n",
       "      <th>368</th>\n",
       "      <td>gds.version</td>\n",
       "      <td>RETURN gds.version() | Return the installed graph data science library version.</td>\n",
       "      <td>gds.version() :: (STRING?)</td>\n",
       "      <td>function</td>\n",
       "    </tr>\n",
       "  </tbody>\n",
       "</table>\n",
       "<p>369 rows × 4 columns</p>\n",
       "</div>"
      ],
      "text/plain": [
       "                                           name  \\\n",
       "0             gds.allShortestPaths.delta.mutate   \n",
       "1    gds.allShortestPaths.delta.mutate.estimate   \n",
       "2              gds.allShortestPaths.delta.stats   \n",
       "3     gds.allShortestPaths.delta.stats.estimate   \n",
       "4             gds.allShortestPaths.delta.stream   \n",
       "..                                          ...   \n",
       "364                           gds.util.infinity   \n",
       "365                           gds.util.isFinite   \n",
       "366                         gds.util.isInfinite   \n",
       "367                       gds.util.nodeProperty   \n",
       "368                                 gds.version   \n",
       "\n",
       "                                                                                                                                                                  description  \\\n",
       "0    The Delta Stepping shortest path algorithm computes the shortest (weighted) path between one node and any other node in the graph. The computation is run multi-threaded   \n",
       "1                                                                                                         Returns an estimation of the memory consumption for that procedure.   \n",
       "2    The Delta Stepping shortest path algorithm computes the shortest (weighted) path between one node and any other node in the graph. The computation is run multi-threaded   \n",
       "3                                                                                                         Returns an estimation of the memory consumption for that procedure.   \n",
       "4    The Delta Stepping shortest path algorithm computes the shortest (weighted) path between one node and any other node in the graph. The computation is run multi-threaded   \n",
       "..                                                                                                                                                                        ...   \n",
       "364                                                                                                           RETURN gds.util.infinity() - Return infinity as a Cypher value.   \n",
       "365                                                     RETURN gds.util.isFinite(value) - Return true iff the given argument is a finite value (not ±Infinity, NaN, or null).   \n",
       "366                                               RETURN gds.util.isInfinite(value) - Return true iff the given argument is not a finite value (not ±Infinity, NaN, or null).   \n",
       "367                                                                                                               Returns a node property value from a named in-memory graph.   \n",
       "368                                                                                           RETURN gds.version() | Return the installed graph data science library version.   \n",
       "\n",
       "                                                                                                                                                                                                                                                                                                                                    signature  \\\n",
       "0                                                                    gds.allShortestPaths.delta.mutate(graphName :: STRING?, configuration = {} :: MAP?) :: (relationshipsWritten :: INTEGER?, mutateMillis :: INTEGER?, postProcessingMillis :: INTEGER?, preProcessingMillis :: INTEGER?, computeMillis :: INTEGER?, configuration :: MAP?)   \n",
       "1    gds.allShortestPaths.delta.mutate.estimate(graphNameOrConfiguration :: ANY?, algoConfiguration :: MAP?) :: (requiredMemory :: STRING?, treeView :: STRING?, mapView :: MAP?, bytesMin :: INTEGER?, bytesMax :: INTEGER?, nodeCount :: INTEGER?, relationshipCount :: INTEGER?, heapPercentageMin :: FLOAT?, heapPercentageMax :: FLOAT?)   \n",
       "2                                                                                                                                 gds.allShortestPaths.delta.stats(graphName :: STRING?, configuration = {} :: MAP?) :: (postProcessingMillis :: INTEGER?, preProcessingMillis :: INTEGER?, computeMillis :: INTEGER?, configuration :: MAP?)   \n",
       "3     gds.allShortestPaths.delta.stats.estimate(graphNameOrConfiguration :: ANY?, algoConfiguration :: MAP?) :: (requiredMemory :: STRING?, treeView :: STRING?, mapView :: MAP?, bytesMin :: INTEGER?, bytesMax :: INTEGER?, nodeCount :: INTEGER?, relationshipCount :: INTEGER?, heapPercentageMin :: FLOAT?, heapPercentageMax :: FLOAT?)   \n",
       "4                                                                                      gds.allShortestPaths.delta.stream(graphName :: STRING?, configuration = {} :: MAP?) :: (index :: INTEGER?, sourceNode :: INTEGER?, targetNode :: INTEGER?, totalCost :: FLOAT?, nodeIds :: LIST? OF INTEGER?, costs :: LIST? OF FLOAT?, path :: PATH?)   \n",
       "..                                                                                                                                                                                                                                                                                                                                        ...   \n",
       "364                                                                                                                                                                                                                                                                                                           gds.util.infinity() :: (FLOAT?)   \n",
       "365                                                                                                                                                                                                                                                                                         gds.util.isFinite(value :: NUMBER?) :: (BOOLEAN?)   \n",
       "366                                                                                                                                                                                                                                                                                       gds.util.isInfinite(value :: NUMBER?) :: (BOOLEAN?)   \n",
       "367                                                                                                                                                                                                                gds.util.nodeProperty(graphName :: STRING?, nodeId :: NUMBER?, propertyKey :: STRING?, nodeLabel = * :: STRING?) :: (ANY?)   \n",
       "368                                                                                                                                                                                                                                                                                                                gds.version() :: (STRING?)   \n",
       "\n",
       "          type  \n",
       "0    procedure  \n",
       "1    procedure  \n",
       "2    procedure  \n",
       "3    procedure  \n",
       "4    procedure  \n",
       "..         ...  \n",
       "364   function  \n",
       "365   function  \n",
       "366   function  \n",
       "367   function  \n",
       "368   function  \n",
       "\n",
       "[369 rows x 4 columns]"
      ]
     },
     "execution_count": 6,
     "metadata": {},
     "output_type": "execute_result"
    }
   ],
   "source": [
    "# list all available procedures\n",
    "gds.list()"
   ]
  },
  {
   "cell_type": "markdown",
   "id": "14715e10",
   "metadata": {},
   "source": [
    "## GDS Python Client usage"
   ]
  },
  {
   "cell_type": "raw",
   "id": "b2f7f031",
   "metadata": {},
   "source": [
    "// Cypher\n",
    "CALL gds.graph.project(\n",
    "    \"graphName\", \n",
    "    [\"NodeA\", \"NodeB\"], \n",
    "    {\n",
    "        LINK: {\n",
    "            orientation: \"UNDIRECTED\", \n",
    "            properties: [\n",
    "                {\n",
    "                    weight: {\n",
    "                        defaultValue: 1.0\n",
    "                    }\n",
    "                }\n",
    "            ]\n",
    "        }\n",
    "    }\n",
    ")"
   ]
  },
  {
   "cell_type": "raw",
   "id": "6d2e8aaa",
   "metadata": {},
   "source": [
    "# Python\n",
    "gds.graph.project(\n",
    "    \"graphName\", \n",
    "    [\"NodeA\", \"NodeB\"], \n",
    "    {\n",
    "        \"LINK\": {\n",
    "            \"orientation\": \"UNDIRECTED\", \n",
    "            \"properties\": [\n",
    "                {\n",
    "                    \"weight\": {\n",
    "                        \"defaultValue\": 1.0\n",
    "                    }\n",
    "                }\n",
    "            ]\n",
    "        }\n",
    "    }\n",
    ")"
   ]
  },
  {
   "cell_type": "markdown",
   "id": "74442a01",
   "metadata": {},
   "source": [
    "## Creating a projected graph from Python\n"
   ]
  },
  {
   "cell_type": "code",
   "execution_count": 12,
   "id": "d83afca6",
   "metadata": {
    "scrolled": false
   },
   "outputs": [],
   "source": [
    "graph_object, graph_infos = gds.graph.project(\n",
    "    \"persons\",   # projected graph's name\n",
    "    \"Person\",     # node projection\n",
    "    {\"KNOWS\": {\"orientation\": \"UNDIRECTED\"}}   # relationship projection\n",
    ")"
   ]
  },
  {
   "cell_type": "code",
   "execution_count": 13,
   "id": "2769a3ba",
   "metadata": {},
   "outputs": [
    {
     "data": {
      "text/plain": [
       "Graph({'graphName': 'persons', 'nodeCount': 40948, 'relationshipCount': 715412, 'database': 'neo4j', 'configuration': {'relationshipProjection': {'KNOWS': {'orientation': 'UNDIRECTED', 'aggregation': 'DEFAULT', 'type': 'KNOWS', 'properties': {}}}, 'jobId': '6c97c72d-2dfc-4a4c-9c4a-6d66e3eb069a', 'nodeProjection': {'Person': {'label': 'Person', 'properties': {}}}, 'relationshipProperties': {}, 'creationTime': neo4j.time.DateTime(2022, 12, 18, 15, 30, 54, 686664698, tzinfo=<DstTzInfo 'Europe/Paris' CET+1:00:00 STD>), 'validateRelationships': False, 'readConcurrency': 4, 'sudo': False, 'nodeProperties': {}}, 'schema': {'graphProperties': {}, 'relationships': {'KNOWS': {}}, 'nodes': {'Person': {}}}, 'memoryUsage': '6286 KiB'})"
      ]
     },
     "execution_count": 13,
     "metadata": {},
     "output_type": "execute_result"
    }
   ],
   "source": [
    "graph_object"
   ]
  },
  {
   "cell_type": "code",
   "execution_count": 14,
   "id": "ea63525b",
   "metadata": {},
   "outputs": [
    {
     "data": {
      "text/html": [
       "<div>\n",
       "<style scoped>\n",
       "    .dataframe tbody tr th:only-of-type {\n",
       "        vertical-align: middle;\n",
       "    }\n",
       "\n",
       "    .dataframe tbody tr th {\n",
       "        vertical-align: top;\n",
       "    }\n",
       "\n",
       "    .dataframe thead th {\n",
       "        text-align: right;\n",
       "    }\n",
       "</style>\n",
       "<table border=\"1\" class=\"dataframe\">\n",
       "  <thead>\n",
       "    <tr style=\"text-align: right;\">\n",
       "      <th></th>\n",
       "      <th>0</th>\n",
       "    </tr>\n",
       "  </thead>\n",
       "  <tbody>\n",
       "    <tr>\n",
       "      <th>nodeProjection</th>\n",
       "      <td>{'Person': {'label': 'Person', 'properties': {}}}</td>\n",
       "    </tr>\n",
       "    <tr>\n",
       "      <th>relationshipProjection</th>\n",
       "      <td>{'KNOWS': {'orientation': 'UNDIRECTED', 'aggregation': 'DEFAULT', 'type': 'KNOWS', 'properties': {}}}</td>\n",
       "    </tr>\n",
       "    <tr>\n",
       "      <th>graphName</th>\n",
       "      <td>persons</td>\n",
       "    </tr>\n",
       "    <tr>\n",
       "      <th>nodeCount</th>\n",
       "      <td>40948</td>\n",
       "    </tr>\n",
       "    <tr>\n",
       "      <th>relationshipCount</th>\n",
       "      <td>715412</td>\n",
       "    </tr>\n",
       "    <tr>\n",
       "      <th>projectMillis</th>\n",
       "      <td>43</td>\n",
       "    </tr>\n",
       "  </tbody>\n",
       "</table>\n",
       "</div>"
      ],
      "text/plain": [
       "                                                                                                                            0\n",
       "nodeProjection                                                              {'Person': {'label': 'Person', 'properties': {}}}\n",
       "relationshipProjection  {'KNOWS': {'orientation': 'UNDIRECTED', 'aggregation': 'DEFAULT', 'type': 'KNOWS', 'properties': {}}}\n",
       "graphName                                                                                                             persons\n",
       "nodeCount                                                                                                               40948\n",
       "relationshipCount                                                                                                      715412\n",
       "projectMillis                                                                                                              43"
      ]
     },
     "execution_count": 14,
     "metadata": {},
     "output_type": "execute_result"
    }
   ],
   "source": [
    "# just transforming to dataframe for nicer display\n",
    "graph_infos.to_frame()"
   ]
  },
  {
   "cell_type": "code",
   "execution_count": 15,
   "id": "873d4eaa",
   "metadata": {},
   "outputs": [
    {
     "data": {
      "text/plain": [
       "('persons', 40948, 715412)"
      ]
     },
     "execution_count": 15,
     "metadata": {},
     "output_type": "execute_result"
    }
   ],
   "source": [
    "graph_object.name(), graph_object.node_count(), graph_object.relationship_count()"
   ]
  },
  {
   "cell_type": "code",
   "execution_count": 16,
   "id": "ade35ab0",
   "metadata": {},
   "outputs": [
    {
     "data": {
      "text/html": [
       "<div>\n",
       "<style scoped>\n",
       "    .dataframe tbody tr th:only-of-type {\n",
       "        vertical-align: middle;\n",
       "    }\n",
       "\n",
       "    .dataframe tbody tr th {\n",
       "        vertical-align: top;\n",
       "    }\n",
       "\n",
       "    .dataframe thead th {\n",
       "        text-align: right;\n",
       "    }\n",
       "</style>\n",
       "<table border=\"1\" class=\"dataframe\">\n",
       "  <thead>\n",
       "    <tr style=\"text-align: right;\">\n",
       "      <th></th>\n",
       "      <th>degreeDistribution</th>\n",
       "      <th>graphName</th>\n",
       "      <th>database</th>\n",
       "      <th>memoryUsage</th>\n",
       "      <th>sizeInBytes</th>\n",
       "      <th>nodeCount</th>\n",
       "      <th>relationshipCount</th>\n",
       "      <th>configuration</th>\n",
       "      <th>density</th>\n",
       "      <th>creationTime</th>\n",
       "      <th>modificationTime</th>\n",
       "      <th>schema</th>\n",
       "    </tr>\n",
       "  </thead>\n",
       "  <tbody>\n",
       "    <tr>\n",
       "      <th>0</th>\n",
       "      <td>{'p99': 111, 'min': 0, 'max': 446, 'mean': 17.47123180619322, 'p90': 36, 'p50': 10, 'p999': 200, 'p95': 52, 'p75': 19}</td>\n",
       "      <td>persons</td>\n",
       "      <td>neo4j</td>\n",
       "      <td>6286 KiB</td>\n",
       "      <td>6437360</td>\n",
       "      <td>40948</td>\n",
       "      <td>715412</td>\n",
       "      <td>{'relationshipProjection': {'KNOWS': {'orientation': 'UNDIRECTED', 'aggregation': 'DEFAULT', 'type': 'KNOWS', 'properties': {}}}, 'jobId': '6c97c72d-2dfc-4a4c-9c4a-6d66e3eb069a', 'nodeProjection': {'Person': {'label': 'Person', 'properties': {}}}, 'relationshipProperties': {}, 'creationTime': 2022-12-18T15:30:54.686664698+01:00, 'validateRelationships': False, 'readConcurrency': 4, 'sudo': False, 'nodeProperties': {}}</td>\n",
       "      <td>0.000427</td>\n",
       "      <td>2022-12-18T15:30:54.686664698+01:00</td>\n",
       "      <td>2022-12-18T15:30:54.720689525+01:00</td>\n",
       "      <td>{'graphProperties': {}, 'relationships': {'KNOWS': {}}, 'nodes': {'Person': {}}}</td>\n",
       "    </tr>\n",
       "  </tbody>\n",
       "</table>\n",
       "</div>"
      ],
      "text/plain": [
       "                                                                                                       degreeDistribution  \\\n",
       "0  {'p99': 111, 'min': 0, 'max': 446, 'mean': 17.47123180619322, 'p90': 36, 'p50': 10, 'p999': 200, 'p95': 52, 'p75': 19}   \n",
       "\n",
       "  graphName database memoryUsage  sizeInBytes  nodeCount  relationshipCount  \\\n",
       "0   persons    neo4j    6286 KiB      6437360      40948             715412   \n",
       "\n",
       "                                                                                                                                                                                                                                                                                                                                                                                                                           configuration  \\\n",
       "0  {'relationshipProjection': {'KNOWS': {'orientation': 'UNDIRECTED', 'aggregation': 'DEFAULT', 'type': 'KNOWS', 'properties': {}}}, 'jobId': '6c97c72d-2dfc-4a4c-9c4a-6d66e3eb069a', 'nodeProjection': {'Person': {'label': 'Person', 'properties': {}}}, 'relationshipProperties': {}, 'creationTime': 2022-12-18T15:30:54.686664698+01:00, 'validateRelationships': False, 'readConcurrency': 4, 'sudo': False, 'nodeProperties': {}}   \n",
       "\n",
       "    density                         creationTime  \\\n",
       "0  0.000427  2022-12-18T15:30:54.686664698+01:00   \n",
       "\n",
       "                      modificationTime  \\\n",
       "0  2022-12-18T15:30:54.720689525+01:00   \n",
       "\n",
       "                                                                             schema  \n",
       "0  {'graphProperties': {}, 'relationships': {'KNOWS': {}}, 'nodes': {'Person': {}}}  "
      ]
     },
     "execution_count": 16,
     "metadata": {},
     "output_type": "execute_result"
    }
   ],
   "source": [
    "# list all available projected graphs\n",
    "gds.graph.list()"
   ]
  },
  {
   "cell_type": "code",
   "execution_count": 11,
   "id": "9ba82c8c",
   "metadata": {},
   "outputs": [
    {
     "data": {
      "text/plain": [
       "'pgraphB'"
      ]
     },
     "execution_count": 11,
     "metadata": {},
     "output_type": "execute_result"
    }
   ],
   "source": [
    "# get a projected graph object from its name\n",
    "G = gds.graph.get(\"persons\")\n",
    "G.name()"
   ]
  },
  {
   "cell_type": "code",
   "execution_count": 12,
   "id": "04395a14",
   "metadata": {},
   "outputs": [],
   "source": [
    "# drop an existing projected graph with same name as G\n",
    "# gds.graph.drop(G)\n",
    "# WARNING: will fail if G.name() is not present in the graph catalog"
   ]
  },
  {
   "cell_type": "code",
   "execution_count": null,
   "id": "596584a8",
   "metadata": {},
   "outputs": [],
   "source": []
  }
 ],
 "metadata": {
  "kernelspec": {
   "display_name": "Python 3 (ipykernel)",
   "language": "python",
   "name": "python3"
  },
  "language_info": {
   "codemirror_mode": {
    "name": "ipython",
    "version": 3
   },
   "file_extension": ".py",
   "mimetype": "text/x-python",
   "name": "python",
   "nbconvert_exporter": "python",
   "pygments_lexer": "ipython3",
   "version": "3.10.6"
  }
 },
 "nbformat": 4,
 "nbformat_minor": 5
}
