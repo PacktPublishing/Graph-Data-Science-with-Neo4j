{
 "cells": [
  {
   "cell_type": "markdown",
   "id": "7a55b8d9",
   "metadata": {},
   "source": [
    "# Training a scikit-learn model for node classification\n",
    "\n",
    "After extrating target class (isUSCitizen) and features (number of movies and louvain community) from Neo4j, we train a scikit-learn classification model to predict the target class.\n"
   ]
  },
  {
   "cell_type": "code",
   "execution_count": 1,
   "id": "934b0020",
   "metadata": {},
   "outputs": [],
   "source": [
    "import pandas as pd\n",
    "from graphdatascience import GraphDataScience\n",
    "\n",
    "from sklearn.utils import resample\n",
    "from sklearn import tree, metrics, ensemble\n",
    "from sklearn.model_selection import train_test_split\n",
    "\n",
    "\n",
    "gds = GraphDataScience(\"bolt://localhost:7687\", auth=(\"neo4j\", \"admin\"))"
   ]
  },
  {
   "cell_type": "code",
   "execution_count": 2,
   "id": "df3f1516",
   "metadata": {},
   "outputs": [
    {
     "data": {
      "text/html": [
       "<div>\n",
       "<style scoped>\n",
       "    .dataframe tbody tr th:only-of-type {\n",
       "        vertical-align: middle;\n",
       "    }\n",
       "\n",
       "    .dataframe tbody tr th {\n",
       "        vertical-align: top;\n",
       "    }\n",
       "\n",
       "    .dataframe thead th {\n",
       "        text-align: right;\n",
       "    }\n",
       "</style>\n",
       "<table border=\"1\" class=\"dataframe\">\n",
       "  <thead>\n",
       "    <tr style=\"text-align: right;\">\n",
       "      <th></th>\n",
       "      <th>id</th>\n",
       "      <th>target</th>\n",
       "      <th>nbMovies</th>\n",
       "      <th>louvain</th>\n",
       "    </tr>\n",
       "  </thead>\n",
       "  <tbody>\n",
       "    <tr>\n",
       "      <th>0</th>\n",
       "      <td>14042</td>\n",
       "      <td>False</td>\n",
       "      <td>2</td>\n",
       "      <td>17967</td>\n",
       "    </tr>\n",
       "    <tr>\n",
       "      <th>1</th>\n",
       "      <td>46793</td>\n",
       "      <td>True</td>\n",
       "      <td>3</td>\n",
       "      <td>3831</td>\n",
       "    </tr>\n",
       "    <tr>\n",
       "      <th>2</th>\n",
       "      <td>46686</td>\n",
       "      <td>False</td>\n",
       "      <td>1</td>\n",
       "      <td>3486</td>\n",
       "    </tr>\n",
       "    <tr>\n",
       "      <th>3</th>\n",
       "      <td>43955</td>\n",
       "      <td>False</td>\n",
       "      <td>1</td>\n",
       "      <td>15347</td>\n",
       "    </tr>\n",
       "    <tr>\n",
       "      <th>4</th>\n",
       "      <td>43953</td>\n",
       "      <td>False</td>\n",
       "      <td>1</td>\n",
       "      <td>15347</td>\n",
       "    </tr>\n",
       "  </tbody>\n",
       "</table>\n",
       "</div>"
      ],
      "text/plain": [
       "      id  target  nbMovies  louvain\n",
       "0  14042   False         2    17967\n",
       "1  46793    True         3     3831\n",
       "2  46686   False         1     3486\n",
       "3  43955   False         1    15347\n",
       "4  43953   False         1    15347"
      ]
     },
     "execution_count": 2,
     "metadata": {},
     "output_type": "execute_result"
    }
   ],
   "source": [
    "data = gds.run_cypher(\n",
    "    \"\"\"MATCH (person:Person:MainComponent)-[:IS_CITIZEN_OF]->(country:Country)\n",
    "    WITH person, collect(country.name) as countries\n",
    "    MATCH (person)-[:ACTED_IN|DIRECTED]->(movie:Movie)\n",
    "    WITH person, countries, count(DISTINCT movie) as numberOfMovies\n",
    "    RETURN  id(person) as id, \n",
    "            'United States of America' IN countries as target,\n",
    "            numberOfMovies as nbMovies, \n",
    "            person.louvain as louvain\n",
    "    \"\"\"\n",
    ")\n",
    "data.head()"
   ]
  },
  {
   "cell_type": "code",
   "execution_count": 3,
   "id": "d660b664",
   "metadata": {},
   "outputs": [
    {
     "data": {
      "text/plain": [
       "21296"
      ]
     },
     "execution_count": 3,
     "metadata": {},
     "output_type": "execute_result"
    }
   ],
   "source": [
    "len(data)"
   ]
  },
  {
   "cell_type": "code",
   "execution_count": 4,
   "id": "64557509",
   "metadata": {},
   "outputs": [
    {
     "data": {
      "text/plain": [
       "False    13687\n",
       "True      7609\n",
       "Name: target, dtype: int64"
      ]
     },
     "execution_count": 4,
     "metadata": {},
     "output_type": "execute_result"
    }
   ],
   "source": [
    "data.target.value_counts()"
   ]
  },
  {
   "cell_type": "code",
   "execution_count": 5,
   "id": "8cf8973e",
   "metadata": {},
   "outputs": [
    {
     "data": {
      "text/plain": [
       "(7609, 13687)"
      ]
     },
     "execution_count": 5,
     "metadata": {},
     "output_type": "execute_result"
    }
   ],
   "source": [
    "true_data = data[data.target == 1]\n",
    "false_data = data[data.target == 0]\n",
    "len(true_data), len(false_data)"
   ]
  },
  {
   "cell_type": "code",
   "execution_count": 6,
   "id": "a07938df",
   "metadata": {},
   "outputs": [],
   "source": [
    "false_data_downsampled = resample(\n",
    "    false_data,\n",
    "    replace=False,\n",
    "    n_samples=len(true_data),\n",
    "    random_state=1234,\n",
    ")"
   ]
  },
  {
   "cell_type": "code",
   "execution_count": 7,
   "id": "5f2f4b60",
   "metadata": {},
   "outputs": [
    {
     "data": {
      "text/plain": [
       "True     7609\n",
       "False    7609\n",
       "Name: target, dtype: int64"
      ]
     },
     "execution_count": 7,
     "metadata": {},
     "output_type": "execute_result"
    }
   ],
   "source": [
    "data = pd.concat([true_data, false_data_downsampled], axis=0)\n",
    "data.target.value_counts()"
   ]
  },
  {
   "cell_type": "code",
   "execution_count": 8,
   "id": "ac06b70b",
   "metadata": {},
   "outputs": [
    {
     "data": {
      "text/plain": [
       "<AxesSubplot:ylabel='Frequency'>"
      ]
     },
     "execution_count": 8,
     "metadata": {},
     "output_type": "execute_result"
    },
    {
     "data": {
      "image/png": "[encoded data removed]",
      "text/plain": [
       "<Figure size 432x288 with 1 Axes>"
      ]
     },
     "metadata": {
      "needs_background": "light"
     },
     "output_type": "display_data"
    }
   ],
   "source": [
    "true_data[\"nbMovies\"].plot.hist(range=(0, 20), bins=20, color=\"white\", edgecolor=\"black\", alpha=0.5)\n",
    "false_data_downsampled[\"nbMovies\"].plot.hist(range=(0, 20), bins=20, color=\"grey\", alpha=0.5)"
   ]
  },
  {
   "cell_type": "code",
   "execution_count": 9,
   "id": "81a4e8c2",
   "metadata": {},
   "outputs": [
    {
     "data": {
      "text/plain": [
       "<AxesSubplot:ylabel='Frequency'>"
      ]
     },
     "execution_count": 9,
     "metadata": {},
     "output_type": "execute_result"
    },
    {
     "data": {
      "image/png": "[encoded data removed]",
      "text/plain": [
       "<Figure size 432x288 with 1 Axes>"
      ]
     },
     "metadata": {
      "needs_background": "light"
     },
     "output_type": "display_data"
    }
   ],
   "source": [
    "true_data[\"louvain\"].plot.hist(bins=20, color=\"white\", edgecolor=\"black\", alpha=0.5)\n",
    "false_data_downsampled[\"louvain\"].plot.hist(bins=20, color=\"grey\", alpha=0.5)"
   ]
  },
  {
   "cell_type": "code",
   "execution_count": 10,
   "id": "af982bc3",
   "metadata": {},
   "outputs": [],
   "source": [
    "def train_and_score(X_train, y_train, X_test, y_test, feature_columns):\n",
    "    X_train_bis = X_train[feature_columns]\n",
    "    X_test_bis = X_test[feature_columns]\n",
    "    clf = tree.DecisionTreeClassifier()\n",
    "    # clf = ensemble.RandomForestClassifier()\n",
    "    clf = clf.fit(X_train_bis, y_train)\n",
    "    return clf, clf.score(X_test_bis, y_test)"
   ]
  },
  {
   "cell_type": "code",
   "execution_count": 11,
   "id": "4028c2be",
   "metadata": {},
   "outputs": [
    {
     "data": {
      "text/plain": [
       "(10196, 5022)"
      ]
     },
     "execution_count": 11,
     "metadata": {},
     "output_type": "execute_result"
    }
   ],
   "source": [
    "X = data[[\"nbMovies\", \"louvain\"]]\n",
    "y = data.target\n",
    "X_train, X_test, y_train, y_test = train_test_split(\n",
    "    X, y, test_size=0.33,\n",
    "    stratify=data.target,\n",
    "    random_state=1234\n",
    ")\n",
    "len(X_train), len(X_test)"
   ]
  },
  {
   "cell_type": "code",
   "execution_count": 12,
   "id": "63c87d6e",
   "metadata": {
    "scrolled": false
   },
   "outputs": [
    {
     "name": "stdout",
     "output_type": "stream",
     "text": [
      "['nbMovies']                   => 0.543\n",
      "['nbMovies', 'louvain']        => 0.808\n"
     ]
    }
   ],
   "source": [
    "feature_sets = [\n",
    "   [\"nbMovies\"],\n",
    "   [\"nbMovies\", \"louvain\"],\n",
    "]\n",
    "\n",
    "for feature_set in feature_sets:\n",
    "    clf, score = train_and_score(\n",
    "        X_train, y_train, X_test, y_test, \n",
    "        feature_set\n",
    "    )\n",
    "    \n",
    "    print(f\"{str(feature_set):30} => {score:2.3f}\")"
   ]
  },
  {
   "cell_type": "code",
   "execution_count": null,
   "id": "4ec08af1",
   "metadata": {},
   "outputs": [],
   "source": []
  },
  {
   "cell_type": "code",
   "execution_count": null,
   "id": "333d0021",
   "metadata": {},
   "outputs": [],
   "source": []
  }
 ],
 "metadata": {
  "kernelspec": {
   "display_name": "Python 3 (ipykernel)",
   "language": "python",
   "name": "python3"
  },
  "language_info": {
   "codemirror_mode": {
    "name": "ipython",
    "version": 3
   },
   "file_extension": ".py",
   "mimetype": "text/x-python",
   "name": "python",
   "nbconvert_exporter": "python",
   "pygments_lexer": "ipython3",
   "version": "3.10.6"
  }
 },
 "nbformat": 4,
 "nbformat_minor": 5
}
