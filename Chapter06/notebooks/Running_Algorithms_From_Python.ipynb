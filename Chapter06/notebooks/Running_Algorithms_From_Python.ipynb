{
 "cells": [
  {
   "cell_type": "markdown",
   "id": "72a34c99",
   "metadata": {},
   "source": [
    "# Running a GDS algorithm from Python"
   ]
  },
  {
   "cell_type": "code",
   "execution_count": 1,
   "id": "9d94c8af",
   "metadata": {},
   "outputs": [],
   "source": [
    "# hack to be able to import functions from utils\n",
    "import sys\n",
    "import os\n",
    "sys.path.append(os.path.join(os.curdir, \"..\"))\n",
    "# sys.path"
   ]
  },
  {
   "cell_type": "code",
   "execution_count": 2,
   "id": "4b0a5820",
   "metadata": {},
   "outputs": [],
   "source": [
    "from graphdatascience import GraphDataScience\n",
    "from utils import create_projected_graph, plot_degree_distribution"
   ]
  },
  {
   "cell_type": "code",
   "execution_count": 3,
   "id": "fe0084cc",
   "metadata": {},
   "outputs": [],
   "source": [
    "gds = GraphDataScience(\"bolt://localhost:7687\", auth=(\"neo4j\", \"admin\"))"
   ]
  },
  {
   "cell_type": "code",
   "execution_count": 4,
   "id": "5e6f0514",
   "metadata": {},
   "outputs": [
    {
     "data": {
      "text/plain": [
       "Graph({'graphName': 'persons', 'nodeCount': 40948, 'relationshipCount': 715412, 'database': 'neo4j', 'configuration': {'relationshipProjection': {'KNOWS': {'orientation': 'UNDIRECTED', 'aggregation': 'DEFAULT', 'type': 'KNOWS', 'properties': {}}}, 'jobId': 'c6e093f2-d850-4483-ba8a-0fdac1912fad', 'nodeProjection': {'Person': {'label': 'Person', 'properties': {}}}, 'relationshipProperties': {}, 'creationTime': neo4j.time.DateTime(2022, 12, 18, 15, 35, 28, 662576097, tzinfo=<DstTzInfo 'Europe/Paris' CET+1:00:00 STD>), 'validateRelationships': False, 'readConcurrency': 4, 'sudo': False, 'nodeProperties': {}}, 'schema': {'graphProperties': {}, 'relationships': {'KNOWS': {}}, 'nodes': {'Person': {}}}, 'memoryUsage': '6286 KiB'})"
      ]
     },
     "execution_count": 4,
     "metadata": {},
     "output_type": "execute_result"
    }
   ],
   "source": [
    "projected_graph_object = create_projected_graph(\n",
    "    gds,\n",
    "    graph_name=\"persons\",\n",
    "    node_spec=\"Person\",  \n",
    "    relationship_spec={\"KNOWS\": {\"orientation\": \"UNDIRECTED\"}}\n",
    ")\n",
    "projected_graph_object"
   ]
  },
  {
   "cell_type": "markdown",
   "id": "5feeb91b",
   "metadata": {},
   "source": [
    "## Degree algorithm in write mode"
   ]
  },
  {
   "cell_type": "code",
   "execution_count": 5,
   "id": "3eea72a9",
   "metadata": {},
   "outputs": [
    {
     "data": {
      "text/plain": [
       "nodePropertiesWritten                                                 40948\n",
       "centralityDistribution    {'p99': 111.00048065185547, 'min': 0.0, 'max':...\n",
       "writeMillis                                                             348\n",
       "postProcessingMillis                                                    165\n",
       "preProcessingMillis                                                       0\n",
       "computeMillis                                                             0\n",
       "configuration             {'jobId': '0a87bd0e-0de6-4a72-a891-7341b70e55e...\n",
       "Name: 0, dtype: object"
      ]
     },
     "execution_count": 5,
     "metadata": {},
     "output_type": "execute_result"
    }
   ],
   "source": [
    "gds.degree.write(\n",
    "    projected_graph_object,\n",
    "    writeProperty=\"degree\"\n",
    ")"
   ]
  },
  {
   "cell_type": "code",
   "execution_count": 6,
   "id": "299e0dd5",
   "metadata": {},
   "outputs": [
    {
     "data": {
      "text/html": [
       "<div>\n",
       "<style scoped>\n",
       "    .dataframe tbody tr th:only-of-type {\n",
       "        vertical-align: middle;\n",
       "    }\n",
       "\n",
       "    .dataframe tbody tr th {\n",
       "        vertical-align: top;\n",
       "    }\n",
       "\n",
       "    .dataframe thead th {\n",
       "        text-align: right;\n",
       "    }\n",
       "</style>\n",
       "<table border=\"1\" class=\"dataframe\">\n",
       "  <thead>\n",
       "    <tr style=\"text-align: right;\">\n",
       "      <th></th>\n",
       "      <th>node_id</th>\n",
       "      <th>name</th>\n",
       "      <th>degree</th>\n",
       "    </tr>\n",
       "  </thead>\n",
       "  <tbody>\n",
       "    <tr>\n",
       "      <th>0</th>\n",
       "      <td>9046</td>\n",
       "      <td>Kirsten Johnson</td>\n",
       "      <td>0.0</td>\n",
       "    </tr>\n",
       "    <tr>\n",
       "      <th>1</th>\n",
       "      <td>9047</td>\n",
       "      <td>Julien Leclercq</td>\n",
       "      <td>24.0</td>\n",
       "    </tr>\n",
       "    <tr>\n",
       "      <th>2</th>\n",
       "      <td>9048</td>\n",
       "      <td>Mike Flanagan</td>\n",
       "      <td>33.0</td>\n",
       "    </tr>\n",
       "    <tr>\n",
       "      <th>3</th>\n",
       "      <td>9049</td>\n",
       "      <td>Robert Cullen</td>\n",
       "      <td>11.0</td>\n",
       "    </tr>\n",
       "    <tr>\n",
       "      <th>4</th>\n",
       "      <td>9050</td>\n",
       "      <td>José Luis Ucha</td>\n",
       "      <td>11.0</td>\n",
       "    </tr>\n",
       "    <tr>\n",
       "      <th>5</th>\n",
       "      <td>9051</td>\n",
       "      <td>Haile Gerima</td>\n",
       "      <td>8.0</td>\n",
       "    </tr>\n",
       "    <tr>\n",
       "      <th>6</th>\n",
       "      <td>9052</td>\n",
       "      <td>Andy Devonshire</td>\n",
       "      <td>4.0</td>\n",
       "    </tr>\n",
       "    <tr>\n",
       "      <th>7</th>\n",
       "      <td>9053</td>\n",
       "      <td>Theodore Melfi</td>\n",
       "      <td>11.0</td>\n",
       "    </tr>\n",
       "    <tr>\n",
       "      <th>8</th>\n",
       "      <td>9054</td>\n",
       "      <td>Kongkiat Komesiri</td>\n",
       "      <td>25.0</td>\n",
       "    </tr>\n",
       "    <tr>\n",
       "      <th>9</th>\n",
       "      <td>9055</td>\n",
       "      <td>Christian Schwochow</td>\n",
       "      <td>11.0</td>\n",
       "    </tr>\n",
       "  </tbody>\n",
       "</table>\n",
       "</div>"
      ],
      "text/plain": [
       "   node_id                 name  degree\n",
       "0     9046      Kirsten Johnson     0.0\n",
       "1     9047      Julien Leclercq    24.0\n",
       "2     9048        Mike Flanagan    33.0\n",
       "3     9049        Robert Cullen    11.0\n",
       "4     9050       José Luis Ucha    11.0\n",
       "5     9051         Haile Gerima     8.0\n",
       "6     9052      Andy Devonshire     4.0\n",
       "7     9053       Theodore Melfi    11.0\n",
       "8     9054    Kongkiat Komesiri    25.0\n",
       "9     9055  Christian Schwochow    11.0"
      ]
     },
     "execution_count": 6,
     "metadata": {},
     "output_type": "execute_result"
    }
   ],
   "source": [
    "degrees = gds.run_cypher(\"\"\"\n",
    "MATCH (n:Person)\n",
    "RETURN id(n) as node_id, n.name as name, n.degree as degree\n",
    "\"\"\")\n",
    "degrees.head(10)"
   ]
  },
  {
   "cell_type": "markdown",
   "id": "48a4980d",
   "metadata": {},
   "source": [
    "## Degree algorithm in stream mode"
   ]
  },
  {
   "cell_type": "code",
   "execution_count": 7,
   "id": "e1650ce9",
   "metadata": {},
   "outputs": [
    {
     "data": {
      "text/html": [
       "<div>\n",
       "<style scoped>\n",
       "    .dataframe tbody tr th:only-of-type {\n",
       "        vertical-align: middle;\n",
       "    }\n",
       "\n",
       "    .dataframe tbody tr th {\n",
       "        vertical-align: top;\n",
       "    }\n",
       "\n",
       "    .dataframe thead th {\n",
       "        text-align: right;\n",
       "    }\n",
       "</style>\n",
       "<table border=\"1\" class=\"dataframe\">\n",
       "  <thead>\n",
       "    <tr style=\"text-align: right;\">\n",
       "      <th></th>\n",
       "      <th>nodeId</th>\n",
       "      <th>score</th>\n",
       "    </tr>\n",
       "  </thead>\n",
       "  <tbody>\n",
       "    <tr>\n",
       "      <th>0</th>\n",
       "      <td>9046</td>\n",
       "      <td>0.0</td>\n",
       "    </tr>\n",
       "    <tr>\n",
       "      <th>1</th>\n",
       "      <td>9047</td>\n",
       "      <td>24.0</td>\n",
       "    </tr>\n",
       "    <tr>\n",
       "      <th>2</th>\n",
       "      <td>9048</td>\n",
       "      <td>33.0</td>\n",
       "    </tr>\n",
       "    <tr>\n",
       "      <th>3</th>\n",
       "      <td>9049</td>\n",
       "      <td>11.0</td>\n",
       "    </tr>\n",
       "    <tr>\n",
       "      <th>4</th>\n",
       "      <td>9050</td>\n",
       "      <td>11.0</td>\n",
       "    </tr>\n",
       "    <tr>\n",
       "      <th>...</th>\n",
       "      <td>...</td>\n",
       "      <td>...</td>\n",
       "    </tr>\n",
       "    <tr>\n",
       "      <th>40943</th>\n",
       "      <td>49989</td>\n",
       "      <td>9.0</td>\n",
       "    </tr>\n",
       "    <tr>\n",
       "      <th>40944</th>\n",
       "      <td>49990</td>\n",
       "      <td>8.0</td>\n",
       "    </tr>\n",
       "    <tr>\n",
       "      <th>40945</th>\n",
       "      <td>49991</td>\n",
       "      <td>8.0</td>\n",
       "    </tr>\n",
       "    <tr>\n",
       "      <th>40946</th>\n",
       "      <td>49992</td>\n",
       "      <td>8.0</td>\n",
       "    </tr>\n",
       "    <tr>\n",
       "      <th>40947</th>\n",
       "      <td>49993</td>\n",
       "      <td>8.0</td>\n",
       "    </tr>\n",
       "  </tbody>\n",
       "</table>\n",
       "<p>40948 rows × 2 columns</p>\n",
       "</div>"
      ],
      "text/plain": [
       "       nodeId  score\n",
       "0        9046    0.0\n",
       "1        9047   24.0\n",
       "2        9048   33.0\n",
       "3        9049   11.0\n",
       "4        9050   11.0\n",
       "...       ...    ...\n",
       "40943   49989    9.0\n",
       "40944   49990    8.0\n",
       "40945   49991    8.0\n",
       "40946   49992    8.0\n",
       "40947   49993    8.0\n",
       "\n",
       "[40948 rows x 2 columns]"
      ]
     },
     "execution_count": 7,
     "metadata": {},
     "output_type": "execute_result"
    }
   ],
   "source": [
    "degrees = gds.degree.stream(\n",
    "    projected_graph_object,\n",
    ")\n",
    "degrees"
   ]
  },
  {
   "cell_type": "code",
   "execution_count": 8,
   "id": "9aa071a3",
   "metadata": {},
   "outputs": [
    {
     "data": {
      "text/plain": [
       "9047"
      ]
     },
     "execution_count": 8,
     "metadata": {},
     "output_type": "execute_result"
    }
   ],
   "source": [
    "row = degrees.iloc[1]\n",
    "node = gds.util.asNode(row[\"nodeId\"])\n",
    "node.id"
   ]
  },
  {
   "cell_type": "code",
   "execution_count": 9,
   "id": "56a9508b",
   "metadata": {},
   "outputs": [
    {
     "data": {
      "text/plain": [
       "neo4j.graph.Node"
      ]
     },
     "execution_count": 9,
     "metadata": {},
     "output_type": "execute_result"
    }
   ],
   "source": [
    "type(node)"
   ]
  },
  {
   "cell_type": "code",
   "execution_count": 10,
   "id": "1777b9ed",
   "metadata": {},
   "outputs": [
    {
     "data": {
      "text/html": [
       "<div>\n",
       "<style scoped>\n",
       "    .dataframe tbody tr th:only-of-type {\n",
       "        vertical-align: middle;\n",
       "    }\n",
       "\n",
       "    .dataframe tbody tr th {\n",
       "        vertical-align: top;\n",
       "    }\n",
       "\n",
       "    .dataframe thead th {\n",
       "        text-align: right;\n",
       "    }\n",
       "</style>\n",
       "<table border=\"1\" class=\"dataframe\">\n",
       "  <thead>\n",
       "    <tr style=\"text-align: right;\">\n",
       "      <th></th>\n",
       "      <th>nodeId</th>\n",
       "      <th>score</th>\n",
       "      <th>id</th>\n",
       "    </tr>\n",
       "  </thead>\n",
       "  <tbody>\n",
       "    <tr>\n",
       "      <th>0</th>\n",
       "      <td>9046</td>\n",
       "      <td>0.0</td>\n",
       "      <td>9046</td>\n",
       "    </tr>\n",
       "    <tr>\n",
       "      <th>1</th>\n",
       "      <td>9047</td>\n",
       "      <td>24.0</td>\n",
       "      <td>9047</td>\n",
       "    </tr>\n",
       "    <tr>\n",
       "      <th>2</th>\n",
       "      <td>9048</td>\n",
       "      <td>33.0</td>\n",
       "      <td>9048</td>\n",
       "    </tr>\n",
       "    <tr>\n",
       "      <th>3</th>\n",
       "      <td>9049</td>\n",
       "      <td>11.0</td>\n",
       "      <td>9049</td>\n",
       "    </tr>\n",
       "    <tr>\n",
       "      <th>4</th>\n",
       "      <td>9050</td>\n",
       "      <td>11.0</td>\n",
       "      <td>9050</td>\n",
       "    </tr>\n",
       "  </tbody>\n",
       "</table>\n",
       "</div>"
      ],
      "text/plain": [
       "   nodeId  score    id\n",
       "0    9046    0.0  9046\n",
       "1    9047   24.0  9047\n",
       "2    9048   33.0  9048\n",
       "3    9049   11.0  9049\n",
       "4    9050   11.0  9050"
      ]
     },
     "execution_count": 10,
     "metadata": {},
     "output_type": "execute_result"
    }
   ],
   "source": [
    "degrees[\"id\"] = [n.id for n in gds.util.asNodes(degrees['nodeId'].to_list())]\n",
    "degrees.head()"
   ]
  },
  {
   "cell_type": "code",
   "execution_count": 11,
   "id": "b075efbf",
   "metadata": {},
   "outputs": [
    {
     "data": {
      "image/png": "[encoded data removed]",
      "text/plain": [
       "<Figure size 864x576 with 2 Axes>"
      ]
     },
     "metadata": {
      "needs_background": "light"
     },
     "output_type": "display_data"
    }
   ],
   "source": [
    "plot_degree_distribution(degrees.score);"
   ]
  },
  {
   "cell_type": "code",
   "execution_count": null,
   "id": "67965ce1",
   "metadata": {},
   "outputs": [],
   "source": []
  }
 ],
 "metadata": {
  "kernelspec": {
   "display_name": "Python 3 (ipykernel)",
   "language": "python",
   "name": "python3"
  },
  "language_info": {
   "codemirror_mode": {
    "name": "ipython",
    "version": 3
   },
   "file_extension": ".py",
   "mimetype": "text/x-python",
   "name": "python",
   "nbconvert_exporter": "python",
   "pygments_lexer": "ipython3",
   "version": "3.10.6"
  }
 },
 "nbformat": 4,
 "nbformat_minor": 5
}
