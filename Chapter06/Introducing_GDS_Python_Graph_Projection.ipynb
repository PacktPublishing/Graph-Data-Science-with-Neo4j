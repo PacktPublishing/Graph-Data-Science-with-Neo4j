{
 "cells": [
  {
   "cell_type": "markdown",
   "id": "be2d4196",
   "metadata": {},
   "source": [
    "# Introducing the GDS Python client: graph projection"
   ]
  },
  {
   "cell_type": "markdown",
   "id": "cd6db690",
   "metadata": {},
   "source": [
    "## Installing and configuring the `graphdatascience` package"
   ]
  },
  {
   "cell_type": "code",
   "execution_count": 1,
   "id": "050fe708",
   "metadata": {},
   "outputs": [],
   "source": [
    "# !pip install graphdatascience"
   ]
  },
  {
   "cell_type": "code",
   "execution_count": 2,
   "id": "e3ca1374",
   "metadata": {},
   "outputs": [
    {
     "data": {
      "text/plain": [
       "'1.2.0'"
      ]
     },
     "execution_count": 2,
     "metadata": {},
     "output_type": "execute_result"
    }
   ],
   "source": [
    "import graphdatascience\n",
    "# graphdatascience Python package version number\n",
    "graphdatascience.__version__"
   ]
  },
  {
   "cell_type": "code",
   "execution_count": null,
   "id": "b1c3ec8d",
   "metadata": {},
   "outputs": [],
   "source": [
    "# display config (optional)\n",
    "import pandas as pd\n",
    "pd.set_option('display.max_colwidth', None)\n",
    "from IPython.display import display, HTML"
   ]
  },
  {
   "cell_type": "code",
   "execution_count": 13,
   "id": "463cb364",
   "metadata": {},
   "outputs": [],
   "source": [
    "from graphdatascience import GraphDataScience"
   ]
  },
  {
   "cell_type": "code",
   "execution_count": 4,
   "id": "104d86aa",
   "metadata": {},
   "outputs": [
    {
     "name": "stdout",
     "output_type": "stream",
     "text": [
      "<graphdatascience.graph_data_science.GraphDataScience object at 0x7f66c8d95720>\n",
      "2.1.6\n"
     ]
    }
   ],
   "source": [
    "# instantiate GDS object\n",
    "gds = GraphDataScience(\"bolt://localhost:7687\", auth=(\"neo4j\", \"admin\"))\n",
    "print(gds)\n",
    "# print the version of the GDS library installed in Neo4j\n",
    "# different from the Python package version number\n",
    "print(gds.version())"
   ]
  },
  {
   "cell_type": "code",
   "execution_count": 5,
   "id": "2d28a70e",
   "metadata": {},
   "outputs": [
    {
     "data": {
      "text/html": [
       "<div>\n",
       "<style scoped>\n",
       "    .dataframe tbody tr th:only-of-type {\n",
       "        vertical-align: middle;\n",
       "    }\n",
       "\n",
       "    .dataframe tbody tr th {\n",
       "        vertical-align: top;\n",
       "    }\n",
       "\n",
       "    .dataframe thead th {\n",
       "        text-align: right;\n",
       "    }\n",
       "</style>\n",
       "<table border=\"1\" class=\"dataframe\">\n",
       "  <thead>\n",
       "    <tr style=\"text-align: right;\">\n",
       "      <th></th>\n",
       "      <th>name</th>\n",
       "      <th>description</th>\n",
       "      <th>signature</th>\n",
       "      <th>type</th>\n",
       "    </tr>\n",
       "  </thead>\n",
       "  <tbody>\n",
       "    <tr>\n",
       "      <th>0</th>\n",
       "      <td>gds.allShortestPaths.delta.mutate</td>\n",
       "      <td>The Delta Stepping shortest path algorithm com...</td>\n",
       "      <td>gds.allShortestPaths.delta.mutate(graphName ::...</td>\n",
       "      <td>procedure</td>\n",
       "    </tr>\n",
       "    <tr>\n",
       "      <th>1</th>\n",
       "      <td>gds.allShortestPaths.delta.mutate.estimate</td>\n",
       "      <td>Returns an estimation of the memory consumptio...</td>\n",
       "      <td>gds.allShortestPaths.delta.mutate.estimate(gra...</td>\n",
       "      <td>procedure</td>\n",
       "    </tr>\n",
       "    <tr>\n",
       "      <th>2</th>\n",
       "      <td>gds.allShortestPaths.delta.stats</td>\n",
       "      <td>The Delta Stepping shortest path algorithm com...</td>\n",
       "      <td>gds.allShortestPaths.delta.stats(graphName :: ...</td>\n",
       "      <td>procedure</td>\n",
       "    </tr>\n",
       "    <tr>\n",
       "      <th>3</th>\n",
       "      <td>gds.allShortestPaths.delta.stats.estimate</td>\n",
       "      <td>Returns an estimation of the memory consumptio...</td>\n",
       "      <td>gds.allShortestPaths.delta.stats.estimate(grap...</td>\n",
       "      <td>procedure</td>\n",
       "    </tr>\n",
       "    <tr>\n",
       "      <th>4</th>\n",
       "      <td>gds.allShortestPaths.delta.stream</td>\n",
       "      <td>The Delta Stepping shortest path algorithm com...</td>\n",
       "      <td>gds.allShortestPaths.delta.stream(graphName ::...</td>\n",
       "      <td>procedure</td>\n",
       "    </tr>\n",
       "    <tr>\n",
       "      <th>...</th>\n",
       "      <td>...</td>\n",
       "      <td>...</td>\n",
       "      <td>...</td>\n",
       "      <td>...</td>\n",
       "    </tr>\n",
       "    <tr>\n",
       "      <th>333</th>\n",
       "      <td>gds.util.infinity</td>\n",
       "      <td>RETURN gds.util.infinity() - Return infinity a...</td>\n",
       "      <td>gds.util.infinity() :: (FLOAT?)</td>\n",
       "      <td>function</td>\n",
       "    </tr>\n",
       "    <tr>\n",
       "      <th>334</th>\n",
       "      <td>gds.util.isFinite</td>\n",
       "      <td>RETURN gds.util.isFinite(value) - Return true ...</td>\n",
       "      <td>gds.util.isFinite(value :: NUMBER?) :: (BOOLEAN?)</td>\n",
       "      <td>function</td>\n",
       "    </tr>\n",
       "    <tr>\n",
       "      <th>335</th>\n",
       "      <td>gds.util.isInfinite</td>\n",
       "      <td>RETURN gds.util.isInfinite(value) - Return tru...</td>\n",
       "      <td>gds.util.isInfinite(value :: NUMBER?) :: (BOOL...</td>\n",
       "      <td>function</td>\n",
       "    </tr>\n",
       "    <tr>\n",
       "      <th>336</th>\n",
       "      <td>gds.util.nodeProperty</td>\n",
       "      <td>Returns a node property value from a named in-...</td>\n",
       "      <td>gds.util.nodeProperty(graphName :: STRING?, no...</td>\n",
       "      <td>function</td>\n",
       "    </tr>\n",
       "    <tr>\n",
       "      <th>337</th>\n",
       "      <td>gds.version</td>\n",
       "      <td>RETURN gds.version() | Return the installed gr...</td>\n",
       "      <td>gds.version() :: (STRING?)</td>\n",
       "      <td>function</td>\n",
       "    </tr>\n",
       "  </tbody>\n",
       "</table>\n",
       "<p>338 rows × 4 columns</p>\n",
       "</div>"
      ],
      "text/plain": [
       "                                           name  \\\n",
       "0             gds.allShortestPaths.delta.mutate   \n",
       "1    gds.allShortestPaths.delta.mutate.estimate   \n",
       "2              gds.allShortestPaths.delta.stats   \n",
       "3     gds.allShortestPaths.delta.stats.estimate   \n",
       "4             gds.allShortestPaths.delta.stream   \n",
       "..                                          ...   \n",
       "333                           gds.util.infinity   \n",
       "334                           gds.util.isFinite   \n",
       "335                         gds.util.isInfinite   \n",
       "336                       gds.util.nodeProperty   \n",
       "337                                 gds.version   \n",
       "\n",
       "                                           description  \\\n",
       "0    The Delta Stepping shortest path algorithm com...   \n",
       "1    Returns an estimation of the memory consumptio...   \n",
       "2    The Delta Stepping shortest path algorithm com...   \n",
       "3    Returns an estimation of the memory consumptio...   \n",
       "4    The Delta Stepping shortest path algorithm com...   \n",
       "..                                                 ...   \n",
       "333  RETURN gds.util.infinity() - Return infinity a...   \n",
       "334  RETURN gds.util.isFinite(value) - Return true ...   \n",
       "335  RETURN gds.util.isInfinite(value) - Return tru...   \n",
       "336  Returns a node property value from a named in-...   \n",
       "337  RETURN gds.version() | Return the installed gr...   \n",
       "\n",
       "                                             signature       type  \n",
       "0    gds.allShortestPaths.delta.mutate(graphName ::...  procedure  \n",
       "1    gds.allShortestPaths.delta.mutate.estimate(gra...  procedure  \n",
       "2    gds.allShortestPaths.delta.stats(graphName :: ...  procedure  \n",
       "3    gds.allShortestPaths.delta.stats.estimate(grap...  procedure  \n",
       "4    gds.allShortestPaths.delta.stream(graphName ::...  procedure  \n",
       "..                                                 ...        ...  \n",
       "333                    gds.util.infinity() :: (FLOAT?)   function  \n",
       "334  gds.util.isFinite(value :: NUMBER?) :: (BOOLEAN?)   function  \n",
       "335  gds.util.isInfinite(value :: NUMBER?) :: (BOOL...   function  \n",
       "336  gds.util.nodeProperty(graphName :: STRING?, no...   function  \n",
       "337                         gds.version() :: (STRING?)   function  \n",
       "\n",
       "[338 rows x 4 columns]"
      ]
     },
     "execution_count": 5,
     "metadata": {},
     "output_type": "execute_result"
    }
   ],
   "source": [
    "# list all available procedures\n",
    "gds.list()"
   ]
  },
  {
   "cell_type": "markdown",
   "id": "14715e10",
   "metadata": {},
   "source": [
    "## GDS Python Client usage"
   ]
  },
  {
   "cell_type": "raw",
   "id": "b2f7f031",
   "metadata": {},
   "source": [
    "// Cypher\n",
    "CALL gds.graph.project(\n",
    "    \"graphName\", \n",
    "    [\"NodeA\", \"NodeB\"], \n",
    "    {\n",
    "        LINK: {\n",
    "            orientation: \"UNDIRECTED\", \n",
    "            properties: [\n",
    "                {\n",
    "                    weight: {\n",
    "                        defaultValue: 1.0\n",
    "                    }\n",
    "                }\n",
    "            ]\n",
    "        }\n",
    "    }\n",
    ")"
   ]
  },
  {
   "cell_type": "raw",
   "id": "6d2e8aaa",
   "metadata": {},
   "source": [
    "# Python\n",
    "gds.graph.project(\n",
    "    \"graphName\", \n",
    "    [\"NodeA\", \"NodeB\"], \n",
    "    {\n",
    "        \"LINK\": {\n",
    "            \"orientation\": \"UNDIRECTED\", \n",
    "            \"properties\": [\n",
    "                {\n",
    "                    \"weight\": {\n",
    "                        \"defaultValue\": 1.0\n",
    "                    }\n",
    "                }\n",
    "            ]\n",
    "        }\n",
    "    }\n",
    ")"
   ]
  },
  {
   "cell_type": "markdown",
   "id": "74442a01",
   "metadata": {},
   "source": [
    "## Creating a projected graph from Python\n"
   ]
  },
  {
   "cell_type": "code",
   "execution_count": 6,
   "id": "d83afca6",
   "metadata": {},
   "outputs": [],
   "source": [
    "projected_graph, projected_graph_infos = gds.graph.project(\n",
    "    \"pgraphB\",   # projected graph's name\n",
    "    \"NodeB\",     # node projection\n",
    "    {\"LINK\": {\"orientation\": \"UNDIRECTED\"}}   # relationship projection\n",
    ")"
   ]
  },
  {
   "cell_type": "code",
   "execution_count": 7,
   "id": "2769a3ba",
   "metadata": {},
   "outputs": [
    {
     "data": {
      "text/plain": [
       "<graphdatascience.graph.graph_object.Graph at 0x7f6714321c90>"
      ]
     },
     "execution_count": 7,
     "metadata": {},
     "output_type": "execute_result"
    }
   ],
   "source": [
    "projected_graph"
   ]
  },
  {
   "cell_type": "code",
   "execution_count": 14,
   "id": "ea63525b",
   "metadata": {},
   "outputs": [
    {
     "data": {
      "text/html": [
       "<div>\n",
       "<style scoped>\n",
       "    .dataframe tbody tr th:only-of-type {\n",
       "        vertical-align: middle;\n",
       "    }\n",
       "\n",
       "    .dataframe tbody tr th {\n",
       "        vertical-align: top;\n",
       "    }\n",
       "\n",
       "    .dataframe thead th {\n",
       "        text-align: right;\n",
       "    }\n",
       "</style>\n",
       "<table border=\"1\" class=\"dataframe\">\n",
       "  <thead>\n",
       "    <tr style=\"text-align: right;\">\n",
       "      <th></th>\n",
       "      <th>0</th>\n",
       "    </tr>\n",
       "  </thead>\n",
       "  <tbody>\n",
       "    <tr>\n",
       "      <th>nodeProjection</th>\n",
       "      <td>{'NodeB': {'label': 'NodeB', 'properties': {}}}</td>\n",
       "    </tr>\n",
       "    <tr>\n",
       "      <th>relationshipProjection</th>\n",
       "      <td>{'LINK': {'orientation': 'UNDIRECTED', 'aggregation': 'DEFAULT', 'type': 'LINK', 'properties': {}}}</td>\n",
       "    </tr>\n",
       "    <tr>\n",
       "      <th>graphName</th>\n",
       "      <td>pgraphB</td>\n",
       "    </tr>\n",
       "    <tr>\n",
       "      <th>nodeCount</th>\n",
       "      <td>800</td>\n",
       "    </tr>\n",
       "    <tr>\n",
       "      <th>relationshipCount</th>\n",
       "      <td>41454</td>\n",
       "    </tr>\n",
       "    <tr>\n",
       "      <th>projectMillis</th>\n",
       "      <td>8</td>\n",
       "    </tr>\n",
       "  </tbody>\n",
       "</table>\n",
       "</div>"
      ],
      "text/plain": [
       "                                                                                                                          0\n",
       "nodeProjection                                                              {'NodeB': {'label': 'NodeB', 'properties': {}}}\n",
       "relationshipProjection  {'LINK': {'orientation': 'UNDIRECTED', 'aggregation': 'DEFAULT', 'type': 'LINK', 'properties': {}}}\n",
       "graphName                                                                                                           pgraphB\n",
       "nodeCount                                                                                                               800\n",
       "relationshipCount                                                                                                     41454\n",
       "projectMillis                                                                                                             8"
      ]
     },
     "execution_count": 14,
     "metadata": {},
     "output_type": "execute_result"
    }
   ],
   "source": [
    "# just transforming to dataframe for nicer display\n",
    "projected_graph_infos.to_frame()"
   ]
  },
  {
   "cell_type": "code",
   "execution_count": 9,
   "id": "873d4eaa",
   "metadata": {},
   "outputs": [
    {
     "data": {
      "text/plain": [
       "('pgraphB', 800, 41454)"
      ]
     },
     "execution_count": 9,
     "metadata": {},
     "output_type": "execute_result"
    }
   ],
   "source": [
    "projected_graph.name(), projected_graph.node_count(), projected_graph.relationship_count()"
   ]
  },
  {
   "cell_type": "code",
   "execution_count": 10,
   "id": "ade35ab0",
   "metadata": {},
   "outputs": [
    {
     "data": {
      "text/html": [
       "<div>\n",
       "<style scoped>\n",
       "    .dataframe tbody tr th:only-of-type {\n",
       "        vertical-align: middle;\n",
       "    }\n",
       "\n",
       "    .dataframe tbody tr th {\n",
       "        vertical-align: top;\n",
       "    }\n",
       "\n",
       "    .dataframe thead th {\n",
       "        text-align: right;\n",
       "    }\n",
       "</style>\n",
       "<table border=\"1\" class=\"dataframe\">\n",
       "  <thead>\n",
       "    <tr style=\"text-align: right;\">\n",
       "      <th></th>\n",
       "      <th>degreeDistribution</th>\n",
       "      <th>graphName</th>\n",
       "      <th>database</th>\n",
       "      <th>memoryUsage</th>\n",
       "      <th>sizeInBytes</th>\n",
       "      <th>nodeCount</th>\n",
       "      <th>relationshipCount</th>\n",
       "      <th>configuration</th>\n",
       "      <th>density</th>\n",
       "      <th>creationTime</th>\n",
       "      <th>modificationTime</th>\n",
       "      <th>schema</th>\n",
       "    </tr>\n",
       "  </thead>\n",
       "  <tbody>\n",
       "    <tr>\n",
       "      <th>0</th>\n",
       "      <td>{'p99': 89, 'min': 11, 'max': 97, 'mean': 51.8...</td>\n",
       "      <td>pgraphB</td>\n",
       "      <td>neo4j</td>\n",
       "      <td>317 KiB</td>\n",
       "      <td>325464</td>\n",
       "      <td>800</td>\n",
       "      <td>41454</td>\n",
       "      <td>{'relationshipProjection': {'LINK': {'orientat...</td>\n",
       "      <td>0.064853</td>\n",
       "      <td>2022-08-19T18:12:43.259477000+02:00</td>\n",
       "      <td>2022-08-19T18:12:43.267583000+02:00</td>\n",
       "      <td>{'graphProperties': {}, 'relationships': {'LIN...</td>\n",
       "    </tr>\n",
       "  </tbody>\n",
       "</table>\n",
       "</div>"
      ],
      "text/plain": [
       "                                  degreeDistribution graphName database  \\\n",
       "0  {'p99': 89, 'min': 11, 'max': 97, 'mean': 51.8...   pgraphB    neo4j   \n",
       "\n",
       "  memoryUsage  sizeInBytes  nodeCount  relationshipCount  \\\n",
       "0     317 KiB       325464        800              41454   \n",
       "\n",
       "                                       configuration   density  \\\n",
       "0  {'relationshipProjection': {'LINK': {'orientat...  0.064853   \n",
       "\n",
       "                          creationTime                     modificationTime  \\\n",
       "0  2022-08-19T18:12:43.259477000+02:00  2022-08-19T18:12:43.267583000+02:00   \n",
       "\n",
       "                                              schema  \n",
       "0  {'graphProperties': {}, 'relationships': {'LIN...  "
      ]
     },
     "execution_count": 10,
     "metadata": {},
     "output_type": "execute_result"
    }
   ],
   "source": [
    "# list all available projected graphs\n",
    "gds.graph.list()"
   ]
  },
  {
   "cell_type": "code",
   "execution_count": 11,
   "id": "9ba82c8c",
   "metadata": {},
   "outputs": [
    {
     "data": {
      "text/plain": [
       "'pgraphB'"
      ]
     },
     "execution_count": 11,
     "metadata": {},
     "output_type": "execute_result"
    }
   ],
   "source": [
    "# get a projected graph object from its name\n",
    "G = gds.graph.get(\"pgraphB\")\n",
    "G.name()"
   ]
  },
  {
   "cell_type": "code",
   "execution_count": 12,
   "id": "04395a14",
   "metadata": {},
   "outputs": [],
   "source": [
    "# drop an existing projected graph with same name as G\n",
    "# gds.graph.drop(G)\n",
    "# WARNING: will fail if G.name() is not present in the graph catalog"
   ]
  },
  {
   "cell_type": "code",
   "execution_count": null,
   "id": "596584a8",
   "metadata": {},
   "outputs": [],
   "source": []
  }
 ],
 "metadata": {
  "kernelspec": {
   "display_name": "Python 3 (ipykernel)",
   "language": "python",
   "name": "python3"
  },
  "language_info": {
   "codemirror_mode": {
    "name": "ipython",
    "version": 3
   },
   "file_extension": ".py",
   "mimetype": "text/x-python",
   "name": "python",
   "nbconvert_exporter": "python",
   "pygments_lexer": "ipython3",
   "version": "3.10.4"
  }
 },
 "nbformat": 4,
 "nbformat_minor": 5
}
