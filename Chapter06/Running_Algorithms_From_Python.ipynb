{
 "cells": [
  {
   "cell_type": "markdown",
   "id": "72a34c99",
   "metadata": {},
   "source": [
    "# Running a GDS algorithm from Python"
   ]
  },
  {
   "cell_type": "code",
   "execution_count": 1,
   "id": "9d94c8af",
   "metadata": {},
   "outputs": [],
   "source": [
    "# hack to be able to import functions from utils\n",
    "import sys\n",
    "import os\n",
    "sys.path.append(os.path.join(os.curdir, \"..\"))\n",
    "# sys.path"
   ]
  },
  {
   "cell_type": "code",
   "execution_count": 2,
   "id": "4b0a5820",
   "metadata": {},
   "outputs": [],
   "source": [
    "from graphdatascience import GraphDataScience\n",
    "from utils import create_projected_graph, plot_degree_distribution"
   ]
  },
  {
   "cell_type": "code",
   "execution_count": 3,
   "id": "fe0084cc",
   "metadata": {},
   "outputs": [],
   "source": [
    "gds = GraphDataScience(\"bolt://localhost:7687\", auth=(\"neo4j\", \"<PASSWORD>\"))"
   ]
  },
  {
   "cell_type": "code",
   "execution_count": 4,
   "id": "5e6f0514",
   "metadata": {},
   "outputs": [
    {
     "data": {
      "text/plain": [
       "<graphdatascience.graph.graph_object.Graph at 0x7f210dacb070>"
      ]
     },
     "execution_count": 4,
     "metadata": {},
     "output_type": "execute_result"
    }
   ],
   "source": [
    "projected_graph_object = create_projected_graph(\n",
    "    gds,\n",
    "    graph_name=\"pgraphB\",\n",
    "    node_spec=\"NodeB\",  \n",
    "    relationship_spec={\"LINK\": {\"orientation\": \"UNDIRECTED\"}}\n",
    ")\n",
    "projected_graph_object"
   ]
  },
  {
   "cell_type": "markdown",
   "id": "5feeb91b",
   "metadata": {},
   "source": [
    "## Degree algorithm in write mode"
   ]
  },
  {
   "cell_type": "code",
   "execution_count": 5,
   "id": "3eea72a9",
   "metadata": {},
   "outputs": [
    {
     "data": {
      "text/plain": [
       "nodePropertiesWritten                                                   800\n",
       "centralityDistribution    {'p99': 89.00042724609375, 'min': 11.0, 'max':...\n",
       "writeMillis                                                               3\n",
       "postProcessingMillis                                                      7\n",
       "preProcessingMillis                                                       0\n",
       "computeMillis                                                             0\n",
       "configuration             {'jobId': '03b9f802-83fe-4839-aac5-9d01035fb75...\n",
       "Name: 0, dtype: object"
      ]
     },
     "execution_count": 5,
     "metadata": {},
     "output_type": "execute_result"
    }
   ],
   "source": [
    "gds.degree.write(\n",
    "    projected_graph_object,\n",
    "    writeProperty=\"degree\"\n",
    ")"
   ]
  },
  {
   "cell_type": "code",
   "execution_count": 6,
   "id": "299e0dd5",
   "metadata": {},
   "outputs": [
    {
     "data": {
      "text/html": [
       "<div>\n",
       "<style scoped>\n",
       "    .dataframe tbody tr th:only-of-type {\n",
       "        vertical-align: middle;\n",
       "    }\n",
       "\n",
       "    .dataframe tbody tr th {\n",
       "        vertical-align: top;\n",
       "    }\n",
       "\n",
       "    .dataframe thead th {\n",
       "        text-align: right;\n",
       "    }\n",
       "</style>\n",
       "<table border=\"1\" class=\"dataframe\">\n",
       "  <thead>\n",
       "    <tr style=\"text-align: right;\">\n",
       "      <th></th>\n",
       "      <th>node_id</th>\n",
       "      <th>degree</th>\n",
       "    </tr>\n",
       "  </thead>\n",
       "  <tbody>\n",
       "    <tr>\n",
       "      <th>0</th>\n",
       "      <td>0</td>\n",
       "      <td>25.0</td>\n",
       "    </tr>\n",
       "    <tr>\n",
       "      <th>1</th>\n",
       "      <td>1</td>\n",
       "      <td>25.0</td>\n",
       "    </tr>\n",
       "    <tr>\n",
       "      <th>2</th>\n",
       "      <td>2</td>\n",
       "      <td>23.0</td>\n",
       "    </tr>\n",
       "    <tr>\n",
       "      <th>3</th>\n",
       "      <td>3</td>\n",
       "      <td>25.0</td>\n",
       "    </tr>\n",
       "    <tr>\n",
       "      <th>4</th>\n",
       "      <td>4</td>\n",
       "      <td>30.0</td>\n",
       "    </tr>\n",
       "    <tr>\n",
       "      <th>5</th>\n",
       "      <td>5</td>\n",
       "      <td>30.0</td>\n",
       "    </tr>\n",
       "    <tr>\n",
       "      <th>6</th>\n",
       "      <td>6</td>\n",
       "      <td>24.0</td>\n",
       "    </tr>\n",
       "    <tr>\n",
       "      <th>7</th>\n",
       "      <td>7</td>\n",
       "      <td>23.0</td>\n",
       "    </tr>\n",
       "    <tr>\n",
       "      <th>8</th>\n",
       "      <td>8</td>\n",
       "      <td>29.0</td>\n",
       "    </tr>\n",
       "    <tr>\n",
       "      <th>9</th>\n",
       "      <td>9</td>\n",
       "      <td>29.0</td>\n",
       "    </tr>\n",
       "  </tbody>\n",
       "</table>\n",
       "</div>"
      ],
      "text/plain": [
       "   node_id  degree\n",
       "0        0    25.0\n",
       "1        1    25.0\n",
       "2        2    23.0\n",
       "3        3    25.0\n",
       "4        4    30.0\n",
       "5        5    30.0\n",
       "6        6    24.0\n",
       "7        7    23.0\n",
       "8        8    29.0\n",
       "9        9    29.0"
      ]
     },
     "execution_count": 6,
     "metadata": {},
     "output_type": "execute_result"
    }
   ],
   "source": [
    "degrees = gds.run_cypher(\"\"\"\n",
    "MATCH (n:NodeB)\n",
    "RETURN n.id as node_id, n.degree as degree\n",
    "\"\"\")\n",
    "degrees.head(10)"
   ]
  },
  {
   "cell_type": "markdown",
   "id": "48a4980d",
   "metadata": {},
   "source": [
    "## Degree algorithm in stream mode"
   ]
  },
  {
   "cell_type": "code",
   "execution_count": 7,
   "id": "e1650ce9",
   "metadata": {},
   "outputs": [
    {
     "data": {
      "text/html": [
       "<div>\n",
       "<style scoped>\n",
       "    .dataframe tbody tr th:only-of-type {\n",
       "        vertical-align: middle;\n",
       "    }\n",
       "\n",
       "    .dataframe tbody tr th {\n",
       "        vertical-align: top;\n",
       "    }\n",
       "\n",
       "    .dataframe thead th {\n",
       "        text-align: right;\n",
       "    }\n",
       "</style>\n",
       "<table border=\"1\" class=\"dataframe\">\n",
       "  <thead>\n",
       "    <tr style=\"text-align: right;\">\n",
       "      <th></th>\n",
       "      <th>nodeId</th>\n",
       "      <th>score</th>\n",
       "    </tr>\n",
       "  </thead>\n",
       "  <tbody>\n",
       "    <tr>\n",
       "      <th>0</th>\n",
       "      <td>2001</td>\n",
       "      <td>25.0</td>\n",
       "    </tr>\n",
       "    <tr>\n",
       "      <th>1</th>\n",
       "      <td>2002</td>\n",
       "      <td>25.0</td>\n",
       "    </tr>\n",
       "    <tr>\n",
       "      <th>2</th>\n",
       "      <td>2003</td>\n",
       "      <td>23.0</td>\n",
       "    </tr>\n",
       "    <tr>\n",
       "      <th>3</th>\n",
       "      <td>2004</td>\n",
       "      <td>25.0</td>\n",
       "    </tr>\n",
       "    <tr>\n",
       "      <th>4</th>\n",
       "      <td>2005</td>\n",
       "      <td>30.0</td>\n",
       "    </tr>\n",
       "    <tr>\n",
       "      <th>...</th>\n",
       "      <td>...</td>\n",
       "      <td>...</td>\n",
       "    </tr>\n",
       "    <tr>\n",
       "      <th>795</th>\n",
       "      <td>2796</td>\n",
       "      <td>76.0</td>\n",
       "    </tr>\n",
       "    <tr>\n",
       "      <th>796</th>\n",
       "      <td>2797</td>\n",
       "      <td>63.0</td>\n",
       "    </tr>\n",
       "    <tr>\n",
       "      <th>797</th>\n",
       "      <td>2798</td>\n",
       "      <td>64.0</td>\n",
       "    </tr>\n",
       "    <tr>\n",
       "      <th>798</th>\n",
       "      <td>2799</td>\n",
       "      <td>60.0</td>\n",
       "    </tr>\n",
       "    <tr>\n",
       "      <th>799</th>\n",
       "      <td>2800</td>\n",
       "      <td>81.0</td>\n",
       "    </tr>\n",
       "  </tbody>\n",
       "</table>\n",
       "<p>800 rows × 2 columns</p>\n",
       "</div>"
      ],
      "text/plain": [
       "     nodeId  score\n",
       "0      2001   25.0\n",
       "1      2002   25.0\n",
       "2      2003   23.0\n",
       "3      2004   25.0\n",
       "4      2005   30.0\n",
       "..      ...    ...\n",
       "795    2796   76.0\n",
       "796    2797   63.0\n",
       "797    2798   64.0\n",
       "798    2799   60.0\n",
       "799    2800   81.0\n",
       "\n",
       "[800 rows x 2 columns]"
      ]
     },
     "execution_count": 7,
     "metadata": {},
     "output_type": "execute_result"
    }
   ],
   "source": [
    "degrees = gds.degree.stream(\n",
    "    projected_graph_object,\n",
    ")\n",
    "degrees"
   ]
  },
  {
   "cell_type": "code",
   "execution_count": 8,
   "id": "9aa071a3",
   "metadata": {},
   "outputs": [
    {
     "data": {
      "text/plain": [
       "1"
      ]
     },
     "execution_count": 8,
     "metadata": {},
     "output_type": "execute_result"
    }
   ],
   "source": [
    "row = degrees.iloc[1]\n",
    "node = gds.util.asNode(row[\"nodeId\"])\n",
    "node.get(\"id\")"
   ]
  },
  {
   "cell_type": "code",
   "execution_count": 9,
   "id": "56a9508b",
   "metadata": {},
   "outputs": [
    {
     "data": {
      "text/plain": [
       "neo4j.graph.Node"
      ]
     },
     "execution_count": 9,
     "metadata": {},
     "output_type": "execute_result"
    }
   ],
   "source": [
    "type(node)"
   ]
  },
  {
   "cell_type": "code",
   "execution_count": 10,
   "id": "1777b9ed",
   "metadata": {},
   "outputs": [
    {
     "data": {
      "text/html": [
       "<div>\n",
       "<style scoped>\n",
       "    .dataframe tbody tr th:only-of-type {\n",
       "        vertical-align: middle;\n",
       "    }\n",
       "\n",
       "    .dataframe tbody tr th {\n",
       "        vertical-align: top;\n",
       "    }\n",
       "\n",
       "    .dataframe thead th {\n",
       "        text-align: right;\n",
       "    }\n",
       "</style>\n",
       "<table border=\"1\" class=\"dataframe\">\n",
       "  <thead>\n",
       "    <tr style=\"text-align: right;\">\n",
       "      <th></th>\n",
       "      <th>nodeId</th>\n",
       "      <th>score</th>\n",
       "      <th>id</th>\n",
       "    </tr>\n",
       "  </thead>\n",
       "  <tbody>\n",
       "    <tr>\n",
       "      <th>0</th>\n",
       "      <td>2001</td>\n",
       "      <td>25.0</td>\n",
       "      <td>0</td>\n",
       "    </tr>\n",
       "    <tr>\n",
       "      <th>1</th>\n",
       "      <td>2002</td>\n",
       "      <td>25.0</td>\n",
       "      <td>1</td>\n",
       "    </tr>\n",
       "    <tr>\n",
       "      <th>2</th>\n",
       "      <td>2003</td>\n",
       "      <td>23.0</td>\n",
       "      <td>2</td>\n",
       "    </tr>\n",
       "    <tr>\n",
       "      <th>3</th>\n",
       "      <td>2004</td>\n",
       "      <td>25.0</td>\n",
       "      <td>3</td>\n",
       "    </tr>\n",
       "    <tr>\n",
       "      <th>4</th>\n",
       "      <td>2005</td>\n",
       "      <td>30.0</td>\n",
       "      <td>4</td>\n",
       "    </tr>\n",
       "  </tbody>\n",
       "</table>\n",
       "</div>"
      ],
      "text/plain": [
       "   nodeId  score  id\n",
       "0    2001   25.0   0\n",
       "1    2002   25.0   1\n",
       "2    2003   23.0   2\n",
       "3    2004   25.0   3\n",
       "4    2005   30.0   4"
      ]
     },
     "execution_count": 10,
     "metadata": {},
     "output_type": "execute_result"
    }
   ],
   "source": [
    "degrees[\"id\"] = [n.get(\"id\") for n in gds.util.asNodes(degrees['nodeId'].to_list())]\n",
    "degrees.head()"
   ]
  },
  {
   "cell_type": "code",
   "execution_count": 11,
   "id": "b075efbf",
   "metadata": {},
   "outputs": [
    {
     "data": {
      "image/png": "[encoded data removed]",
      "text/plain": [
       "<Figure size 864x576 with 2 Axes>"
      ]
     },
     "metadata": {
      "needs_background": "light"
     },
     "output_type": "display_data"
    }
   ],
   "source": [
    "plot_degree_distribution(degrees.score);"
   ]
  },
  {
   "cell_type": "code",
   "execution_count": null,
   "id": "67965ce1",
   "metadata": {},
   "outputs": [],
   "source": []
  }
 ],
 "metadata": {
  "kernelspec": {
   "display_name": "Python 3 (ipykernel)",
   "language": "python",
   "name": "python3"
  },
  "language_info": {
   "codemirror_mode": {
    "name": "ipython",
    "version": 3
   },
   "file_extension": ".py",
   "mimetype": "text/x-python",
   "name": "python",
   "nbconvert_exporter": "python",
   "pygments_lexer": "ipython3",
   "version": "3.10.4"
  }
 },
 "nbformat": 4,
 "nbformat_minor": 5
}
